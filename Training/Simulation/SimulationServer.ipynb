{
 "cells": [
  {
   "cell_type": "markdown",
   "metadata": {},
   "source": [
    "# Using the AWRA MS to run a Simulation of the AWRA-L model\n",
    "There are two ways to run a simulation of the AWRA-L model in the AWRA MS\n",
    "* Using the On-Demand Simulator\n",
    "* Using the Server Simulator\n",
    "\n",
    "\n",
    "## Server Simulation"
   ]
  },
  {
   "cell_type": "markdown",
   "metadata": {},
   "source": [
    "\n",
    "The Server Simulation is set up very similarly to the On Demand Simulator, except it needs to write the outputs to disk as the model run progresses, as it does not hold the results in memory. This allows the Server Simulator to be the more efficient choice for longer runs over a larger extent. The same output and input maps can be used for either simulator."
   ]
  },
  {
   "cell_type": "markdown",
   "metadata": {},
   "source": [
    "This notebook goes through the following steps:\n",
    "\n",
    "1. Import required libraries\n",
    "2. Modify the model configuration <br>\n",
    " 2.1 Read in the default configuration<br>\n",
    " 2.2 Change forcing data<br>\n",
    " 2.3 Create model output map and add nodes for saving some model outputs to netcdf files<br>\n",
    " 2.4 Specify period and extents<br>\n",
    "3. Put model run specification together<br>\n",
    " 3.1 Instantiate the simulator<br>\n",
    " 3.2 Run the model<br>\n",
    "4. Visualise outputs<br>\n",
    " 4.1 Import libraries<br>\n",
    " 4.2 Load model outputs<br>\n",
    " 4.3 Look at time slice<br>\n",
    "5. Further simulation functionality<br>\n",
    " 5.1 Change initial states<br>"
   ]
  },
  {
   "cell_type": "markdown",
   "metadata": {},
   "source": [
    "### 1. Import required libraries"
   ]
  },
  {
   "cell_type": "code",
   "execution_count": null,
   "metadata": {},
   "outputs": [],
   "source": [
    "from awrams.simulation import server\n",
    "from awrams.utils import config_manager\n",
    "from awrams.simulation.support import build_output_mapping\n",
    "from awrams.utils.nodegraph import nodes\n",
    "from awrams.utils.io.data_mapping import SplitFileManager\n",
    "\n",
    "from awrams.utils import extents\n",
    "from awrams.utils import datetools"
   ]
  },
  {
   "cell_type": "code",
   "execution_count": null,
   "metadata": {},
   "outputs": [],
   "source": [
    "model_profile = config_manager.get_model_profile('awral','v6_default')\n"
   ]
  },
  {
   "cell_type": "markdown",
   "metadata": {},
   "source": [
    "### 2. Modify the model configuration"
   ]
  },
  {
   "cell_type": "markdown",
   "metadata": {},
   "source": [
    "#### 2.1 Read in  default configuration"
   ]
  },
  {
   "cell_type": "code",
   "execution_count": null,
   "metadata": {},
   "outputs": [],
   "source": [
    "input_map = model_profile.get_input_mapping()"
   ]
  },
  {
   "cell_type": "code",
   "execution_count": null,
   "metadata": {},
   "outputs": [],
   "source": [
    "input_map"
   ]
  },
  {
   "cell_type": "markdown",
   "metadata": {},
   "source": [
    "#### 2.3 Create model output map and add nodes for saving some model outputs to netcdf files"
   ]
  },
  {
   "cell_type": "code",
   "execution_count": null,
   "metadata": {},
   "outputs": [],
   "source": [
    "model_settings = model_profile.get_settings()"
   ]
  },
  {
   "cell_type": "code",
   "execution_count": null,
   "metadata": {},
   "outputs": [],
   "source": [
    "# These are the default model outpus\n",
    "# OUTPUTS_AVG : Weighted average of HRU outputs\n",
    "# OUTPUTS_CELL : Cell level outputs (ie processes happening outside of HRU; groundwater store etc)\n",
    "# OUTPUTS_HRU : HRU level outputs (ie separate output per HRU)\n",
    "\n",
    "model_settings.OUTPUTS"
   ]
  },
  {
   "cell_type": "code",
   "execution_count": null,
   "metadata": {},
   "outputs": [],
   "source": [
    "model = model_profile.get_model(model_settings)"
   ]
  },
  {
   "cell_type": "code",
   "execution_count": null,
   "metadata": {},
   "outputs": [],
   "source": [
    "outpath = './results_simserver/'\n",
    "\n",
    "# By default, build_output_mapping will generate files for all outputs - this a lot of data, so usually you will want\n",
    "# to specify which variables to save\n",
    "# Outputs from OUTPUTS_AVG and OUTPUTS_CELL use the same names as in model_settings.OUTPUTS, while OUTPUTS_HRU\n",
    "# has a separate name for each HRU.\n",
    "# Here we save ss and sd as weighted averages, but s0 separately from both HRUs\n",
    "\n",
    "save_vars = ['qtot','ss','sd','s0_hrusr','s0_hrudr']\n",
    "\n",
    "# If you want to reinitialise a run from existing states, they will need to be saved at 64bit resolution.\n",
    "# We will use the 'save_states_freq' argument to create 'snapshots' of states on a monthly basis so you don't have\n",
    "# to write too much data to disk...\n",
    "\n",
    "omap = build_output_mapping(model, outpath, save_vars = save_vars, save_states_freq = 'M')\n",
    "\n",
    "# The updated output map contains write_to_annual_ncfile nodes for the variables we specified above, \n",
    "# as well as write_to_ncfile_snapshot for the states\n",
    "# It's possible to further manipulate this map directly, but in most cases you won't need to\n",
    "\n",
    "omap"
   ]
  },
  {
   "cell_type": "markdown",
   "metadata": {},
   "source": [
    "#### 2.4\tDefine the required period and spatial extent\n",
    "Because it is the Server Simulator the extent can be defined as the full continent which is the default, \n",
    "but for a longer period that one day"
   ]
  },
  {
   "cell_type": "code",
   "execution_count": null,
   "metadata": {},
   "outputs": [],
   "source": [
    "period = datetools.dates('dec 2010 - jan 2011')\n",
    "edef = extents.get_default_extent()"
   ]
  },
  {
   "cell_type": "markdown",
   "metadata": {},
   "source": [
    "### 3. Put the model run specification together "
   ]
  },
  {
   "cell_type": "markdown",
   "metadata": {},
   "source": [
    "#### 3.1 Instantiate the server simulator"
   ]
  },
  {
   "cell_type": "code",
   "execution_count": null,
   "metadata": {},
   "outputs": [],
   "source": [
    "sim = server.SimulationServer(model)"
   ]
  },
  {
   "cell_type": "markdown",
   "metadata": {},
   "source": [
    "#### 3.2 Run the simulation"
   ]
  },
  {
   "cell_type": "code",
   "execution_count": null,
   "metadata": {},
   "outputs": [],
   "source": [
    "# Run with 'clobber' == True; this will delete all data from previous runs in this folder.\n",
    "# This value is False by default (to avoid destroying data), but we'll turn it on here just in case you've\n",
    "# run the training notebooks previously...\n",
    "\n",
    "sim.run(input_map,omap,period,edef,clobber=True)"
   ]
  },
  {
   "cell_type": "markdown",
   "metadata": {},
   "source": [
    "### 4. Visualise outputs\n",
    "\n",
    "Because ouputs are written out, we can use the process described in the [Visualisation] notebook\n",
    "\n",
    "[Visualisation]: ../Visualisation/Visualisation.ipynb"
   ]
  },
  {
   "cell_type": "markdown",
   "metadata": {},
   "source": [
    "#### 4.1 Import visualisation libraries"
   ]
  },
  {
   "cell_type": "code",
   "execution_count": null,
   "metadata": {},
   "outputs": [],
   "source": [
    "import awrams.visualisation.vis as vis\n",
    "import awrams.visualisation.results as res\n",
    "\n",
    "import awrams.utils.extents as extents\n"
   ]
  },
  {
   "cell_type": "markdown",
   "metadata": {},
   "source": [
    "#### 4.2 Load model outputs"
   ]
  },
  {
   "cell_type": "code",
   "execution_count": null,
   "metadata": {},
   "outputs": [],
   "source": [
    "results = res.load_results('./results_simserver/')"
   ]
  },
  {
   "cell_type": "code",
   "execution_count": null,
   "metadata": {},
   "outputs": [],
   "source": [
    "results.variables"
   ]
  },
  {
   "cell_type": "markdown",
   "metadata": {},
   "source": [
    "#### 4.3 Look at a time slice"
   ]
  },
  {
   "cell_type": "code",
   "execution_count": null,
   "metadata": {},
   "outputs": [],
   "source": [
    "%matplotlib inline"
   ]
  },
  {
   "cell_type": "code",
   "execution_count": null,
   "metadata": {},
   "outputs": [],
   "source": [
    "results[:,'1 jan 2011',:].spatial()"
   ]
  },
  {
   "cell_type": "markdown",
   "metadata": {},
   "source": [
    "### 5. Further simulation functionality\n",
    "\n",
    "These will apply equally to the OnDemand and Server options\n",
    "\n",
    "#### 5.1 How to change the initial states\n"
   ]
  },
  {
   "cell_type": "code",
   "execution_count": null,
   "metadata": {},
   "outputs": [],
   "source": [
    "# For this example we will use the states output from the previous run\n",
    "\n",
    "initial_states_path = './results_simserver/states/'"
   ]
  },
  {
   "cell_type": "code",
   "execution_count": null,
   "metadata": {},
   "outputs": [],
   "source": [
    "# Update our input mapping to use the existing states\n",
    "# init_state_from_ncfile takes an optional date argument; by default it will read the states for the day prior to \n",
    "# the start of the run period, which is equivalent to resuming the run from where it left off..\n",
    "\n",
    "for k in model.get_state_keys():\n",
    "    input_map['init_' + k] = nodes.init_state_from_ncfile(initial_states_path,k+'*.nc',k)"
   ]
  },
  {
   "cell_type": "code",
   "execution_count": null,
   "metadata": {},
   "outputs": [],
   "source": [
    "# Inspect the updated nodes\n",
    "\n",
    "dict([(k,v) for k,v in input_map.items() if k.startswith('init_')])"
   ]
  },
  {
   "cell_type": "code",
   "execution_count": null,
   "metadata": {},
   "outputs": [],
   "source": [
    "# Build a new output map pointing to a different path.  This time we won't bother saving out the states\n",
    "\n",
    "outpath = './results_simserver_initstates/'\n",
    "\n",
    "save_vars = ['qtot','s0_hrusr','s0_hrudr']\n",
    "\n",
    "omap = build_output_mapping(model, outpath, save_vars = save_vars)"
   ]
  },
  {
   "cell_type": "code",
   "execution_count": null,
   "metadata": {},
   "outputs": [],
   "source": [
    "# Change the period so that this sim starts halfway through the previous run; this way we can verify we generate the \n",
    "# same outputs as if we'd done the full run\n",
    "\n",
    "period = datetools.dates('jan 2011 - mar 2011')"
   ]
  },
  {
   "cell_type": "code",
   "execution_count": null,
   "metadata": {},
   "outputs": [],
   "source": [
    "sim = server.SimulationServer(model)\n",
    "\n",
    "sim.run(input_map,omap,period,edef,clobber=True)"
   ]
  },
  {
   "cell_type": "markdown",
   "metadata": {},
   "source": [
    "### Settings states from in-memory data"
   ]
  },
  {
   "cell_type": "code",
   "execution_count": null,
   "metadata": {},
   "outputs": [],
   "source": [
    "# States don't need to be loaded from disk; you can generate them in memory, allowing for custom states etc\n",
    "\n",
    "# In this example we'll read the arrays from the previous states files, but pass in the data in-memory\n",
    "# Obviously this isn't particularly useful by itself, but allows for modification of the data before\n",
    "# it reaches the new simulation...\n",
    "\n",
    "# Specify the day prior to the start of our run period \n",
    "# This is the same date that would be read by default in init_state_from_ncfile\n",
    "state_date = period[0] - 1\n",
    "\n",
    "data_map = {}\n",
    "\n",
    "for k in model.get_state_keys():    \n",
    "    # Open each of our previous states\n",
    "    sfm = SplitFileManager.open_existing(initial_states_path,k+'*.nc',k)\n",
    "    \n",
    "    # Read the data for our specified day, for the full extent\n",
    "    data_map['init_' + k] = sfm.get_data(state_date,edef)\n",
    "    \n",
    "# nodes.init_states_from_dict is a convenience function that updates an input map in place with initial state data\n",
    "# It also takes an extent object as an argument so that it knows which spatial area the data refers to\n",
    "\n",
    "nodes.init_states_from_dict(input_map,data_map,edef)"
   ]
  },
  {
   "cell_type": "code",
   "execution_count": null,
   "metadata": {},
   "outputs": [],
   "source": [
    "# Have a quick look at data for a single cell (200,200)\n",
    "\n",
    "[(k,v.args['data'][200,200]) for k,v in input_map.items() if k.startswith('init_')]"
   ]
  },
  {
   "cell_type": "code",
   "execution_count": null,
   "metadata": {},
   "outputs": [],
   "source": [
    "sim = server.SimulationServer(model)\n",
    "\n",
    "outpath = './results_simserver_initstates_dict/'\n",
    "omap = build_output_mapping(model, outpath, save_vars = save_vars)\n",
    "\n",
    "sim.run(input_map,omap,period,edef)"
   ]
  },
  {
   "cell_type": "markdown",
   "metadata": {},
   "source": [
    "## End notebook"
   ]
  }
 ],
 "metadata": {
  "kernelspec": {
   "display_name": "Python 3",
   "language": "python",
   "name": "python3"
  },
  "language_info": {
   "codemirror_mode": {
    "name": "ipython",
    "version": 3
   },
   "file_extension": ".py",
   "mimetype": "text/x-python",
   "name": "python",
   "nbconvert_exporter": "python",
   "pygments_lexer": "ipython3",
   "version": "3.6.7"
  }
 },
 "nbformat": 4,
 "nbformat_minor": 1
}
