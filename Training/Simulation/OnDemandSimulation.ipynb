{
 "cells": [
  {
   "cell_type": "code",
   "execution_count": null,
   "metadata": {},
   "outputs": [],
   "source": [
    "### uncomment to display figures\n",
    "%matplotlib inline   "
   ]
  },
  {
   "cell_type": "markdown",
   "metadata": {},
   "source": [
    "# Using the AWRA MS to run a Simulation of the AWRA-L model\n",
    "There are two ways to run a simulation of the AWRA-L model in the AWRA MS\n",
    "* Using the On-Demand Simulator\n",
    "* Using the Server Simulator\n",
    "\n",
    "This notebook outlines how to run a basic on-demand AWRA-L simulation and get into more detail about how to change the model configuration (nodegraph) to define the inputs to the simulation.\n",
    "\n",
    "## On-Demand Simulation\n",
    "The AWRA MS On-Demand Simulator is designed to run the model for a few years over a small extent. It allows the user to quickly and efficiently assess the impact of changes made to the model or inputs without the need to write all of the outputs to file. The user can write the results out but it is generally designed to hold the results in memory for visualisation and checking.<br><br>\n",
    "\n",
    "This notebook outlines a basic On-Demand Simulation of the AWRA-L model and go through some of the options and functionality available from the package to modify a model run and inspect the outputs.\n"
   ]
  },
  {
   "cell_type": "markdown",
   "metadata": {},
   "source": [
    "This notebook goes through the following steps:\n",
    "\n",
    "1. Import required libraries\n",
    "2. Quick example: the default model run<br>\n",
    "3. Modifying the model configuration <br>\n",
    " 3.1 Change forcing data<br>\n",
    " 3.2 Change spatial grids<br>\n",
    " 3.3 Change parameter values<br>\n",
    "4. Put model run specification together<br>\n",
    " 4.1 Instantiate the simulator<br>\n",
    " 4.2 Specify period and extents<br>\n",
    " 4.3 Run the model<br>\n",
    "5. Configuring model outputs<br>\n",
    " 5.1 Check what outputs are available<br>\n",
    " 5.2 Add new output<br>\n",
    " 5.3 Save outputs to files<br>\n",
    "6. More examples<br>\n",
    " 6.1 Run over entire continent<br>\n",
    " 6.2 Run with uniform rain<br>\n",
    "7. Exercise"
   ]
  },
  {
   "cell_type": "markdown",
   "metadata": {},
   "source": [
    "### 1. Import required libraries"
   ]
  },
  {
   "cell_type": "code",
   "execution_count": null,
   "metadata": {},
   "outputs": [],
   "source": [
    "## External Python packages\n",
    "\n",
    "import os\n",
    "import numpy as np\n",
    "from matplotlib import pyplot as plt\n",
    "import pandas as pd"
   ]
  },
  {
   "cell_type": "code",
   "execution_count": null,
   "metadata": {},
   "outputs": [],
   "source": [
    "## AWRAMS utilities\n",
    "from awrams.utils import extents\n",
    "from awrams.utils import datetools as dt"
   ]
  },
  {
   "cell_type": "code",
   "execution_count": null,
   "metadata": {},
   "outputs": [],
   "source": [
    "## AWRAMS input nodegraph. The nodegraph is created when building the input mapping\n",
    "from awrams.utils.nodegraph import nodes"
   ]
  },
  {
   "cell_type": "code",
   "execution_count": null,
   "metadata": {},
   "outputs": [],
   "source": [
    "## AWRAMS parameter utilities\n",
    "from awrams.utils import parameters"
   ]
  },
  {
   "cell_type": "code",
   "execution_count": null,
   "metadata": {},
   "outputs": [],
   "source": [
    "## Select simulation option\n",
    "from awrams.simulation import ondemand\n"
   ]
  },
  {
   "cell_type": "code",
   "execution_count": null,
   "metadata": {},
   "outputs": [],
   "source": [
    "## Import the config manager - we'll use this a lot!\n",
    "from awrams.utils import config_manager"
   ]
  },
  {
   "cell_type": "markdown",
   "metadata": {},
   "source": [
    "### 2. Quick example: run the default model and settings\n",
    "\n",
    "Quick example to show you where we are heading"
   ]
  },
  {
   "cell_type": "code",
   "execution_count": null,
   "metadata": {},
   "outputs": [],
   "source": [
    "# The model profile is our entry point into obtaining and configuring information needed for a model run\n",
    "\n",
    "model_profile = config_manager.get_model_profile('awral','v6_default')\n",
    "\n",
    "# The system profile contains non-model-specific information related to the system we are running on, like file paths\n",
    "# The following is equivalent to \n",
    "# sys_profile = config_manager.get_system_profile('default')\n",
    "\n",
    "sys_profile = config_manager.get_system_profile()\n",
    "\n",
    "# Settings are dictionaries of configurable options - you use profiles to access these\n",
    "\n",
    "sys_settings = sys_profile.get_settings()\n",
    "\n",
    "# Model settings uses the system settings dictionary to fill out its paths etc...\n",
    "# You can use defaults, or pass in a sys_settings dict\n",
    "\n",
    "model_settings = model_profile.get_settings(sys_settings)\n"
   ]
  },
  {
   "cell_type": "code",
   "execution_count": null,
   "metadata": {},
   "outputs": [],
   "source": [
    "# The input mapping contains all the data related input configuration for a run (files, parameters, transforms...)\n",
    "\n",
    "input_map = model_profile.get_input_mapping()\n",
    "\n",
    "# If you want to use custom model settings, you can pass this in manually - more on this soon...\n",
    "\n",
    "input_map = model_profile.get_input_mapping(model_settings)\n"
   ]
  },
  {
   "cell_type": "code",
   "execution_count": null,
   "metadata": {},
   "outputs": [],
   "source": [
    "# The model object represents the actual runnable AWRA-L model, rather than abstract configuration information\n",
    "# Again, this uses the model_settings dictionary; if you leave this argument out it will use the defaults\n",
    "\n",
    "model = model_profile.get_model(model_settings)"
   ]
  },
  {
   "cell_type": "code",
   "execution_count": null,
   "metadata": {},
   "outputs": [],
   "source": [
    "sim = ondemand.OnDemandSimulator(model, input_map) # Define a simulator with available params\n",
    "results = sim.run(dt.dates('1 Jan 2010', '2 Jan 2010'), extents.get_default_extent()) # Runs over the whole country for one day"
   ]
  },
  {
   "cell_type": "markdown",
   "metadata": {},
   "source": [
    "### 3. Modifying the model configuration\n"
   ]
  },
  {
   "cell_type": "markdown",
   "metadata": {},
   "source": [
    "#### 3.1 Examine the  default input nodegraph"
   ]
  },
  {
   "cell_type": "code",
   "execution_count": null,
   "metadata": {},
   "outputs": [],
   "source": [
    "# Get our default input map again\n",
    "\n",
    "input_map = model_profile.get_input_mapping()"
   ]
  },
  {
   "cell_type": "code",
   "execution_count": null,
   "metadata": {},
   "outputs": [],
   "source": [
    "# What's in the map?\n",
    "\n",
    "list(input_map)"
   ]
  },
  {
   "cell_type": "code",
   "execution_count": null,
   "metadata": {},
   "outputs": [],
   "source": [
    "input_map['hveg_hrusr']"
   ]
  },
  {
   "cell_type": "markdown",
   "metadata": {},
   "source": [
    "Changing the inputs to the model can be done by operating on the input map. <br> This can be done by changing properties of the existing items, inserting new values, or by using functions that transform the map"
   ]
  },
  {
   "cell_type": "markdown",
   "metadata": {},
   "source": [
    "#### 3.1 Change forcing inputs"
   ]
  },
  {
   "cell_type": "code",
   "execution_count": null,
   "metadata": {},
   "outputs": [],
   "source": [
    "# The system settings dictionary contains several preconfigured climate datasets\n",
    "# Have a look at the default config file for examples of how these are laid out; this is a useful template if you\n",
    "# want to add your own later on\n",
    "\n",
    "print(list(sys_settings.CLIMATE_DATASETS))"
   ]
  },
  {
   "cell_type": "code",
   "execution_count": null,
   "metadata": {},
   "outputs": [],
   "source": [
    "# Let's have a look at the training dataset\n",
    "\n",
    "sys_settings.CLIMATE_DATASETS['TRAINING']"
   ]
  },
  {
   "cell_type": "code",
   "execution_count": null,
   "metadata": {},
   "outputs": [],
   "source": [
    "# As you can see, this is identical to the model defaults\n",
    "# This is because we used sys_settings.CLIMATE_DATASETS['TRAINING'] in the default model config; ie there is no\n",
    "# need to manually copy these paths, just refer to the existing dataset\n",
    "\n",
    "model_settings.CLIMATE_DATASET"
   ]
  },
  {
   "cell_type": "code",
   "execution_count": null,
   "metadata": {},
   "outputs": [],
   "source": [
    "# You can see these reflected in the forcing items of the input map; these are appended with '_f'\n",
    "# to indicate that the forcing data is sourced from a file (this is just a convention, but worth remembering)\n",
    "\n",
    "input_map['tmax_f']"
   ]
  },
  {
   "cell_type": "code",
   "execution_count": null,
   "metadata": {},
   "outputs": [],
   "source": [
    "# It's easy to change datasets to any of the defaults, or you can construct your own as a dictionary\n",
    "\n",
    "model_settings.CLIMATE_DATASET = sys_settings.CLIMATE_DATASETS['TESTING']\n",
    "\n",
    "# Remember to regenerate the input map using your updated settings...\n",
    "\n",
    "input_map = model_profile.get_input_mapping(model_settings)\n",
    "\n",
    "# The forcing nodes reflect the updated paths\n",
    "\n",
    "input_map['tmax_f']"
   ]
  },
  {
   "cell_type": "code",
   "execution_count": null,
   "metadata": {},
   "outputs": [],
   "source": [
    "# Alternatively, you can operate directly on the input map itself.  This is convenient for quickly pointing to new data\n",
    "# without editing config files\n",
    "\n",
    "input_map['tmax_f'] = nodes.forcing_from_ncfiles(model_settings.CLIMATE_DATASET.FORCING.PATH,\\\n",
    "                                                 model_settings.CLIMATE_DATASET.FORCING.MAPPING['tmax'][0],\n",
    "                                                model_settings.CLIMATE_DATASET.FORCING.MAPPING['tmax'][1])"
   ]
  },
  {
   "cell_type": "markdown",
   "metadata": {},
   "source": [
    "#### 3.2 Changing the spatial input grids"
   ]
  },
  {
   "cell_type": "raw",
   "metadata": {},
   "source": [
    "## Example. Not run"
   ]
  },
  {
   "cell_type": "code",
   "execution_count": null,
   "metadata": {},
   "outputs": [],
   "source": [
    "model_settings.SPATIAL_FILE"
   ]
  },
  {
   "cell_type": "code",
   "execution_count": null,
   "metadata": {},
   "outputs": [],
   "source": [
    "import h5py\n",
    "\n",
    "h = h5py.File(model_settings.SPATIAL_FILE,'r')"
   ]
  },
  {
   "cell_type": "code",
   "execution_count": null,
   "metadata": {},
   "outputs": [],
   "source": [
    "list(h['parameters'].keys())"
   ]
  },
  {
   "cell_type": "code",
   "execution_count": null,
   "metadata": {},
   "outputs": [],
   "source": [
    "kdsat_grid = h['parameters']['kdsat'][:]"
   ]
  },
  {
   "cell_type": "code",
   "execution_count": null,
   "metadata": {},
   "outputs": [],
   "source": [
    "im = plt.imshow(kdsat_grid) \n",
    "plt.title(\"kdsat\")\n",
    "plt.colorbar(im)\n",
    "\n",
    "#Don't panic at the disco effect. Grids have been infilled to cater for potential edge effects"
   ]
  },
  {
   "cell_type": "code",
   "execution_count": null,
   "metadata": {},
   "outputs": [],
   "source": [
    "# Couple of ways you can look at the mapping for a particular grid\n",
    "input_map['kdsat_grid']"
   ]
  },
  {
   "cell_type": "code",
   "execution_count": null,
   "metadata": {},
   "outputs": [],
   "source": [
    "# If you want to modify any of the arguments\n",
    "input_map.kdsat_grid.args"
   ]
  },
  {
   "cell_type": "code",
   "execution_count": null,
   "metadata": {},
   "outputs": [],
   "source": [
    "# If you want to modify any of the arguments\n",
    "input_map.kdsat_grid.args['filename']"
   ]
  },
  {
   "cell_type": "code",
   "execution_count": null,
   "metadata": {},
   "outputs": [],
   "source": [
    "# The nodes library allows you to point to different grid file (.nc, .flt, anything recognised by gdal) to load up the data\n",
    "# input_map.f_tree_grid = nodes.spatial_from_file(PATH_TO_NEW_FTREE_FILE)"
   ]
  },
  {
   "cell_type": "markdown",
   "metadata": {},
   "source": [
    "#### 3.3 How to change a parameter"
   ]
  },
  {
   "cell_type": "code",
   "execution_count": null,
   "metadata": {},
   "outputs": [],
   "source": [
    "# In most cases there are convenience functions for dealing with common tasks\n",
    "# Use the parameters module we imported from awrams.utils earlier;\n",
    "# The following Dataframe uses a standard layout than many parts of AWRAMS understands\n",
    "\n",
    "param_df = parameters.input_map_to_param_df(input_map)\n",
    "\n",
    "param_df"
   ]
  },
  {
   "cell_type": "code",
   "execution_count": null,
   "metadata": {},
   "outputs": [],
   "source": [
    "# Change some values in the DataFrame\n",
    "\n",
    "# Set the value of a single parameter\n",
    "param_df.set_value('ssmax_scale','value',2.1)\n",
    "\n",
    "# Change the 'fixed' property to True - this means the calibration system will now use \n",
    "# this value directly ie. it is fixed rather than calibrated\n",
    "\n",
    "param_df.set_value('ssmax_scale','fixed',True)\n",
    "\n",
    "param_df.loc['ssmax_scale']"
   ]
  },
  {
   "cell_type": "code",
   "execution_count": null,
   "metadata": {},
   "outputs": [],
   "source": [
    "# So far we've just been modifying a DataFrame; update the input map to tell AWRAMS to use the new values\n",
    "\n",
    "input_map = parameters.param_df_to_mapping(param_df,input_map)\n",
    "\n",
    "input_map.ssmax_scale"
   ]
  },
  {
   "cell_type": "code",
   "execution_count": null,
   "metadata": {},
   "outputs": [],
   "source": [
    "# For simple changes, it may be easier to operate directly on the mapping..\n",
    "\n",
    "input_map.ssmax_scale.args"
   ]
  },
  {
   "cell_type": "code",
   "execution_count": null,
   "metadata": {},
   "outputs": [],
   "source": [
    "input_map.ssmax_scale.args.value = 1.95"
   ]
  },
  {
   "cell_type": "markdown",
   "metadata": {},
   "source": [
    "### 4. Put model run specification together\n",
    "\n",
    "Like we did at the start for the default version"
   ]
  },
  {
   "cell_type": "markdown",
   "metadata": {},
   "source": [
    "#### 4.1\tInstantiate the simulator"
   ]
  },
  {
   "cell_type": "code",
   "execution_count": null,
   "metadata": {},
   "outputs": [],
   "source": [
    "sim = ondemand.OnDemandSimulator(model,input_map)"
   ]
  },
  {
   "cell_type": "markdown",
   "metadata": {},
   "source": [
    "#### 4.2\tDefine the required period and spatial extent"
   ]
  },
  {
   "cell_type": "code",
   "execution_count": null,
   "metadata": {},
   "outputs": [],
   "source": [
    "period = dt.dates('dec 2010 - jan 2011')"
   ]
  },
  {
   "cell_type": "code",
   "execution_count": null,
   "metadata": {},
   "outputs": [],
   "source": [
    "## Set the starting extent as the extent of the AWAP grid\n",
    "## in the background this picks up the geospatial references associated with the grid set as default in the configuration file \n",
    "## Config.py ?\n",
    "\n",
    "extent_default = extents.get_default_extent()"
   ]
  },
  {
   "cell_type": "code",
   "execution_count": null,
   "metadata": {},
   "outputs": [],
   "source": [
    "## Select a sub-area of that grid, say the Perth region [450 grid cells south, 20 grid cells across]\n",
    "\n",
    "extent = extent_default.ioffset[400:450,50:100]"
   ]
  },
  {
   "cell_type": "code",
   "execution_count": null,
   "metadata": {},
   "outputs": [],
   "source": [
    "extent"
   ]
  },
  {
   "cell_type": "markdown",
   "metadata": {},
   "source": [
    "#### 4.3 Run the model for the defined extent and period"
   ]
  },
  {
   "cell_type": "code",
   "execution_count": null,
   "metadata": {},
   "outputs": [],
   "source": [
    "results = sim.run(period, extent)"
   ]
  },
  {
   "cell_type": "markdown",
   "metadata": {},
   "source": [
    "A switch is available in the model run command that allows the process to capture the inputs, i,e.  forcing data and grid values that apply specifically to the extent run.\n"
   ]
  },
  {
   "cell_type": "code",
   "execution_count": null,
   "metadata": {},
   "outputs": [],
   "source": [
    "## 4.3.1 Option to capture model inputs\n",
    "\n",
    "results, inputs = sim.run(period, extent, return_inputs = True) # results holds  model outputs, inputs holds model gridded inputs/parameters"
   ]
  },
  {
   "cell_type": "code",
   "execution_count": null,
   "metadata": {},
   "outputs": [],
   "source": [
    "## Have a look at some forcing input data\n",
    "forcing_keys = ['tmin_f','tmax_f','precip_f','wind_f']\n",
    "\n",
    "climate_inputs = {k:inputs[k] for k in forcing_keys}\n",
    "\n",
    "list(climate_inputs)"
   ]
  },
  {
   "cell_type": "code",
   "execution_count": null,
   "metadata": {},
   "outputs": [],
   "source": [
    "climate_inputs['precip_f'].shape"
   ]
  },
  {
   "cell_type": "raw",
   "metadata": {},
   "source": [
    "This indicates a 50x50 grid with 62 timesteps"
   ]
  },
  {
   "cell_type": "code",
   "execution_count": null,
   "metadata": {},
   "outputs": [],
   "source": [
    "im = plt.imshow(climate_inputs['tmin_f'][0])\n",
    "plt.colorbar(im)"
   ]
  },
  {
   "cell_type": "markdown",
   "metadata": {},
   "source": [
    "### 5. Configuring model outputs"
   ]
  },
  {
   "cell_type": "markdown",
   "metadata": {},
   "source": [
    "#### 5.1 Check what outputs are available\n",
    "\n",
    "Should be as per what's in the default output mapping + an extra one for the model states captured to be able to hotstart"
   ]
  },
  {
   "cell_type": "code",
   "execution_count": null,
   "metadata": {},
   "outputs": [],
   "source": [
    "list(results) # this is to see what's in the model run outputs"
   ]
  },
  {
   "cell_type": "code",
   "execution_count": null,
   "metadata": {},
   "outputs": [],
   "source": [
    "results['ss_hrusr']"
   ]
  },
  {
   "cell_type": "code",
   "execution_count": null,
   "metadata": {},
   "outputs": [],
   "source": [
    "# Examine one of the cells (30,30) over the whole modelling period\n",
    "# We'll use Pandas to make this easier...\n",
    "\n",
    "df = pd.DataFrame(index=period)\n",
    "\n",
    "# Examine the shallow soil layers for both HRUs\n",
    "df['ss_hrusr'] = results['ss_hrusr'][:,30,30]\n",
    "df['ss_hrudr'] = results['ss_hrudr'][:,30,30]\n",
    "\n",
    "# Include some input data\n",
    "df['precip_f'] = inputs['precip_f'][:,30,30]\n",
    "\n",
    "df.plot()"
   ]
  },
  {
   "cell_type": "markdown",
   "metadata": {},
   "source": [
    "#### 5.2 Add extra outputs to the model"
   ]
  },
  {
   "cell_type": "code",
   "execution_count": null,
   "metadata": {},
   "outputs": [],
   "source": [
    "# See the currently selected set of model outputs\n",
    "model_settings.OUTPUTS"
   ]
  },
  {
   "cell_type": "code",
   "execution_count": null,
   "metadata": {},
   "outputs": [],
   "source": [
    "# Turn on the individual HRU outputs for ifs (interflow for the shallow soil layer)\n",
    "\n",
    "model_settings.OUTPUTS['OUTPUTS_HRU'].append('ifs')"
   ]
  },
  {
   "cell_type": "code",
   "execution_count": null,
   "metadata": {},
   "outputs": [],
   "source": [
    "# Now add ifs to OUTPUTS_AVG; the area-weighted average of ifs across both HRUs\n",
    "\n",
    "model_settings.OUTPUTS['OUTPUTS_AVG'].append('ifs')"
   ]
  },
  {
   "cell_type": "code",
   "execution_count": null,
   "metadata": {},
   "outputs": [],
   "source": [
    "# Obtain a new model object with the updated settings\n",
    "\n",
    "model = model_profile.get_model(model_settings)"
   ]
  },
  {
   "cell_type": "code",
   "execution_count": null,
   "metadata": {},
   "outputs": [],
   "source": [
    "## Run a simulation with the new outputs\n",
    "\n",
    "sim = ondemand.OnDemandSimulator(model, input_map)\n",
    "results = sim.run(period, extent)"
   ]
  },
  {
   "cell_type": "code",
   "execution_count": null,
   "metadata": {},
   "outputs": [],
   "source": [
    "results['ifs'].shape"
   ]
  },
  {
   "cell_type": "code",
   "execution_count": null,
   "metadata": {},
   "outputs": [],
   "source": [
    "df = pd.DataFrame(index=period)\n",
    "\n",
    "df['ifs_hrusr'] = results['ifs_hrusr'][:,30,30]\n",
    "df['ifs_hrudr'] = results['ifs_hrudr'][:,30,30]\n",
    "df['ifs_avg'] = results['ifs'][:,30,30]\n",
    "\n",
    "df.plot()"
   ]
  },
  {
   "cell_type": "markdown",
   "metadata": {},
   "source": [
    "#### 5.3 Save outputs to file\n",
    "\n",
    "By default, data is generated only in memory, not written out to files. <br>\n",
    "Typically you would use the SimulationServer for this purpose, however it is still possible to do so with the OnDemandSimulator  "
   ]
  },
  {
   "cell_type": "code",
   "execution_count": null,
   "metadata": {},
   "outputs": [],
   "source": [
    "from awrams.simulation.support import build_output_mapping"
   ]
  },
  {
   "cell_type": "code",
   "execution_count": null,
   "metadata": {},
   "outputs": [],
   "source": [
    "## Re-run"
   ]
  },
  {
   "cell_type": "code",
   "execution_count": null,
   "metadata": {},
   "outputs": [],
   "source": [
    "# See what data the model is outputting (in memory)\n",
    "\n",
    "model.get_output_variables()"
   ]
  },
  {
   "cell_type": "code",
   "execution_count": null,
   "metadata": {},
   "outputs": [],
   "source": [
    "# We probably don't want _all_ those written out\n",
    "save_vars = ['qtot','s0_hrusr','s0_hrudr']\n",
    "\n",
    "# Set a path to write to\n",
    "outpath = './_results/'\n",
    "\n",
    "output_map = build_output_mapping(model, outpath, save_vars = save_vars)"
   ]
  },
  {
   "cell_type": "code",
   "execution_count": null,
   "metadata": {},
   "outputs": [],
   "source": [
    "sim_with_outputs = ondemand.OnDemandSimulator(model, input_map, output_map)"
   ]
  },
  {
   "cell_type": "code",
   "execution_count": null,
   "metadata": {},
   "outputs": [],
   "source": [
    "period = dt.dates('dec 2010 - jan 2011')\n",
    "results, iresults = sim_with_outputs.run(period, extent, True)"
   ]
  },
  {
   "cell_type": "code",
   "execution_count": null,
   "metadata": {},
   "outputs": [],
   "source": [
    "# Files generated by this run...\n",
    "\n",
    "os.listdir('./_results')"
   ]
  },
  {
   "cell_type": "markdown",
   "metadata": {},
   "source": [
    "Additional things you can do with the model configuration, such as changing initial states and infilling gaps in the forcing inputs are presented in the [SimulationServer] notebook\n",
    "\n",
    "[SimulationServer]: ./SimulationServer.ipynb\n"
   ]
  },
  {
   "cell_type": "markdown",
   "metadata": {},
   "source": [
    "### 6. More examples"
   ]
  },
  {
   "cell_type": "markdown",
   "metadata": {},
   "source": [
    "#### 6.1 Run over the entire continent. \n",
    "Just for one day. Likely to have memory issues if want to run for long periods.\n",
    "2MB per output variable per day."
   ]
  },
  {
   "cell_type": "code",
   "execution_count": null,
   "metadata": {},
   "outputs": [],
   "source": [
    "period = dt.dates('jan 1 2011')\n",
    "results, inputs = sim.run(period,extent_default,True)"
   ]
  },
  {
   "cell_type": "code",
   "execution_count": null,
   "metadata": {},
   "outputs": [],
   "source": [
    "from matplotlib import rcParams\n",
    "rcParams['figure.figsize'] = [12.,8.]"
   ]
  },
  {
   "cell_type": "code",
   "execution_count": null,
   "metadata": {},
   "outputs": [],
   "source": [
    "im = plt.imshow(results['qtot'][0],interpolation='None')\n",
    "plt.colorbar(im)"
   ]
  },
  {
   "cell_type": "code",
   "execution_count": null,
   "metadata": {},
   "outputs": [],
   "source": [
    "# Also view slope gridded input\n",
    "\n",
    "im = plt.imshow(inputs['slope'],interpolation='None')\n",
    "plt.colorbar(im)"
   ]
  },
  {
   "cell_type": "code",
   "execution_count": null,
   "metadata": {},
   "outputs": [],
   "source": [
    "# Grid cell elevation range (highest point of hypsometric curve  - lowest point)\n",
    "\n",
    "im = plt.imshow(inputs['height'][-1]-inputs['height'][0],interpolation='None')\n",
    "plt.colorbar(im)"
   ]
  },
  {
   "cell_type": "code",
   "execution_count": null,
   "metadata": {},
   "outputs": [],
   "source": [
    "# Rainfall input on the first day of simulation\n",
    "\n",
    "im = plt.imshow(inputs['pt'][0],interpolation='None')\n",
    "plt.colorbar(im)"
   ]
  },
  {
   "cell_type": "markdown",
   "metadata": {},
   "source": [
    "#### 7.2 Run with a uniform rain input across the country"
   ]
  },
  {
   "cell_type": "code",
   "execution_count": null,
   "metadata": {},
   "outputs": [],
   "source": [
    "input_map.pt = nodes.const(1000)"
   ]
  },
  {
   "cell_type": "code",
   "execution_count": null,
   "metadata": {},
   "outputs": [],
   "source": [
    "runner = ondemand.OnDemandSimulator(model, input_map)"
   ]
  },
  {
   "cell_type": "code",
   "execution_count": null,
   "metadata": {},
   "outputs": [],
   "source": [
    "results_fixedpt = runner.run(period, extent_default)"
   ]
  },
  {
   "cell_type": "code",
   "execution_count": null,
   "metadata": {},
   "outputs": [],
   "source": [
    "im = plt.imshow(results_fixedpt['qtot'][0],interpolation='None')\n",
    "plt.colorbar(im)"
   ]
  },
  {
   "cell_type": "markdown",
   "metadata": {},
   "source": [
    "### 8. Exercise\n",
    "\n",
    "1. Run the model over the same catchment multiple times, each time with a different parameter value for a parameter of your choice. Then plot the parameter values vs the average flow over the modelled period."
   ]
  },
  {
   "cell_type": "code",
   "execution_count": null,
   "metadata": {},
   "outputs": [],
   "source": []
  },
  {
   "cell_type": "code",
   "execution_count": null,
   "metadata": {},
   "outputs": [],
   "source": []
  },
  {
   "cell_type": "code",
   "execution_count": null,
   "metadata": {},
   "outputs": [],
   "source": []
  },
  {
   "cell_type": "code",
   "execution_count": null,
   "metadata": {},
   "outputs": [],
   "source": []
  },
  {
   "cell_type": "code",
   "execution_count": null,
   "metadata": {},
   "outputs": [],
   "source": []
  },
  {
   "cell_type": "code",
   "execution_count": null,
   "metadata": {},
   "outputs": [],
   "source": []
  },
  {
   "cell_type": "code",
   "execution_count": null,
   "metadata": {},
   "outputs": [],
   "source": []
  }
 ],
 "metadata": {
  "kernelspec": {
   "display_name": "Python 3",
   "language": "python",
   "name": "python3"
  },
  "language_info": {
   "codemirror_mode": {
    "name": "ipython",
    "version": 3
   },
   "file_extension": ".py",
   "mimetype": "text/x-python",
   "name": "python",
   "nbconvert_exporter": "python",
   "pygments_lexer": "ipython3",
   "version": "3.6.7"
  }
 },
 "nbformat": 4,
 "nbformat_minor": 1
}
