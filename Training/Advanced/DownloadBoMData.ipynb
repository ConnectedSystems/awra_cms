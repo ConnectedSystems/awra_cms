{
 "cells": [
  {
   "cell_type": "markdown",
   "metadata": {},
   "source": [
    "# Getting streamflow data direct from BoM using scripting\n",
    "\n",
    "Workbook layout:\n",
    "   1. Get Extended data from BoM Water Data Online and compare to benchmarking data\n",
    "   "
   ]
  },
  {
   "cell_type": "markdown",
   "metadata": {},
   "source": [
    "# Get Extended data from BoM Water Data Online\n",
    "\n",
    "### SOS2 Services for Water Data Online\n",
    "\n",
    "The Bureau has implemented a Sensor Observation Service standard version 2 (SOS2) service to make publicly available the time series data it collects and manages under the Water Regulations 2008. The service provides data in WaterML2 format. The SOS2 standard was developed by the Open Geospatial Consortium (OGC) as part of the OGC Sensor Web Enablement framework. The WaterML2 standard was also developed by the OGC with support from the Bureau of Meteorology and CSIRO though the WIRADA research alliance."
   ]
  },
  {
   "cell_type": "code",
   "execution_count": null,
   "metadata": {},
   "outputs": [],
   "source": [
    "%matplotlib inline\n",
    "\n",
    "import os\n",
    "\n",
    "import matplotlib.pyplot as plt\n",
    "import numpy as np\n",
    "import pandas as pd\n",
    "\n",
    "from awrams.utils import config_manager\n",
    "from awrams.utils.gis import ShapefileDB\n",
    "import awrams.utils.wiski.interface as wi"
   ]
  },
  {
   "cell_type": "code",
   "execution_count": null,
   "metadata": {},
   "outputs": [],
   "source": [
    "system_profile = config_manager.get_system_profile()\n",
    "system_settings = system_profile.get_settings()\n",
    "\n",
    "base_data_path = system_settings['DATA_PATHS']['BASE_DATA']\n",
    "catchment_shapefile = os.path.join(base_data_path, 'spatial/shapefiles/Final_list_all_attributes.shp')\n",
    "\n",
    "catchments = ShapefileDB(catchment_shapefile)\n",
    "records = catchments.get_records_df()\n",
    "\n",
    "obs_csv = base_data_path + '/observations/runoff/awrams_v5_cal_qobs.csv'\n",
    "qobs = pd.read_csv(obs_csv, index_col=0)\n",
    "\n",
    "ids = records['StationID']  # ids as used in awra-l system (often concatenated wrsc)\n",
    "wrsids = records['WrscID'] # official water resource station catalogue station numbers\n",
    "areas = records['AlbersArea'] # catchment areas in km^ 2"
   ]
  },
  {
   "cell_type": "code",
   "execution_count": null,
   "metadata": {},
   "outputs": [],
   "source": [
    "#what is the official Water Resources Station Catalogue ID of site '105001'?\n",
    "wrsids[np.where(ids=='105001')[0][0]]"
   ]
  },
  {
   "cell_type": "code",
   "execution_count": null,
   "metadata": {},
   "outputs": [],
   "source": [
    "# get set of stations (xml elements) that have 'Water Course Discharge'\n",
    "\n",
    "wcds = wi.get_station_list(\"Water Course Discharge\") # Get discharge volume (m3/sec) from wiski for gauging stations\n",
    "#### find all datasets for a station \"105001\"\n",
    "stns = wi.find_id_in_station_list('105001', wcds) \n",
    "stns  #['105001B', '105001A']"
   ]
  },
  {
   "cell_type": "code",
   "execution_count": null,
   "metadata": {},
   "outputs": [],
   "source": [
    "wcds"
   ]
  },
  {
   "cell_type": "code",
   "execution_count": null,
   "metadata": {},
   "outputs": [],
   "source": [
    "# View the types of data you can download usign wiski SOS\n",
    "wi.WISKI_CODES"
   ]
  },
  {
   "cell_type": "markdown",
   "metadata": {},
   "source": [
    "### Plot the downloaded data for site '105001B' including quality codes"
   ]
  },
  {
   "cell_type": "code",
   "execution_count": null,
   "metadata": {},
   "outputs": [],
   "source": [
    "siteid = '105001' # site id according to benchmarking dataset\n",
    "whichsite = np.where(ids==siteid)[0][0] # find which of the set this corresponds to to get the true wrsids ID\n",
    "\n",
    "\n",
    "# get the data \n",
    "a = pd.DataFrame(wi.get_data(wrsids[whichsite],\n",
    "                 obs_type=\"Water Course Discharge\",\n",
    "                 period=pd.date_range('1900-01-01', '2017-10-23', freq='D'))) # Setup data to download from Wiski\n",
    "\n",
    "# plot the data\n",
    "figsize = (12, 7)\n",
    "fig = plt.figure(figsize=figsize)\n",
    "fig.suptitle(wrsids[whichsite] + ' Water Course Discharge [ML/day]')\n",
    "ax1 = fig.add_subplot(3, 1, 1)\n",
    "a1 = pd.DataFrame(a['values'])\n",
    "b = pd.DataFrame(qobs[str(int(ids[whichsite]))])\n",
    "# Convert mm/day benchmarking data set to cumecs as per downloaded data\n",
    "# Q(m^3/s) =Q (mm/day) *Catchment Area (m^2) / 1000mm/m * (24*3600second/day)   \n",
    "# area is provided in km^2\n",
    "# Q(m^3/s) =Q (mm/day) *Area (km^2)*1000*1000 /1000*24*3600 \n",
    "#          =Q (mm/day) *Area (km^2)/24*3.6\n",
    "#          =Q (mm/day) *Area (km^2)/86.4\n",
    "b = b * areas[whichsite] / 86.4\n",
    "c = a1.join(b)\n",
    "dt = pd.to_datetime(a.index, format='%Y-%m-%d')\n",
    "ax1.plot_date(dt, c['values'], '-', label='Newly downloaded using webservices')\n",
    "ax1.plot_date(dt, c[siteid], '-', label='Original benchmarking')\n",
    "ax1.legend()\n",
    "ax1.set_title('Streamflow [ML/day]')\n",
    "ax1 = fig.add_subplot(3, 1, 2)\n",
    "ax1.plot_date(dt, c, '-')  \n",
    "plt.yscale('log')\n",
    "ax1.set_title('Streamflow [ML/day] (log-y axis)')\n",
    "\n",
    "# finaly qualaty codes\n",
    "ax1 = fig.add_subplot(3, 1, 3)\n",
    "ax1.plot(a['qualifier'], color='red')\n",
    "ax1.set_title('BoM Quality codes'+'1034=A, 1114=B, 1134=C, 1164=E, 1234=F')\n",
    "# see bom quality codes\n",
    "# currently known issue in SOS with translations of quality codes\n",
    "#http://www.bom.gov.au/water/wdtf/documentation/schema-control-lists/quality-code.htm\n",
    "#dictQualityCodes='1034=A, 1114=B, 1134=C, 1164=E, 1234=F'    \n",
    " "
   ]
  },
  {
   "cell_type": "code",
   "execution_count": null,
   "metadata": {},
   "outputs": [],
   "source": [
    "areas[whichsite]"
   ]
  },
  {
   "cell_type": "code",
   "execution_count": null,
   "metadata": {},
   "outputs": [],
   "source": []
  }
 ],
 "metadata": {
  "kernelspec": {
   "display_name": "Python 3",
   "language": "python",
   "name": "python3"
  },
  "language_info": {
   "codemirror_mode": {
    "name": "ipython",
    "version": 3
   },
   "file_extension": ".py",
   "mimetype": "text/x-python",
   "name": "python",
   "nbconvert_exporter": "python",
   "pygments_lexer": "ipython3",
   "version": "3.6.7"
  }
 },
 "nbformat": 4,
 "nbformat_minor": 2
}
