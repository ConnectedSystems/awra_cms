{
 "cells": [
  {
   "cell_type": "code",
   "execution_count": null,
   "metadata": {},
   "outputs": [],
   "source": [
    "from awrams.calibration.support import *\n",
    "from awrams.utils.nodegraph.nodes import callable_to_funcspec\n",
    "from os.path import join\n",
    "from awrams.utils import gis\n",
    "from awrams.utils import datetools as dt\n",
    "from awrams.utils import extents\n",
    "from awrams.utils.io import data_mapping as dm\n",
    "from awrams.utils import config_manager\n",
    "import os\n",
    "from awrams.utils.nodegraph import nodes\n",
    "\n",
    "%matplotlib inline"
   ]
  },
  {
   "cell_type": "code",
   "execution_count": null,
   "metadata": {},
   "outputs": [],
   "source": [
    "from awrams.calibration.support import CalibrationResults"
   ]
  },
  {
   "cell_type": "code",
   "execution_count": null,
   "metadata": {},
   "outputs": [],
   "source": [
    "# To use alternative profiles, call the set_active_system_profile method\n",
    "# Subsequent config_manager actions will now refer to this profile\n",
    "\n",
    "config_manager.set_active_system_profile('raijin')"
   ]
  },
  {
   "cell_type": "code",
   "execution_count": null,
   "metadata": {},
   "outputs": [],
   "source": [
    "# Paths etc now refer to the remote host.  Model profiles will use this information automatically to build their\n",
    "# configuration (input_map etc)\n",
    "\n",
    "config_manager.get_system_profile().get_settings().DATA_PATHS"
   ]
  },
  {
   "cell_type": "code",
   "execution_count": null,
   "metadata": {},
   "outputs": [],
   "source": [
    "# A typical workflow would involve getting any _local_ information first using the default system profile,\n",
    "# then switching the remote profile to configuration your jobs\n",
    "\n",
    "# Clear the system profile back to default (local) and get the local paths\n",
    "config_manager.set_active_system_profile()\n",
    "local_settings = config_manager.get_system_profile().get_settings()\n",
    "\n",
    "# Set the active profile again\n",
    "config_manager.set_active_system_profile('raijin')\n",
    "remote_settings = config_manager.get_system_profile().get_settings()"
   ]
  },
  {
   "cell_type": "code",
   "execution_count": null,
   "metadata": {},
   "outputs": [],
   "source": [
    "# Select some catchment extents for use in this calibration run\n",
    "# Note that we are loading these locally, so we use local paths\n",
    "\n",
    "cal_extents = join(local_settings.DATA_PATHS.SHAPEFILES,'calibration_extents_5k.nc')\n",
    "nces = gis.ExtentStoreNC(cal_extents,'r')\n",
    "\n",
    "extent_map = dict([(e,nces[e]) for e in nces.available[0:6]])\n",
    "\n",
    "sum([v.cell_count for k,v in extent_map.items()])"
   ]
  },
  {
   "cell_type": "code",
   "execution_count": null,
   "metadata": {},
   "outputs": [],
   "source": [
    "# Because we using the training dataset, we'll limit these to the available data\n",
    "\n",
    "run_period = dt.dates('2009-2011')\n",
    "eval_period = dt.dates('2009-2011')\n",
    "\n",
    "from awrams.calibration.optimizers import sce\n",
    "\n",
    "# Set up our optimizer.  These are typical values for a full calibration run, so it might take some time to run!\n",
    "# For testing and prototyping, you will definitely want to reduce these\n",
    "\n",
    "evolver_spec = EvolverSpec(sce.CCEvolver,evolver_run_args=dict(n_offspring=1,n_evolutions=5,elitism=1.0))\n",
    "optimizer_spec = OptimizerSpec(sce.ShuffledOptimizer,evolver_spec=evolver_spec,n_complexes=14,max_nsni=4000,min_complexes=1,max_eval=2000,init_method='lhs') #n_complex 14\n",
    "\n",
    "# Note that our observations are being accessed on the remote system - make sure you use the right paths here\n",
    "observations=dict(qtot=join(remote_settings.DATA_PATHS.BASE_DATA,'observations/runoff/awrams_v5_cal_qobs.csv'))\n",
    "\n",
    "# For a typical workflow you will probably be editing and prototyping your objective functions on a local machine\n",
    "# first.  Here we import these local functions directly, even though they will be running on the remote machine.\n",
    "#\n",
    "# The remote system will perform the same import logic - as long as awrams_user.examples.objectives exists in both\n",
    "# places this will work correctly.  However, remember that this is not copying the _data_ in this file, merely\n",
    "# informing the system of what to import\n",
    "#\n",
    "# We will discuss how to synchronise your user code later in the notebook\n",
    "\n",
    "from awrams_user.objectives import example\n",
    "local_objfspec = ObjectiveFunctionSpec(example.TestLocalSingle)\n",
    "global_objfspec = example.TestGlobalSingle\n",
    "\n",
    "# Collect these into the ObjectiveSpec\n",
    "\n",
    "objective_spec = ObjectiveSpec(global_objfspec,local_objfspec,observations,eval_period)"
   ]
  },
  {
   "cell_type": "code",
   "execution_count": null,
   "metadata": {},
   "outputs": [],
   "source": [
    "# Because we have used set_activate_system_profile, the model configuration will automatically use the remote paths\n",
    "# This is the recommended method, but it is possible to set these up manually if more advanced changes are required\n",
    "\n",
    "model_profile = config_manager.get_model_profile('awral','v6_default')\n",
    "model_settings = model_profile.get_settings()\n",
    "input_map = model_profile.get_input_mapping()"
   ]
  },
  {
   "cell_type": "code",
   "execution_count": null,
   "metadata": {},
   "outputs": [],
   "source": [
    "# Make sure we're using the hardware as best we can...\n",
    "\n",
    "model_settings.BUILD_SETTINGS.BUILD_STR = model_settings.CONFIG_OPTIONS.BUILD_STRINGS.ICC_RAIJIN"
   ]
  },
  {
   "cell_type": "code",
   "execution_count": null,
   "metadata": {},
   "outputs": [],
   "source": [
    "# Now get the model itself\n",
    "\n",
    "model = model_profile.get_model(model_settings)"
   ]
  },
  {
   "cell_type": "code",
   "execution_count": null,
   "metadata": {},
   "outputs": [],
   "source": [
    "# Examine the input mapping to ensure that the remote paths are as expected\n",
    "\n",
    "print(input_map.tmin_f)\n",
    "print(input_map.f_tree_grid)"
   ]
  },
  {
   "cell_type": "markdown",
   "metadata": {},
   "source": [
    "## Build spec dict\n",
    "\n",
    "Assemble above settings into specification dictionary"
   ]
  },
  {
   "cell_type": "code",
   "execution_count": null,
   "metadata": {},
   "outputs": [],
   "source": [
    "# Assign a job name; our files and paths will be derived from this\n",
    "job_name = 'remote_awralv6_test'"
   ]
  },
  {
   "cell_type": "code",
   "execution_count": null,
   "metadata": {},
   "outputs": [],
   "source": [
    "'''\n",
    "User specifiable calibration description\n",
    "'''\n",
    "cal_spec = {}\n",
    "cal_spec['optimizer_spec'] = optimizer_spec\n",
    "cal_spec['objective_spec'] = objective_spec\n",
    "cal_spec['extent_map'] = extent_map\n",
    "cal_spec['run_period'] = run_period\n",
    "cal_spec['model'] = model\n",
    "cal_spec['node_mapping'] = input_map\n",
    "cal_spec['logfile'] = '%s.h5' % job_name\n",
    "\n",
    "\n"
   ]
  },
  {
   "cell_type": "code",
   "execution_count": null,
   "metadata": {},
   "outputs": [],
   "source": [
    "'''\n",
    "Add our raijin helpers;  these will ensure the calibration logfile is written to JOBFS during the run, then copied back,\n",
    "providing better IO performance for this sort of task\n",
    "\n",
    "https://opus.nci.org.au/display/Help/What+is+the+jobfs+filesystem.+How+or+when+do+I+use+it\n",
    "\n",
    "'''\n",
    "\n",
    "from awrams_user.calibration.raijin_support import prerun_raijin,postrun_raijin\n",
    "\n",
    "cal_spec['prerun_action'] = callable_to_funcspec(prerun_raijin)\n",
    "cal_spec['postrun_action'] = callable_to_funcspec(postrun_raijin)"
   ]
  },
  {
   "cell_type": "markdown",
   "metadata": {},
   "source": [
    "## Launching the remote job"
   ]
  },
  {
   "cell_type": "code",
   "execution_count": null,
   "metadata": {},
   "outputs": [],
   "source": [
    "# RemotePBSManager will be our link to the outside world\n",
    "# We will build a job for it using cal_spec_to_remote_job\n",
    "\n",
    "from awrams.cluster.support import RemotePBSManager\n",
    "from awrams.calibration.cluster import cal_spec_to_remote_job"
   ]
  },
  {
   "cell_type": "code",
   "execution_count": null,
   "metadata": {},
   "outputs": [],
   "source": [
    "#Number of whole nodes to use on Raijin\n",
    "node_count = 2\n",
    "#PBS walltime\n",
    "walltime = '1:00:00'\n",
    "# The working directory\n",
    "# You'll need to modify this to your own valid path on raijin\n",
    "remote_path = '/short/project/username/testjobs/%s' % job_name"
   ]
  },
  {
   "cell_type": "code",
   "execution_count": null,
   "metadata": {},
   "outputs": [],
   "source": [
    "rspec = cal_spec_to_remote_job(cal_spec, job_name, remote_path, node_count, walltime, remote_settings)"
   ]
  },
  {
   "cell_type": "code",
   "execution_count": null,
   "metadata": {},
   "outputs": [],
   "source": [
    "rspec"
   ]
  },
  {
   "cell_type": "code",
   "execution_count": null,
   "metadata": {},
   "outputs": [],
   "source": [
    "pbsman = RemotePBSManager(remote_settings)"
   ]
  },
  {
   "cell_type": "code",
   "execution_count": null,
   "metadata": {},
   "outputs": [],
   "source": [
    "# We can easily sync our user files (config, user code etc)\n",
    "pbsman.sync_user_files()"
   ]
  },
  {
   "cell_type": "code",
   "execution_count": null,
   "metadata": {},
   "outputs": [],
   "source": [
    "job = pbsman.submit_job_from_spec(rspec)"
   ]
  },
  {
   "cell_type": "code",
   "execution_count": null,
   "metadata": {},
   "outputs": [],
   "source": [
    "pbsman.qstat()"
   ]
  },
  {
   "cell_type": "markdown",
   "metadata": {},
   "source": [
    "## Job chaining - add a simulation"
   ]
  },
  {
   "cell_type": "code",
   "execution_count": null,
   "metadata": {},
   "outputs": [],
   "source": [
    "# Use the SimulationServer to build a remote job, similarly to running a local simulation\n",
    "\n",
    "from awrams.simulation.server import SimulationServer"
   ]
  },
  {
   "cell_type": "code",
   "execution_count": null,
   "metadata": {},
   "outputs": [],
   "source": [
    "# Reset the active system profile; we are about to need some local paths again\n",
    "\n",
    "config_manager.set_active_system_profile()"
   ]
  },
  {
   "cell_type": "code",
   "execution_count": null,
   "metadata": {},
   "outputs": [],
   "source": [
    "sim_extent = extents.get_default_extent()\n",
    "sim_period = dt.dates('2009-2011')"
   ]
  },
  {
   "cell_type": "code",
   "execution_count": null,
   "metadata": {},
   "outputs": [],
   "source": [
    "# We need the same set of PBS information as for a cal run;\n",
    "\n",
    "sim_job_name = 'simtest_remote'\n",
    "#Number of whole nodes to use on Raijin\n",
    "node_count = 2\n",
    "#PBS walltime\n",
    "walltime = '00:20:00'\n"
   ]
  },
  {
   "cell_type": "code",
   "execution_count": null,
   "metadata": {},
   "outputs": [],
   "source": [
    "# Just like a local sim run, we build an output map\n",
    "from awrams.simulation.support import build_output_mapping\n",
    "\n",
    "# We'll reuse the remote_path from our calibration run to keep everything in one place\n",
    "outpath = remote_path + '/sim_results/'\n",
    "\n",
    "save_vars = ['qtot','ss','sd','s0_hrusr','s0_hrudr']\n",
    "\n",
    "# If you want to reinitialise a run from existing states, they will need to be saved at 64bit resolution.\n",
    "# We will use the 'save_states_freq' argument to create 'snapshots' of states on a monthly basis so you don't have\n",
    "# to write too much data to disk...\n",
    "# We'll use mode 'w' here to overwrite any existing data\n",
    "\n",
    "output_map = build_output_mapping(model, outpath, mode = 'w', save_vars = save_vars, save_states_freq = 'M')\n",
    "\n",
    "# The updated output map contains write_to_annual_ncfile nodes for the variables we specified above, \n",
    "# as well as write_to_ncfile_snapshot for the states\n",
    "# It's possible to further manipulate this map directly, but in most cases you won't need to\n",
    "\n",
    "output_map"
   ]
  },
  {
   "cell_type": "code",
   "execution_count": null,
   "metadata": {},
   "outputs": [],
   "source": [
    "# We want this simulation to use the newly generated parameters from our calibration run.\n",
    "# Because we don't know what they are yet, we can't set the values directly; use\n",
    "# nodes.parameter_from_calibration_results\n",
    "\n",
    "# Get the calibration results filename\n",
    "cal_results_file = os.path.join(remote_path, cal_spec['logfile'])\n",
    "\n",
    "# Get a list of a parameter keys\n",
    "param_keys = [k for k,v in input_map.items() if v.node_type == 'parameter']\n",
    "\n",
    "# Set the new values\n",
    "for k in param_keys:\n",
    "    input_map[k] = nodes.parameter_from_calibration_results(cal_results_file, k)"
   ]
  },
  {
   "cell_type": "code",
   "execution_count": null,
   "metadata": {},
   "outputs": [],
   "source": [
    "sim = SimulationServer(model,remote_settings)"
   ]
  },
  {
   "cell_type": "code",
   "execution_count": null,
   "metadata": {},
   "outputs": [],
   "source": [
    "sim_jobspec = sim.get_remote_job(sim_job_name, remote_path, node_count, walltime,\\\n",
    "                                 input_map, output_map, sim_period, sim_extent)"
   ]
  },
  {
   "cell_type": "code",
   "execution_count": null,
   "metadata": {},
   "outputs": [],
   "source": [
    "sim_jobspec"
   ]
  },
  {
   "cell_type": "code",
   "execution_count": null,
   "metadata": {},
   "outputs": [],
   "source": [
    "# Submit the sim job using our existing job as a dependancy;\n",
    "# the sim job will not run until this job completes successfully\n",
    "sim_job = pbsman.submit_job_from_spec(sim_jobspec, dependencies = job)"
   ]
  },
  {
   "cell_type": "code",
   "execution_count": null,
   "metadata": {},
   "outputs": [],
   "source": [
    "pbsman.qstat()"
   ]
  },
  {
   "cell_type": "code",
   "execution_count": null,
   "metadata": {},
   "outputs": [],
   "source": [
    "# PBSJobs have methods for examining the output and error streams during and after the run\n",
    "\n",
    "sim_job.get_output()"
   ]
  },
  {
   "cell_type": "markdown",
   "metadata": {},
   "source": [
    "## Building a custom PBS job"
   ]
  },
  {
   "cell_type": "code",
   "execution_count": null,
   "metadata": {},
   "outputs": [],
   "source": [
    "from awrams.cluster.support import build_custom_pbs_file, RemoteJobSpec"
   ]
  },
  {
   "cell_type": "code",
   "execution_count": null,
   "metadata": {},
   "outputs": [],
   "source": [
    "# This is not a real python module; just an example of how to build a job\n",
    "\n",
    "custom_task_str = 'python3 -m awrams_user.example.test ./sim_results'"
   ]
  },
  {
   "cell_type": "code",
   "execution_count": null,
   "metadata": {},
   "outputs": [],
   "source": [
    "print(build_custom_pbs_file('postproc',remote_path,'00:20:00',remote_settings, custom_task_str,ncpus=1,mem='1gb'))"
   ]
  },
  {
   "cell_type": "code",
   "execution_count": null,
   "metadata": {},
   "outputs": [],
   "source": [
    "# Now build a RemoteJobSpec in order to submit the job\n",
    "# The PBS file will always be built using the job name supplied to build_custom_pbs_file\n",
    "\n",
    "custom_spec = RemoteJobSpec(remote_path, 'postproc.pbs')"
   ]
  },
  {
   "cell_type": "code",
   "execution_count": null,
   "metadata": {},
   "outputs": [],
   "source": [
    "custom_spec"
   ]
  },
  {
   "cell_type": "code",
   "execution_count": null,
   "metadata": {},
   "outputs": [],
   "source": []
  }
 ],
 "metadata": {
  "kernelspec": {
   "display_name": "Python 3",
   "language": "python",
   "name": "python3"
  },
  "language_info": {
   "codemirror_mode": {
    "name": "ipython",
    "version": 3
   },
   "file_extension": ".py",
   "mimetype": "text/x-python",
   "name": "python",
   "nbconvert_exporter": "python",
   "pygments_lexer": "ipython3",
   "version": "3.6.7"
  }
 },
 "nbformat": 4,
 "nbformat_minor": 1
}
