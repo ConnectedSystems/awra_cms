{
 "cells": [
  {
   "cell_type": "markdown",
   "metadata": {},
   "source": [
    "# Sensitivity Sampling and Analysis"
   ]
  },
  {
   "cell_type": "markdown",
   "metadata": {},
   "source": [
    "Sensitivity is a measure of the proportion of variance in some defined value that is explained by a particular input parameter.\n",
    "\n",
    "### This notebook demonstrates the use of the Sobol sampling and associated sensitivity analysis of the model\n",
    "\n",
    "see https://en.wikipedia.org/wiki/Variance-based_sensitivity_analysis  and https://en.wikipedia.org/wiki/Sobol_sequence for some background\n",
    "    \n",
    "####     - It specifies the Sobol sampling (SobolOptimizer) as part of the Optimizer specifications (OptimizerSpec)\n",
    "####     - This is is place of the standard SCE optimisation used typically in calibration\n",
    "\n",
    "\n",
    "#### It assumes the opimisation/sampling is beign undertaken on a cluster (e.g. NCI) and runs catchment/cell simulations in parallel on differing compute nodes"
   ]
  },
  {
   "cell_type": "markdown",
   "metadata": {},
   "source": [
    "## Sensitivity analysis background\n",
    "\n",
    "Sensitivity cannot be measured directly, but rather must be estimated from a sample distribution.\n",
    "This estimation requires selection of a sampling scheme (Sobol sequence here), and corresponding variance estimation functions.\n",
    "See the following reference for further background: \n",
    "\n",
    "\n",
    "   - ***Andrea Saltelli, Paola Annoni, Ivano Azzini, Francesca Campolongo, Marco Ratto, Stefano Tarantola. Variance based sensitivity analysis of model output. Design and estimator for the total sensitivity index, In Computer Physics Communications, Volume 181, Issue 2, 2010, Pages 259-270, ISSN 0010-4655, https://doi.org/10.1016/j.cpc.2009.09.018.***\n",
    "\n",
    " "
   ]
  },
  {
   "cell_type": "markdown",
   "metadata": {},
   "source": [
    "This notebook goes through the following steps:\n",
    "\n",
    "1. Import required libraries\n",
    "2. Set up calibration configuration <br>\n",
    "\n",
    "   - 2.1 Catchments to be calibrated\n",
    "   - 2.2 Period to calibrate over<br>\n",
    "   - 2.3 Import model/get default mapping<br>\n",
    "   - 2.4 Setting the optimizer - SobolOptimizer<br>\n",
    "   - 2.5 Define objective functions<br>\n",
    "   - 2.6 Update forcing paths (optional)<br>\n",
    "   - 2.7 Combine into a specification dictionary<br>\n",
    "   \n",
    "   \n",
    "3. Run 'calibration'; ie sampling<br>\n",
    "4. Visualise sensitivity outputs"
   ]
  },
  {
   "cell_type": "markdown",
   "metadata": {},
   "source": [
    "### 1. Import required libraries"
   ]
  },
  {
   "cell_type": "code",
   "execution_count": null,
   "metadata": {
    "collapsed": true
   },
   "outputs": [],
   "source": [
    "from os.path import join\n",
    "\n",
    "import h5py\n",
    "\n",
    "from awrams.calibration import support\n",
    "from awrams.utils import config_manager, extents, gis\n",
    "from awrams.utils import datetools as dt"
   ]
  },
  {
   "cell_type": "markdown",
   "metadata": {},
   "source": [
    "### 2. Define calibration configuration"
   ]
  },
  {
   "cell_type": "markdown",
   "metadata": {},
   "source": [
    "#### 2.1 Select catchment extents"
   ]
  },
  {
   "cell_type": "code",
   "execution_count": null,
   "metadata": {
    "collapsed": true
   },
   "outputs": [],
   "source": [
    "# Point to some catchment data\n",
    "system_profile = config_manager.get_system_profile()\n",
    "system_settings = system_profile.get_settings()\n",
    "\n",
    "base_data_path = system_settings['DATA_PATHS']['BASE_DATA']\n",
    "catchment_shapefile = join(base_data_path, 'spatial/shapefiles/Final_list_all_attributes.shp')\n",
    "calvalshapefile = gis.ShapefileDB(catchment_shapefile)\n",
    "\n",
    "# Define the extenst of the calibration\n",
    "def_extent = extents.get_default_extent() "
   ]
  },
  {
   "cell_type": "code",
   "execution_count": null,
   "metadata": {
    "collapsed": false
   },
   "outputs": [],
   "source": [
    " ## Create a dict with multiple extents\n",
    "extent_map = {}\n",
    "cal_catchments = ['109001','111101','112102']\n",
    "\n",
    "for catchment in cal_catchments:\n",
    "    extent_map[catchment] = calvalshapefile.get_extent_by_field('StationID', catchment, parent_extent=def_extent)\n",
    "    \n",
    "extent_map"
   ]
  },
  {
   "cell_type": "markdown",
   "metadata": {},
   "source": [
    "#### 2.2 Specify running period"
   ]
  },
  {
   "cell_type": "code",
   "execution_count": null,
   "metadata": {
    "collapsed": true
   },
   "outputs": [],
   "source": [
    "run_period = dt.dates('2009 - 2011')\n",
    "eval_period = dt.dates('2009 - 2011')"
   ]
  },
  {
   "cell_type": "markdown",
   "metadata": {},
   "source": [
    "#### 2.3 Import model/get default mapping"
   ]
  },
  {
   "cell_type": "code",
   "execution_count": null,
   "metadata": {
    "collapsed": true
   },
   "outputs": [],
   "source": [
    "# Import the model and get input map\n",
    "model_profile = config_manager.get_model_profile('awral', 'v6_default')\n",
    "\n",
    "model_settings = model_profile.get_settings()\n",
    "input_map = model_profile.get_input_mapping(model_settings)\n",
    "model = model_profile.get_model()"
   ]
  },
  {
   "cell_type": "markdown",
   "metadata": {},
   "source": [
    "#### 2.4 Specify the optimizer"
   ]
  },
  {
   "cell_type": "code",
   "execution_count": null,
   "metadata": {
    "collapsed": true
   },
   "outputs": [],
   "source": [
    "# Use the SobolOptimizer class to generate Sobol sequence samples\n",
    "\n",
    "from awrams.calibration.sensitivity import SobolOptimizer\n",
    "\n",
    "# Set termination conditions - 3000 max evaluations is not really a 'proper' run, but will be enough to see some results...\n",
    "# Threshold is the convergence threshold for the sum of estimated sensitivities; ie the run should terminate once\n",
    "# these values stabilise\n",
    "optimizer_spec = support.OptimizerSpec(SobolOptimizer, threshold=0.01, max_eval=3000)"
   ]
  },
  {
   "cell_type": "markdown",
   "metadata": {},
   "source": [
    "#### 2.5 Set up objective functions<br>\n",
    "When used with a sampling optimizer (eg Sobol), objective functions are not directly opimized on, but are still needed in order to obtain logging of the result\n",
    "\n",
    "### see prespecified objective function  for this example [test_objectives.py]\n",
    "\n",
    " class ***LocalQTotal*** provides Simple sum of Qtot, Etot and Dd from awrams.calibration.objectives import test_objectives\n",
    " \n",
    " ### Testing below using this objective determines sensitivity of these total runoff, ET and deep draiange to different parameters\n",
    "      \n",
    "     \n",
    "        \n",
    "     \n",
    "\n",
    "[test_objectives.py]:../../../edit/calibration/awrams/calibration/objectives/test_objectives.py\n",
    "\n"
   ]
  },
  {
   "cell_type": "code",
   "execution_count": null,
   "metadata": {
    "collapsed": true
   },
   "outputs": [],
   "source": [
    "from awrams.calibration.objectives import test_objectives as tobj\n",
    "\n",
    "# Our 'objective functions' (ie what gets stored in the logfile)\n",
    "# are volume totals of water balance outputs; runoff, et, and deep drainage\n",
    "\n",
    "local_objfspec = support.ObjectiveFunctionSpec(tobj.LocalQTotal)\n",
    "global_objfspec = tobj.GlobalQTotal\n",
    "\n",
    "observations = {}\n",
    "objective_spec = support.ObjectiveSpec(global_objfspec, local_objfspec, observations, eval_period)"
   ]
  },
  {
   "cell_type": "markdown",
   "metadata": {},
   "source": [
    "#### 2.7 Build spec dictionary\n",
    "\n",
    "Assemble above settings into specification dictionary"
   ]
  },
  {
   "cell_type": "code",
   "execution_count": null,
   "metadata": {
    "collapsed": true
   },
   "outputs": [],
   "source": [
    "'''\n",
    "User specifiable calibration description\n",
    "'''\n",
    "cal_spec = {}\n",
    "cal_spec['optimizer_spec'] = optimizer_spec\n",
    "cal_spec['objective_spec'] = objective_spec\n",
    "cal_spec['extent_map'] = extent_map\n",
    "cal_spec['run_period'] = run_period\n",
    "cal_spec['model'] = model\n",
    "cal_spec['node_mapping'] = input_map\n",
    "cal_spec['logfile'] = './sobolres4.h5'"
   ]
  },
  {
   "cell_type": "markdown",
   "metadata": {},
   "source": [
    "### 3. Run the calibration"
   ]
  },
  {
   "cell_type": "code",
   "execution_count": null,
   "metadata": {
    "collapsed": true
   },
   "outputs": [],
   "source": [
    "from awrams.calibration import cluster\n",
    "# write calibration specificatiom to a pickle file\n",
    "nnodes = 1\n",
    "ncores = 4\n",
    "_ = cluster.build_pickle_from_spec(cal_spec, ncores, nnodes, 'test_sens.pkl')"
   ]
  },
  {
   "cell_type": "code",
   "execution_count": null,
   "metadata": {
    "collapsed": false
   },
   "outputs": [],
   "source": [
    "# read calibration specification pickle file and run solbol sampler using run_from_pickle()\n",
    "from awrams.calibration.launch_calibration import run_from_pickle\n",
    "run_from_pickle('./test_sens.pkl')"
   ]
  },
  {
   "cell_type": "markdown",
   "metadata": {},
   "source": [
    "### 4. Examine the results\n",
    "\n",
    "Results are stored in an HDF5 file (like all AWRAMCMS calibration outputs).  SensitivityResults provides a wrapper to directly perform sensitivity analysis on the results of a SobolOptmizer run"
   ]
  },
  {
   "cell_type": "code",
   "execution_count": null,
   "metadata": {
    "collapsed": true
   },
   "outputs": [],
   "source": [
    "from matplotlib import pyplot as plt\n",
    "\n",
    "from awrams.calibration import sensitivity\n",
    "from awrams.calibration.sensitivity import SensitivityResults"
   ]
  },
  {
   "cell_type": "code",
   "execution_count": null,
   "metadata": {
    "collapsed": true
   },
   "outputs": [],
   "source": [
    "#Open the results\n",
    "\n",
    "sr = SensitivityResults('./sobolres4.h5')"
   ]
  },
  {
   "cell_type": "code",
   "execution_count": null,
   "metadata": {
    "collapsed": false
   },
   "outputs": [],
   "source": [
    "#Show the global outputs that are available\n",
    "\n",
    "sr.global_keys"
   ]
  },
  {
   "cell_type": "code",
   "execution_count": null,
   "metadata": {
    "collapsed": false
   },
   "outputs": [],
   "source": [
    "# show the catchments\n",
    "sr.catchment_ids"
   ]
  },
  {
   "cell_type": "markdown",
   "metadata": {},
   "source": [
    "### View overall sensitivity of different outputs (dd_vol, etot_vol, qtot_vol) to individual parameters "
   ]
  },
  {
   "cell_type": "code",
   "execution_count": null,
   "metadata": {
    "collapsed": false
   },
   "outputs": [],
   "source": [
    "%matplotlib inline\n",
    "#Get the sensitivities for all catchments (get_all_catchment_si), and plot their distribution\n",
    "catchsens = sr.get_all_catchment_si('qtot_vol')\n",
    "plt.figure(figsize=(12, 3))\n",
    "plt.title('Sensitivity index for all catchments: Total runoff (Qtot)')\n",
    "bp = catchsens.astype(float).boxplot(return_type='axes', rot=45)\n",
    "plt.ylabel('Sensitivity index [-]')\n",
    "plt.tight_layout()\n",
    "\n",
    "catchsens = sr.get_all_catchment_si('etot_vol')\n",
    "plt.figure(figsize=(12, 3))\n",
    "plt.title('Sensitivity index for all catchments: Total actual evapotranspiration (Etot)')\n",
    "bp = catchsens.astype(float).boxplot(return_type='axes', rot=45)\n",
    "plt.ylabel('Sensitivity index [-]')\n",
    "plt.tight_layout()\n",
    "\n",
    "catchsens = sr.get_all_catchment_si('dd_vol')\n",
    "plt.figure(figsize=(12, 3))\n",
    "plt.title('Sensitivity index for all catchments: Deep drainage (Dd)')\n",
    "bp = catchsens.astype(float).boxplot(return_type='axes', rot=45)\n",
    "plt.ylabel('Sensitivity index [-]')\n",
    "plt.tight_layout()"
   ]
  },
  {
   "cell_type": "code",
   "execution_count": null,
   "metadata": {
    "collapsed": true
   },
   "outputs": [],
   "source": [
    "# Convenience functions for plotting the sensitivity indices (si and sti) \n",
    "# sti deals with the interactions between parameters, whereas si does not\n",
    "#\n",
    "# Inputs: \n",
    "#       sr= sensitivity samppling results\n",
    "#       param=  variable for analysis (from sr.global_keys)\n",
    "#       catchment=  catchment is not specified, provides the global value, else for the specified catchment\n",
    "\n",
    "def plot_si(sr, param, catchment=None):\n",
    "    fig = plt.figure(figsize=(10, 2.5))\n",
    "    if catchment is not None:\n",
    "        psens = sr.get_catchment_si(param, catchment)\n",
    "        title = '%s (Si), catch_id: %s' % (param, catchment)\n",
    "    else:\n",
    "        psens = sr.get_global_si(param)\n",
    "        title = '%s (Si), global' % param\n",
    "    psens.plot(kind='bar', xlim=[0, psens.max() + 0.1], title=title, rot=45)\n",
    "    #plt.gca().invert_yaxis()\n",
    "    \n",
    "    print(sum(psens))\n",
    "    \n",
    "\n",
    "def plot_sti(sr, param, catchment=None):\n",
    "    fig = plt.figure(figsize=(10, 2.5))\n",
    "    if catchment is not None:\n",
    "        psens = sr.get_catchment_si(param, catchment, True)\n",
    "        title = '%s (STi), catch_id: %s' % (param, catchment)\n",
    "    else:\n",
    "        psens = sr.get_global_si(param, True)\n",
    "        title = '%s (STi), global' % param\n",
    "    psens.plot(kind='bar', xlim=[0, psens.max() + 0.1], title=title, rot=45)\n",
    "    #plt.gca().invert_yaxis()\n",
    "    print(sum(psens))    "
   ]
  },
  {
   "cell_type": "code",
   "execution_count": null,
   "metadata": {
    "collapsed": false
   },
   "outputs": [],
   "source": [
    "# Show the global sensitivity index for qtot\n",
    "plot_sti(sr, 'qtot_vol')\n",
    "plot_si(sr, 'qtot_vol')\n",
    "#Get the sensitivities for individual catchments, and plot their distribution\n",
    "# Show the total sensitivity index for runoff\n",
    "plot_sti(sr, 'qtot_vol', '112102')\n",
    "#Get the sensitivities for individual catchments, and plot their distribution\n",
    "# Show the total sensitivity index for runoff\n",
    "plot_sti(sr, 'qtot_vol', '109001')"
   ]
  },
  {
   "cell_type": "code",
   "execution_count": null,
   "metadata": {
    "collapsed": false
   },
   "outputs": [],
   "source": [
    "# Show the total sensitivity index for the three outputs\n",
    "plot_sti(sr, 'qtot_vol')\n",
    "plot_sti(sr, 'etot_vol')\n",
    "plot_sti(sr, 'dd_vol')"
   ]
  },
  {
   "cell_type": "code",
   "execution_count": null,
   "metadata": {
    "collapsed": true
   },
   "outputs": [],
   "source": []
  }
 ],
 "metadata": {
  "kernelspec": {
   "display_name": "Python 3",
   "language": "python",
   "name": "python3"
  },
  "language_info": {
   "codemirror_mode": {
    "name": "ipython",
    "version": 3
   },
   "file_extension": ".py",
   "mimetype": "text/x-python",
   "name": "python",
   "nbconvert_exporter": "python",
   "pygments_lexer": "ipython3",
   "version": "3.6.6"
  }
 },
 "nbformat": 4,
 "nbformat_minor": 1
}
