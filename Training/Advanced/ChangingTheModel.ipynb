{
 "cells": [
  {
   "cell_type": "markdown",
   "metadata": {},
   "source": [
    "# Creating a modified version of the AWRA-L model\n",
    "\n",
    "In this example, we will create a local copy of AWRAL, and modify this copy to replace the existing (modelled) albedo with input data (eg satellite derived)\n"
   ]
  },
  {
   "cell_type": "code",
   "execution_count": null,
   "metadata": {},
   "outputs": [],
   "source": [
    "# Import the libraries required for this notebook\n",
    "\n",
    "from awrams.utils import config_manager\n",
    "import os\n",
    "from os.path import join\n",
    "import shutil\n",
    "from awrams.simulation import ondemand\n",
    "import pandas as pd\n",
    "from awrams.utils import datetools\n",
    "from awrams.utils import extents\n",
    "from awrams.utils.nodegraph import nodes"
   ]
  },
  {
   "cell_type": "code",
   "execution_count": null,
   "metadata": {},
   "outputs": [],
   "source": [
    "# Since we're basing this on version 6, with modifications relating to albedo, let's call it 'v6_albmod'\n",
    "\n",
    "model_name = 'v6_albmod'"
   ]
  },
  {
   "cell_type": "markdown",
   "metadata": {},
   "source": [
    "## Creating copies\n",
    "\n",
    "There are 2 components that we need to modify; the configuration files, and the core model code (C code)<br>\n",
    "Open the existing model profile and have a look at where it stores its data"
   ]
  },
  {
   "cell_type": "code",
   "execution_count": null,
   "metadata": {},
   "outputs": [],
   "source": [
    "sys_profile = config_manager.get_system_profile()\n",
    "sys_settings = sys_profile.get_settings()"
   ]
  },
  {
   "cell_type": "code",
   "execution_count": null,
   "metadata": {},
   "outputs": [],
   "source": [
    "model_profile = config_manager.get_model_profile('awral','v6_default')\n",
    "model_settings = model_profile.get_settings()"
   ]
  },
  {
   "cell_type": "code",
   "execution_count": null,
   "metadata": {},
   "outputs": [],
   "source": [
    "# Have a look at our existing system settings paths...\n",
    "\n",
    "sys_settings.DATA_PATHS"
   ]
  },
  {
   "cell_type": "code",
   "execution_count": null,
   "metadata": {},
   "outputs": [],
   "source": [
    "# Config files live just below AWRAMS_BASE\n",
    "\n",
    "model_config_base = join(sys_settings.DATA_PATHS.AWRAMS_BASE,'config/models/awral')\n",
    "os.listdir(model_config_base)"
   ]
  },
  {
   "cell_type": "code",
   "execution_count": null,
   "metadata": {},
   "outputs": [],
   "source": [
    "# Typically one might use a terminal or file manager to make the copies\n",
    "# cp /config_file_path/v6_default.py /config_file_path/v6_albmod.py\n",
    "# For convenience you can just run this cell instead\n",
    "\n",
    "shutil.copyfile(join(model_config_base,'v6_default.py'),join(model_config_base,'v6_albmod.py'))"
   ]
  },
  {
   "cell_type": "code",
   "execution_count": null,
   "metadata": {},
   "outputs": [],
   "source": [
    "# The BUILD_SETTINGS item in model_settings contains information about where this model reads its C code from\n",
    "# CORE_SRC_PATH is the one we're interested in\n",
    "\n",
    "model_settings.BUILD_SETTINGS"
   ]
  },
  {
   "cell_type": "code",
   "execution_count": null,
   "metadata": {},
   "outputs": [],
   "source": [
    "# Again, it may be more natural to use a terminal for this\n",
    "# cp -r /source_code_path/v6 /source_code_path/v6_albmod\n",
    "\n",
    "base_src_path, src_version = os.path.split(model_settings.BUILD_SETTINGS.CORE_SRC_PATH)\n",
    "shutil.copytree(model_settings.BUILD_SETTINGS.CORE_SRC_PATH,join(base_src_path,model_name))"
   ]
  },
  {
   "cell_type": "markdown",
   "metadata": {},
   "source": [
    "## Required modifications\n",
    "\n",
    "There are 2 files to modify for this<br>\n",
    "\n",
    "1. ***Configuration file*** [v6_albmod.py]\n",
    "2. ***C code*** [awral_t.c]\n",
    "\n",
    "[v6_albmod.py]: ../../awrams/config/models/awral/v6_albmod.py\n",
    "[awral_t.c]: ../../awrams/code/models/awral/v6_albmod/awral_t.c"
   ]
  },
  {
   "cell_type": "markdown",
   "metadata": {},
   "source": [
    "### Edit configuration [model_config_path] (editable)\n",
    "[model_config_path]: ../../awrams/config/models/awral/\n",
    "[v6_albmod.py]: ../../awrams/config/models/awral/v6_albmod.py\n",
    "\n",
    "There are 3 changes required in the configuration file\n",
    "\n",
    "1. ***Update the MODEL_VERSION string to point to our new code***\n",
    "2. ***Add albedo input to the MODEL_INPUTS dictionary***\n",
    "3. ***Change the input mapping to supply a default value for our new input*** "
   ]
  },
  {
   "cell_type": "markdown",
   "metadata": {},
   "source": [
    "### 1. Change the version string\n",
    "\n",
    "Modify the MODEL_VERSION string (line 32); we want to change this to reflect our new model name<br>\n",
    "This string is used to find the C source code files\n",
    "   \n",
    "#### Existing [v6_albmod.py]\n",
    "\n",
    "    32: 'MODEL_VERSION' : 'v6'\n",
    "    \n",
    "#### New [v6_albmod.py]\n",
    "\n",
    "    32: 'MODEL_VERSION' : 'v6_albmod'\n",
    "    \n",
    "[v6_albmod.py]: ../../awrams/config/models/awral/v6_albmod.py\n",
    "\n",
    "### 2. Add new input in MODEL_INPUTS\n",
    "\n",
    "There are various types of inputs specified in this dictionary:\n",
    "\n",
    "  - ***STATES_CELL***  - model states that have a single value in a grid/catchment cell (do not differ by HRU)\n",
    "  - ***STATES_HRU***   - model states that have different values on a HRU basis value in a grid/catchment cell \n",
    "  - ***INPUTS_CELL***  - model inputs that have a single value in a grid/catchment cell (do not differ by HRU)\n",
    "  - ***INPUTS_HRU***   - model inputs that have different values on an HRU basis (that may also vary by cell)\n",
    "  - ***INPUTS_HYPSO*** - inputs related to the Hypsometric curves\n",
    "  \n",
    "The type of data (ie scalar, spatial, or forcing (timeseries)) is computed from the input map, so does not need to be specified here\n",
    "\n",
    "Insert the following line (at line 69) to the INPUTS_CELL section\n",
    "\n",
    "    \"alb\": \"Surface albedo\",\n",
    "\n",
    "\n",
    "\n",
    "#### Existing [v6_albmod.py]\n",
    "\n",
    "    68: \"INPUTS_CELL\": {\n",
    "    69:     \"avpt\": \"Vapour pressure\",\n",
    "    70:     \"k0sat\": \"Hydraulic saturation (top)\",\n",
    "    71:     \"k_gw\": \"Groundwater drainage coefficient\",\n",
    "        ...\n",
    "        \n",
    "#### New [v6_albmod.py]\n",
    "\n",
    "    68: \"INPUTS_CELL\": {\n",
    "    69:     \"alb\": \"Surface albedo\",\n",
    "    70:     \"avpt\": \"Vapour pressure\",\n",
    "    71:     \"k0sat\": \"Hydraulic saturation (top)\",\n",
    "        ...\n",
    "        \n",
    "### 3. Update the input mapping to supply a value for our new input variable\n",
    "\n",
    "We need to supply a value for alb in the get_input_mapping method of the config file (starts line 183)<br>\n",
    "We'll add the following line just under mapping['pair'] since they're both constants<br>\n",
    "mapping['alb'] = nodes.const(0.3)\n",
    "\n",
    "#### Existing [v6_albmod.py]\n",
    "\n",
    "    261: mapping['pair'] = nodes.const(97500.)\n",
    "    262:\n",
    "    \n",
    "#### New [v6_albmod.py]\n",
    "    \n",
    "    261: mapping['pair'] = nodes.const(97500.)\n",
    "    262: mapping['alb'] = nodes.const(0.3)\n",
    "    263:\n",
    "    "
   ]
  },
  {
   "cell_type": "markdown",
   "metadata": {},
   "source": [
    "# 2. Modify core code [source_path] (editable)\n",
    "\n",
    "### Remove existing code block\n",
    "\n",
    "Comment out the section of the main model code ([awral_t.c]) that contains the current albedo calculation<br>\n",
    "The dynamic compiler will automatically generate the code for receiving the new input data; this is all you need to do!\n",
    "\n",
    "    229: double alb_veg = 0.452 * vc;\n",
    "    230: double alb_soil = alb_wet + (alb_dry - alb_wet) * exp(-w0 / w0ref_alb);\n",
    "    231: double alb = fveg * alb_veg + fsoil * alb_soil;\n",
    "    232: double rsn = (1.0 - alb) * rgeff;\n",
    "\n",
    "Comment out old albedo calculation code by using // ...\n",
    "\n",
    "    229: //double alb_veg = 0.452 * vc;\n",
    "    230: //double alb_soil = alb_wet + (alb_dry - alb_wet) * exp(-w0 / w0ref_alb);\n",
    "    231: //double alb = fveg * alb_veg + fsoil * alb_soil;\n",
    "    232: double rsn = (1.0 - alb) * rgeff;\n",
    "    \n",
    "[awral_t.c]: ../../awrams/code/models/awral/v6_albmod/awral_t.c\n",
    "[source_path]: ../../awrams/code/models/awral/v6_albmod/"
   ]
  },
  {
   "cell_type": "markdown",
   "metadata": {},
   "source": [
    "### Examine the new model"
   ]
  },
  {
   "cell_type": "code",
   "execution_count": null,
   "metadata": {},
   "outputs": [],
   "source": [
    "model_profile = config_manager.get_model_profile('awral',model_name)\n",
    "model_settings = model_profile.get_settings()"
   ]
  },
  {
   "cell_type": "code",
   "execution_count": null,
   "metadata": {},
   "outputs": [],
   "source": [
    "# Observe how the new paths have been set up\n",
    "model_settings.BUILD_SETTINGS"
   ]
  },
  {
   "cell_type": "markdown",
   "metadata": {},
   "source": [
    "### Running the model\n",
    "\n",
    "Here we run 2 versions of the model; v6_default, and our new v6_albmod<br>"
   ]
  },
  {
   "cell_type": "code",
   "execution_count": null,
   "metadata": {},
   "outputs": [],
   "source": [
    "# Specify the models we're interested in; by using their profile names we can easily iterate over multiple\n",
    "# models\n",
    "\n",
    "models = ['v6_default','v6_albmod']"
   ]
  },
  {
   "cell_type": "code",
   "execution_count": null,
   "metadata": {},
   "outputs": [],
   "source": [
    "period = datetools.dates('2009-2011')\n",
    "extent = extents.get_default_extent().ioffset[200:210,200:210]\n",
    "\n",
    "res = {}\n",
    "\n",
    "for m in models:\n",
    "    model_profile = config_manager.get_model_profile('awral', m)\n",
    "    imap = model_profile.get_input_mapping()\n",
    "    model = model_profile.get_model()\n",
    "    ods = ondemand.OnDemandSimulator(model,imap)\n",
    "    res[m] = ods.run(period,extent)"
   ]
  },
  {
   "cell_type": "code",
   "execution_count": null,
   "metadata": {},
   "outputs": [],
   "source": [
    "# Set up matplotlib\n",
    "\n",
    "%matplotlib inline\n",
    "\n",
    "import matplotlib\n",
    "matplotlib.rcParams['figure.figsize'] = [16,6]"
   ]
  },
  {
   "cell_type": "code",
   "execution_count": null,
   "metadata": {},
   "outputs": [],
   "source": [
    "#Albedo most directly affects potential evapotranspiration, so we'll examine e0\n",
    "\n",
    "df = pd.DataFrame(index=period)\n",
    "\n",
    "for m in models:\n",
    "    df[m] = res[m]['e0'][:,0,0]\n",
    "\n",
    "df.plot()"
   ]
  },
  {
   "cell_type": "code",
   "execution_count": null,
   "metadata": {},
   "outputs": [],
   "source": [
    "(df['v6_albmod'] - df['v6_default']).plot()"
   ]
  },
  {
   "cell_type": "code",
   "execution_count": null,
   "metadata": {},
   "outputs": [],
   "source": [
    "# Now we'll just run our fixed albedo model, but with some more extreme values of the alb constant"
   ]
  },
  {
   "cell_type": "code",
   "execution_count": null,
   "metadata": {},
   "outputs": [],
   "source": [
    "alb_comp_res = {}\n",
    "\n",
    "alb_values = [0.1,0.5,0.9]\n",
    "\n",
    "for alb in alb_values:\n",
    "    model_profile = config_manager.get_model_profile('awral', 'v6_albmod')\n",
    "    imap = model_profile.get_input_mapping()\n",
    "    \n",
    "    # Observe \n",
    "    imap.alb = nodes.const(alb)\n",
    "    \n",
    "    model = model_profile.get_model()\n",
    "    ods = ondemand.OnDemandSimulator(model,imap)\n",
    "    alb_comp_res[alb] = ods.run(period,extent)"
   ]
  },
  {
   "cell_type": "code",
   "execution_count": null,
   "metadata": {},
   "outputs": [],
   "source": [
    "#See how this effects actual evapotranspiration over time\n",
    "\n",
    "df = pd.DataFrame(index=period)\n",
    "\n",
    "for alb in alb_values:\n",
    "    df[alb] = alb_comp_res[alb]['etot'][:,0,0]\n",
    "\n",
    "df.plot()"
   ]
  },
  {
   "cell_type": "markdown",
   "metadata": {},
   "source": [
    "### Further excercises\n",
    "\n",
    "<br>\n",
    "Change the input mapping for 'alb' to point to use real data instead of a const<br><br>\n",
    "Remove redundant code - which model inputs are now unnecessary?"
   ]
  },
  {
   "cell_type": "code",
   "execution_count": null,
   "metadata": {},
   "outputs": [],
   "source": []
  },
  {
   "cell_type": "code",
   "execution_count": null,
   "metadata": {},
   "outputs": [],
   "source": []
  },
  {
   "cell_type": "code",
   "execution_count": null,
   "metadata": {},
   "outputs": [],
   "source": []
  },
  {
   "cell_type": "code",
   "execution_count": null,
   "metadata": {},
   "outputs": [],
   "source": []
  }
 ],
 "metadata": {
  "kernelspec": {
   "display_name": "Python 3",
   "language": "python",
   "name": "python3"
  },
  "language_info": {
   "codemirror_mode": {
    "name": "ipython",
    "version": 3
   },
   "file_extension": ".py",
   "mimetype": "text/x-python",
   "name": "python",
   "nbconvert_exporter": "python",
   "pygments_lexer": "ipython3",
   "version": "3.6.7"
  }
 },
 "nbformat": 4,
 "nbformat_minor": 1
}
