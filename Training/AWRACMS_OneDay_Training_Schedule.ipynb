{
 "cells": [
  {
   "cell_type": "markdown",
   "metadata": {},
   "source": [
    "# AWRA Data and Modelling System one day training overview\n"
   ]
  },
  {
   "cell_type": "markdown",
   "metadata": {
    "collapsed": true
   },
   "source": [
    "## Overview\n",
    "\n",
    "| Time |**Session** | **Presentation / Notebook** | \n",
    "|---|---|---|\n",
    "| 9:00- 9:15|<span style=\"color:blue\">**PART 1: AWRA FOR DATA USERS**</span> <br>**Welcome and introduction** ||\n",
    "| 9:15-10:30| **The Australian Landscape Water Balance website** <br> **and the AWRA model**||\n",
    "|10:30-10:45| **MORNING TEA BREAK** | |\n",
    "|10:45-12:30| **Understanding, extracting, and using data ** <br> ** from the Australian Landscape Water Balance website** ||\n",
    "|12:30-1:30| **LUNCH BREAK** | |\n",
    "|1:30 -3:00|<span style=\"color:blue\">**PART 2: AWRA FOR MODELLERS AND RESEARCHERS**</span> <br>  **Introducing the AWRA-CMS package and tools** <br>**The Basics** <br>  **1.0 Python and Jupyter notebook basic**s  <br>  **1.1 The AWRA-L model** <br>  **1.2 Understanding the AWRA-CMS package and its modules** <br> **1.3 AWRA-L deconstructed - Python version of AWRA**| <br>  <br>[Basics folder] <br> [1.0]<br> [1.1]<br> [1.2]<br> [1.3]|\n",
    "| 3:00 -3:15| **AFTERNOON TEA BREAK** |  | \n",
    "| 3:15-4:45| **Overview of the AWRA-CMS functionality** <br>Calibrating, simulating and benchmarking a region | <br> [Overview of the AWRA-CMS functionality]  |\n",
    "| 4:45 -5:00| **Summary and close course** | <br>|\n",
    "\n",
    "\n",
    "[Basics folder]: /tree/Training/Basics\n",
    "[1.0]: Basics/1.0_Python_and_Jupyter_notebook_basics.ipynb\n",
    "[1.2]: Basics/1.2_Understanding_the_AWRA_Community_Modelling_System_package_and_its_modules.ipynb\n",
    "[1.1]: Basics/1.1_The_AWRA-L_model.ipynb\n",
    "[1.3]: Basics/1.3_AWRA-L_deconstructed_-_Python_version_of_AWRA-L.ipynb\n",
    "[Simulation folder]: /tree/Training/Simulation\n",
    "[On-Demand Simulation]: Simulation/OnDemandSimulation.ipynb\n",
    "[Simulation Server]: Simulation/SimulationServer.ipynb\n",
    "[Visualisation]: Visualisation/Visualisation.ipynb\n",
    "[Extraction]: Extraction/Extraction.ipynb\n",
    "[Benchmarking folder]: /tree/Training/Benchmarking\n",
    "[Calibration]: Calibration/CalibrationExample.ipynb\n",
    "[Overview of the AWRA-CMS functionality]: Workspace/Overview_of_the_AWRA_CMS_functionality.ipynb\n",
    "[Advanced folder]: /tree/Training/Advanced\n",
    "[Changing the model]: Advanced/ChangingTheModel.ipynb\n",
    "[Sensitivity analysis]: Advanced/Using_a_different_optimiser__Sensitivity_analysis_and_Sobol_sampling.ipynb\n",
    "[Changing the objective function]: Advanced/AlterObjectiveFunction_DownloadBoMdata.ipynb"
   ]
  },
  {
   "cell_type": "code",
   "execution_count": null,
   "metadata": {
    "collapsed": true
   },
   "outputs": [],
   "source": []
  }
 ],
 "metadata": {
  "kernelspec": {
   "display_name": "Python 3",
   "language": "python",
   "name": "python3"
  },
  "language_info": {
   "codemirror_mode": {
    "name": "ipython",
    "version": 3
   },
   "file_extension": ".py",
   "mimetype": "text/x-python",
   "name": "python",
   "nbconvert_exporter": "python",
   "pygments_lexer": "ipython3",
   "version": "3.4.5"
  }
 },
 "nbformat": 4,
 "nbformat_minor": 0
}
