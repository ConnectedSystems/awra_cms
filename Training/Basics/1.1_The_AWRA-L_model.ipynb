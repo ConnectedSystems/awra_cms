{
 "cells": [
  {
   "cell_type": "markdown",
   "metadata": {},
   "source": [
    "# The AWRA-L model\n",
    "\n",
    "   1. Model description\n",
    "     - 1.1 AWRA-L: A gridded landcape water balance model\n",
    "     - 1.2 Conceptual structure\n",
    "     - 1.3 AWRA-L calibration \n",
    "     - 1.4 AWRA-L benchmarking\n",
    "   2. AWRACMS Model code location and concepts\n",
    "   \n",
    "\n",
    "     \n"
   ]
  },
  {
   "cell_type": "markdown",
   "metadata": {},
   "source": [
    "# 1. Model description\n",
    "## 1.1 AWRA-L: A gridded landcape water balance model\n",
    "\n",
    "\n",
    "![title](http://www.bom.gov.au/water/landscape/images/allFluxes.09603340.png)\n",
    "\n",
    " - Developed by CSIRO for BoM's Water Resource Assessment and Accounting purposes http://www.bom.gov.au/water/waterassessments/\n",
    " - Used in http://www.bom.gov.au/water/landscape and elsewhere"
   ]
  },
  {
   "cell_type": "markdown",
   "metadata": {},
   "source": [
    "### Documentation: \n",
    " - **Original v0.5 model parameterisation** described in: \n",
    "    - Van Dijk, A. 2010. The Australian Water Resources Assessment System. Landscape Model (version 0.5). Technical Report 3. CSIRO. Australia.  http://www.bom.gov.au/water/landscape/static/publications/Van_Dijk_AWRA05_TechReport3.pdf\n",
    " - **AWRA-L v5.0 model parameterisation**:\n",
    "     - Viney, N, Vaze J, Crosbie R, Wang B, Dawes W and Frost A (2015) AWRA-L v5.0: technical description of model algorithms and inputs. CSIRO, Australia. http://www.bom.gov.au/water/landscape/static/publications/Viney_et_al_2015_AWRA_L_5.0_model_description.pdf\n",
    " - **[BoM Model description report]**: \n",
    "     - Frost, A. J., Ramchurn, A., and Smith, A. 2016b. The Bureau’s Operational AWRA Landscape (AWRA-L) Model. Bureau of Meteorology Technical Report. http://www.bom.gov.au/water/landscape/static/publications/Frost__Model_Description_Report.pdf\n",
    " - **[BoM model benchmarking report]**:\n",
    "     - Frost, A. J., Ramchurn, A., Hafeez, M. 2016a. Evaluation of the Bureau’s Operational AWRA-L Model. Bureau of Meteorology Technical Report. http://www.bom.gov.au/water/landscape/static/publications/Frost_Evaluation_Report.pdf\n",
    "     \n",
    "## 1.2 Conceptual structure\n",
    "\n",
    "### 1.2.a.  Hydrological Response Units (HRUs)\n",
    "  - 2 hydrological response units weighted by proportion of each vegetation class within the cell\n",
    "     - deep rooted vegetation (trees)\n",
    "     - shallow rooted vegetation (grass)\n",
    "\n",
    "![title](HRU_proportions.png)\n",
    "\n",
    "Figure 4. from [BoM Model description report]\n",
    "\n",
    "\n",
    "[BoM Model description report]: http://www.bom.gov.au/water/landscape/static/publications/Frost__Model_Description_Report.pdf \n",
    "[BoM model benchmarking report]: http://www.bom.gov.au/water/landscape/static/publications/Frost_Evaluation_Report.pdf"
   ]
  },
  {
   "cell_type": "markdown",
   "metadata": {},
   "source": [
    "###  1.2.b.  Conceptual components\n",
    "\n",
    "#### AWRA-L conceptual structure diagram \n",
    " - Inputs/outputs:\n",
    "    - Purple: climate inputs\n",
    "    - Red: water flux outputs\n",
    " - Model components:\n",
    "    - Blue: water balance \n",
    "    - Brown: energy balance \n",
    "    - Green: vegetation\n",
    "    - Dotted line indicates HRU processes.\n",
    " \n",
    "![title](AWRALConceptualDiagram.PNG)\n",
    "**Figure 2 from Model Descripton report**. \n",
    "\n"
   ]
  },
  {
   "cell_type": "markdown",
   "metadata": {},
   "source": [
    "### Water balance (for each HRU)\n",
    "\n",
    "#### Includes the following processes:\n",
    "   - interception\n",
    "   - infiltration and soil drainage\n",
    "   - runoff generation (including saturated overland, interflow and baseflow), and \n",
    "   - evapotranspiration.\n",
    "\n",
    "See [BoM Model description report]: Chapter 2 Water Balance for further details.\n",
    "\n",
    "![title](AWRAL_Hydrological Processes.PNG)\n",
    "\n",
    "\n",
    "  \n",
    "###  Energy balance\n",
    "####           Determines energy available for vapour fluxes through potential evaporation (E0) estimation\n",
    "\n",
    "   - (a) Calculate energy balance (net radiation)\n",
    "    \n",
    "          Net radiation = \n",
    "                Incoming shortwave radiation \n",
    "              - Reflected outgoing shortwave \n",
    "              + Incoming longwave\n",
    "              - outgoing terrestrial radiation\n",
    "   - (b) Calculate Potential Evaporation (E0) using net radiation\n",
    "    \n",
    "See [BoM Model description report]: Chapter 3 Vapour fluxes and the energy balance for further details.\n",
    "\n",
    "\n",
    "###  Vegetation\n",
    "\n",
    "Vegetation density modulates various components of AWRA-L including E0 through albedo, interception, transpiration. \n",
    "\n",
    "Vegetation mass is constrained by mass balance and is modelled according to an equilibrium model where:\n",
    "\n",
    "      maximum transpiration rate = maximum root water uptake\n",
    "\n",
    "See [BoM Model description report]: Chapter 4 Vegetation Phenology for further details. \n",
    "[BoM Model description report]: http://www.bom.gov.au/water/landscape/static/publications/Frost__Model_Description_Report.pdf \n"
   ]
  },
  {
   "cell_type": "markdown",
   "metadata": {},
   "source": [
    "###  1.2.c. Inputs and outputs\n",
    "   - Inputs:\n",
    "      - ***Climate data***: Precipitation, solar radiation, temperature, (wind, vapour pressure) \n",
    "      - ***Static spatial grids***: slope, DEMs (Hypsometric curves), vegetation height, drainage properties etc\n",
    "   - Outputs\n",
    "      - ***Water balance fluxes***: runoff (overland flow, interflow, baseflow), evapotranspiration (AET and PET), deep drainage\n",
    "      - ***Water balance states*** : soil moisture for different layers, groundwater storage\n",
    "      - ***Other internal variables***: eg. vegetation mass\n",
    "  "
   ]
  },
  {
   "cell_type": "markdown",
   "metadata": {},
   "source": [
    "## 1.3 AWRA-L calibration:\n",
    "\n",
    "The current version of AWRA uses a **global** set of parameters which are optimised simultaneously to all calibration catchments (~300). \n",
    "\n",
    "This means that the same set of parameters are used across all of Australia, and spatial differences in the water balance are a function of the spatial inputs. \n",
    "\n",
    "   - uses streamflow data covering 1971 - 2012 for specific set of 'unimpaired' 295 catchments\n",
    "       - see list of calibration catchments here [Training\\test_data\\benchmarking\\cal.ids.295.csv]\n",
    "       \n",
    "[Training\\test_data\\benchmarking\\cal.ids.295.csv]: ..\\test_data\\benchmarking\\cal.ids.295.csv\n",
    "\n",
    "   - parameters spatially modulated according to static input grids\n",
    "   \n",
    "### AWRA-L calibration and validation catchment locations\n",
    "\n",
    "Streamflow and catchment boundary dataset described in:\n",
    "\n",
    "   - Zhang, Y. Q., Viney, N., Frost, A., Oke, A., Brooks, M., Chen, Y. and Campbell, N. (2013) Collation of streamflow and catchment attribute dataset for 780 unregulated Australian catchments. Report. CSIRO: Water for a Healthy Country National Research Flagship. http://www.bom.gov.au/water/landscape/static/publications/Zhang_etal_2013_Calibration_Catchments.pdf\n",
    "\n",
    "#### AWRA-L Unimpaired Calibration and Validation catchments \n",
    "![title](AWRAL_cal_val_catchment_locations.png)       \n",
    "\n"
   ]
  },
  {
   "cell_type": "markdown",
   "metadata": {},
   "source": [
    "##### View default v6 parameter set\n",
    "Stored in json file (https://en.wikipedia.org/wiki/JSON) specified in model settings."
   ]
  },
  {
   "cell_type": "code",
   "execution_count": null,
   "metadata": {},
   "outputs": [],
   "source": [
    "### view all parameters\n",
    "## some are fixed, others are optimised, default parameter bounds are also specified\n",
    "from awrams.utils import config_manager\n",
    "import pandas as pd\n",
    "import json\n",
    "\n",
    "model_profile = config_manager.get_model_profile('awral', 'v6_default')\n",
    "model_settings = model_profile.get_settings()\n",
    "model_paramset = json.load(open(model_settings['PARAMETER_FILE']))\n",
    "\n",
    "param_df = pd.DataFrame(model_paramset)\n",
    "param_df"
   ]
  },
  {
   "cell_type": "code",
   "execution_count": null,
   "metadata": {},
   "outputs": [],
   "source": [
    "# how many parameters are there in total to potentially optimise?\n",
    "len(param_df)"
   ]
  },
  {
   "cell_type": "code",
   "execution_count": null,
   "metadata": {},
   "outputs": [],
   "source": [
    "# count the number of fixed parameters\n",
    "sum(param_df['Fixed']==True)"
   ]
  },
  {
   "cell_type": "code",
   "execution_count": null,
   "metadata": {},
   "outputs": [],
   "source": [
    "# count the number of optimised parameters\n",
    "sum(param_df['Fixed']==False)"
   ]
  },
  {
   "cell_type": "markdown",
   "metadata": {},
   "source": [
    "### Spatial maps modulated by model parameters"
   ]
  },
  {
   "cell_type": "code",
   "execution_count": null,
   "metadata": {},
   "outputs": [],
   "source": [
    "# look at a particular parameter K0sat_scale\n",
    "param_df[param_df['MemberName']=='K0sat_scale']"
   ]
  },
  {
   "cell_type": "code",
   "execution_count": null,
   "metadata": {},
   "outputs": [],
   "source": [
    "# view a chosen spatial grid parameter\n",
    "import h5py\n",
    "filename = model_settings['SPATIAL_FILE']\n",
    "# open a connections to h5 file\n",
    "h = h5py.File(filename, 'r')\n",
    "\n",
    "# plot soil drainage parameter\n",
    "parname='k0sat'\n",
    "import matplotlib.pyplot as plt\n",
    "# magic command for inline plotting\n",
    "%matplotlib inline \n",
    "lats=list(h['dimensions']['latitude'])\n",
    "lons=list(h['dimensions']['longitude'])\n",
    "plt.figure(figsize=(16,8))  # alter the size of the output figure in inches\n",
    "plt.imshow(h['parameters'][parname],extent=[min(lons),max(lons),min(lats),max(lats)])  # extent= scalars (left, right, bottom, top)\n",
    "plt.colorbar()\n",
    "plt.title(parname)\n",
    "h.close()"
   ]
  },
  {
   "cell_type": "markdown",
   "metadata": {},
   "source": [
    "### Calibration approach\n",
    " - The **Shuffled-Complex evolution (SCE)** algorithm of Duan et al (1993) is used for finding and optimum parameter set \n",
    "     - Duan, Q.Y., Gupta, V.K. & Sorooshian, S. J Optim Theory Appl (1993) 76: 501. https://doi.org/10.1007/BF00939380\n",
    " - Individual cell water balances are calculated over the entire period (including a warm up simulation period) and cell values are combined to give catchment total runoff values \n",
    " - Total catchment runoff values are then compared to the observed streamflow through summary statistics such as Nash-Sutcliffe Efficiency:\n",
    "   - https://en.wikipedia.org/wiki/Nash%E2%80%93Sutcliffe_model_efficiency_coefficient\n",
    " - These statistics are calculated for all catchments / points used in calibration using the same set of input parameters  \n",
    " - Optimisation requires specification of a **global objective function** that collates catchment or point based **local  objective** function values\n",
    "\n",
    " - Parallel computation using MPI is used to facilitate fast evaluation/experimentation"
   ]
  },
  {
   "cell_type": "markdown",
   "metadata": {},
   "source": [
    "### Objective function - Currently uses catchment based runoff, soil moisture and ET\n",
    "\n",
    "  - ***Individual site objective function*** (TestLocalMulti in [test_objectives.py]) uses a weighted:\n",
    "      - Nash-Sutcliffe Efficiency and relative bias for runoff\n",
    "      - Correlation for satellite based soil moisture and ET\n",
    "      - individual site statistics defined  in [objectives.py]\n",
    "  - ***Global objective function*** (GlobalMultiEval in [test_objectives.py]) combines individual site values into single objective function\n",
    "      - average of ranked site objective functions for 25%, 50%, 75 and 100% values\n",
    "      \n",
    "[test_objectives.py]:../../../edit/calibration/awrams/calibration/test_objectives.py\n",
    "[objectives.py]:../../../edit/calibration/awrams/calibration/objectives/objectives.py      "
   ]
  },
  {
   "cell_type": "code",
   "execution_count": null,
   "metadata": {},
   "outputs": [],
   "source": [
    "# view the individual site objective file\n",
    "# %load ../../calibration/awrams/calibration/objectives/objectives.py"
   ]
  },
  {
   "cell_type": "code",
   "execution_count": null,
   "metadata": {},
   "outputs": [],
   "source": [
    "# view the individual site objective file\n",
    "# %load ../../calibration/awrams/calibration/objectives/test_objectives.py"
   ]
  },
  {
   "cell_type": "markdown",
   "metadata": {},
   "source": [
    "For further details see the **[BoM Model description report]: Chapter 5 Parameterisation**.\n",
    "\n",
    "**Development of the objective functions** are described in:\n",
    "\n",
    " - Viney, N.R., Perraud, J., Vaze, J., Chiew, F.H.S., Post, D.A. and Yang, A., 2009. The usefulness of bias constraints in model calibration for regionalisation to ungauged catchments. 18th World IMACS / MODSIM Congress. Modelling andSimulation Society of Australia and New Zealand and International Association for Mathematics and Computers in Simulation, Cairns, Australia, pp. 3421-3427, http://www.mssanz.org.au/modsim09/I7/viney_I7a.pdf.\n",
    "\n",
    " - Zhang, Y.Q., Viney, N.R., Chiew, F.H.S., van Dijk A.I.J.M, and Liu, Y., 2011. Improving hydrological and vegetation modelling using regional model calibration schemes together with remote sensing data, 19th World IMACS / MODSIM Congress.: Interfacing Modelling and Simulation with Mathematical and Computational Sciences, pp. 3448-3454. https://www.mssanz.org.au/modsim2011/I4/zhang.pdf\n",
    "\n",
    " - Zhang, Y.Q and Viney, N. 2012. Toward optimum multiple objective model calibrations for AWRA-L model. CSIRO: Water for a Healthy Country National Research Flagship, 18pp.  https://publications.csiro.au/rpr/download?pid=csiro:EP125044&dsid=DS1\n",
    " \n",
    "**Sensitivity analysis undertaken on AWRA-L v0.5**:  \n",
    "\n",
    "- Peeters, Luk, Crosbie, Russell, Doble, Rebecca and  Van Dijk, Albert, 2012. AWRA-L: subsurface parameterisation, sensitivity analysis and calibration targets. Australia: CSIRO Water for a Healthy Country. csiro:EP125038. https://doi.org/10.4225/08/5852dcf6023a9. https://publications.csiro.au/rpr/download?pid=csiro:EP125038&dsid=DS3\n",
    "\n",
    "\n",
    "\n",
    "[BoM Model description report]: http://www.bom.gov.au/water/landscape/static/publications/Frost__Model_Description_Report.pdf \n",
    "\n",
    "\n"
   ]
  },
  {
   "cell_type": "markdown",
   "metadata": {},
   "source": [
    "## 1.4 AWRA-L benchmarking and comparative performance\n",
    "\n",
    "**Benchmarking**: Test the model against observational datasets and compare performance against other models\n",
    "\n",
    "### BoM model evaluation/benchmarking report\n",
    "\n",
    "A comparison of AWRA-L v5 versus other national models (CABLE, WaterDyn) and locally calibrated rainfall-runoff models (eg. GR4J).\n",
    "\n",
    "#### Frost, A. J., Ramchurn, A., Hafeez, M. 2016a. Evaluation of the Bureau’s Operational AWRA-L Model. Bureau of Meteorology Technical Report. http://www.bom.gov.au/water/landscape/static/publications/Frost_Evaluation_Report.pdf\n",
    "\n",
    "\n",
    "#### Datasets used: \n",
    "\n",
    "  - **Unimpaired catchments**:  see plot of catchments above\n",
    "  \n",
    "     - **Streamflow**:\n",
    "         - see q_obs.csv in [AWRA CMS test data - calibration folder] - subset of 4 catchments for testing\n",
    "         - see Catchment_Qobs.csv in [AWRA CMS training data - calibration folder] - all catchments (only supplied in training) \n",
    "     - **Satellite based AET estimate**\n",
    "         - CMRSET - MODIS based estimate of Actual ET averaged over the catchment at monthly timescale\n",
    "         - Guerschman, J.P., Van Dijk, A.I.J.M., Mattersdorf, G., Beringer, J., Hutley, L.B., Leuning, R., Pipunic, R.C. and Sherman, B.S., 2009. Scaling of potential evapotranspiration with MODIS data reproduces flux observations and catchment water balance observations across Australia. Journal of Hydrology, 369(1-2): 107-119. https://doi.org/10.1016/j.jhydrol.2009.02.013\n",
    "         - see:\n",
    "             - cmrset_obs.csv in [AWRA CMS test data - calibration folder], and\n",
    "             - Catchments_ET_CMRS.csv in [AWRA CMS training data - calibration folder] (only supplied in training)\n",
    "             \n",
    "     - **Satellite based soil moisture**:\n",
    "        - Owe, M., R. de Jeu, and T. Holmes (2008), Multisensor historical climatology of satellite-derived global land surface moisture, J. Geophys. Res., 113, F01002, https://doi.org/10.1029/2007JF000769.\n",
    "         - see: \n",
    "            - sm_amsre_obs.csv in [AWRA CMS test data - calibration folder]\n",
    "            - Catchments_SM_AMSRE.csv in [AWRA CMS training data - calibration folder] (only supplied in training)\n",
    "            \n",
    "  - **Point based** datasets:\n",
    "     - **Soil moisture**: Profile 0-90cm   \n",
    "         - ***OzNet***  - An Australian monitoring network for soil moisture and micrometeorology (Murrumbidgee) \n",
    "             - http://www.oznet.org.au/murrumbidgeesm.html\n",
    "             - Smith, A. B., J. P.Walker, A. W.Western, R. I.Young, K. M.Ellett, R. C.Pipunic, R. B.Grayson, L.Siriwardena, F. H. S.Chiew, and H.Richter (2012), The Murrumbidgee soil moisture monitoring network data set, Water Resour. Res., 48, W07701, https://doi.org/10.1029/2012WR011976.\n",
    "                 - see [Oznet data folder] containing benchmarking data \n",
    "                 \n",
    "       - ***SASMAS*** - Scaling and Assimilation of Soil Moisture and Streamflow (Goulburn Catchment, Upper Hunter\n",
    "            - http://www.eng.newcastle.edu.au/sasmas/SASMAS/sasdata.html\n",
    "            - Rüdiger, C., G. Hancock, H. M. Hemakumara, B. Jacobs, J. D. Kalma, C. Martinez, M. Thyer, J. P. Walker, T. Wells, and G. R. Willgoose (2007), Goulburn River experimental catchment data set, Water Resour. Res., 43, W10403, https://doi.org/10.1029/2006WR005837.\n",
    "                 - see [SASMAS data folder] containing benchmarking data \n",
    "                 \n",
    "     - **Evapotranspiration from flux towers: Ozflux **: AET estimates from acorss Australia\n",
    "         - Dingo Ozflux dataset \n",
    "         - Beringer, J., Hutley, L. B., McHugh, I., Arndt, S. K., Campbell, D., Cleugh, H. A., Cleverly, J., Resco de Dios, V., Eamus, D., Evans, B., Ewenz, C., Grace, P., Griebel, A., Haverd, V., Hinko-Najera, N., Huete, A., Isaac, P., Kanniah, K., Leuning, R., Liddell, M. J., Macfarlane, C., Meyer, W., Moore, C., Pendall, E., Phillips, A., Phillips, R. L., Prober, S. M., Restrepo-Coupe, N., Rutledge, S., Schroder, I., Silberstein, R., Southall, P., Yee, M. S., Tapper, N. J., van Gorsel, E., Vote, C., Walker, J., and Wardlaw, T.: An introduction to the Australian and New Zealand flux tower network – OzFlux, Biogeosciences, 13, 5895-5916, https://doi.org/10.5194/bg-13-5895-2016, 2016.\n",
    "\t     - Beringer, J., McHugh, I., Hutley, L. B., Isaac, P., and Kljun, N.: Technical note: Dynamic INtegrated Gap-filling and partitioning for OzFlux (DINGO), Biogeosciences, 14, 1457-1460, https://doi.org/10.5194/bg-14-1457-2017, 2017.\n",
    "         - see [OzFlux data folder] containing benchmarking data \n",
    "     \n",
    "             \n",
    "             \n",
    "[AWRA CMS test data - calibration folder]: ../../test_data/calibration \n",
    "[AWRA CMS training data - calibration folder]:../../Training/test_data/calibration \n",
    "[SASMAS data folder]:../../test_data/benchmarking/sasmas                            \n",
    "[Oznet data folder]:../../test_data/benchmarking/oznet\n",
    "[OzFlux data folder]:../../test_data/benchmarking/ozflux\n",
    "\n",
    "  \n",
    "#### SASMAS, OzNet and Dingo point dataset locations\n",
    "\n",
    "![title](OzFlux_tower_OzNetSASMAS_Catchment_locations.png)\n",
    "\n"
   ]
  },
  {
   "cell_type": "markdown",
   "metadata": {},
   "source": [
    "### Runoff\n",
    " - Performs well compared to similar national gridded models (WaterDyn, CABLE) predominantly due to calibration\n",
    " - Performs well in validation compared to locally-calibrated nearest-neirbour regionalised models (e.g. GR4J)\n",
    "\n",
    "![title](Monthly_streamflow_NSE.png)\n",
    "\n",
    "Figure 11 from [BoM model benchmarking report].\n",
    "[BoM model benchmarking report]: http://www.bom.gov.au/water/landscape/static/publications/Frost_Evaluation_Report.pdf "
   ]
  },
  {
   "cell_type": "markdown",
   "metadata": {},
   "source": [
    "### Profile soil moisture (0-90cm)\n",
    "\n",
    " - Performs as well as similar nationial gridded models (WaterDyn, CABLE) \n",
    "\n",
    "####  Monthly correlation with AWRA-L simulation from Oznet Murrumbidgee probe data\n",
    "    \n",
    "![title](Oznet_correlation_profile_map.png)\n",
    "\n",
    "Figure 16(a) from [BoM model benchmarking report].\n",
    "[BoM model benchmarking report]: http://www.bom.gov.au/water/landscape/static/publications/Frost_Evaluation_Report.pdf "
   ]
  },
  {
   "cell_type": "markdown",
   "metadata": {},
   "source": [
    "### Benchmark statistics\n",
    "\n",
    "#### Various statistics computed by default  (see [benchmarking/stats.py])\n",
    "\n",
    "  - mean, variance, bias, relative bias, rmse, correlation (pearsons_r), nash-sutcliffe efficiency (nse), regression coefficients (slope, intercept, R-squared), Viney's grand objective function (fobj) \n",
    "\n",
    "[benchmarking/stats.py]: ../../../edit/benchmarking/awrams/benchmarking/stats.py\n",
    "\n",
    "#### Benchmark your results to those from AWRA-L version 5 \n",
    "\n",
    "\n",
    "  - AWRA-L v5 simulations provided for comparison purposes:\n",
    "     - eg. [AWRA-L top layer soil moisture s0 at Oznet locations]: \n",
    "     \n",
    "             see ../../test_data/benchmarking/oznet/awral_s0_avg.csv\n",
    "     \n",
    "[AWRA-L top layer soil moisture s0 at Oznet locations]:../../test_data/benchmarking/oznet/awral_s0_avg.csv     \n",
    "     \n",
    "\n",
    "  - AWRA-L v5 benchmark summary statistics detailed in Table 10 [BoM model benchmarking report]  \n",
    "[BoM model benchmarking report]: http://www.bom.gov.au/water/landscape/static/publications/Frost_Evaluation_Report.pdf  \n",
    "\n",
    "\n",
    "![title](Table10BenchmarkReport.PNG)\n",
    "\n",
    "\n",
    "  "
   ]
  },
  {
   "cell_type": "code",
   "execution_count": null,
   "metadata": {},
   "outputs": [],
   "source": [
    "# read the runoff data - notice there are 787 columns... complete Zhang dataset\n",
    "import os\n",
    "import pandas as pd\n",
    "\n",
    "system_profile = config_manager.get_system_profile()\n",
    "system_settings = system_profile.get_settings()\n",
    "\n",
    "base_data_path = system_settings['DATA_PATHS']['BASE_DATA']\n",
    "qobs = pd.read_csv(base_data_path + '/observations/runoff/awrams_v5_cal_qobs.csv')\n",
    "qobs.head()"
   ]
  },
  {
   "cell_type": "code",
   "execution_count": null,
   "metadata": {},
   "outputs": [],
   "source": [
    "# plot the timeseries for a particular site\n",
    "plt.plot(qobs['120216'])"
   ]
  },
  {
   "cell_type": "markdown",
   "metadata": {},
   "source": [
    "## Now onto ....\n",
    "\n",
    "#### [1.2 Understanding the AWRA Community Modelling System package and its modules]\n",
    "[1.2 Understanding the AWRA Community Modelling System package and its modules]: 1.2_Understanding_the_AWRA_Community_Modelling_System_package_and_its_modules.ipynb"
   ]
  },
  {
   "cell_type": "code",
   "execution_count": null,
   "metadata": {},
   "outputs": [],
   "source": []
  }
 ],
 "metadata": {
  "kernelspec": {
   "display_name": "Python 3",
   "language": "python",
   "name": "python3"
  },
  "language_info": {
   "codemirror_mode": {
    "name": "ipython",
    "version": 3
   },
   "file_extension": ".py",
   "mimetype": "text/x-python",
   "name": "python",
   "nbconvert_exporter": "python",
   "pygments_lexer": "ipython3",
   "version": "3.6.7"
  }
 },
 "nbformat": 4,
 "nbformat_minor": 1
}
