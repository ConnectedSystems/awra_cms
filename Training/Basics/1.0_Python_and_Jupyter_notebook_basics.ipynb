{
 "cells": [
  {
   "cell_type": "markdown",
   "metadata": {},
   "source": [
    "\n",
    "# Python and Jupyter Notebook Basics"
   ]
  },
  {
   "cell_type": "markdown",
   "metadata": {},
   "source": [
    "1.  Jupyter notebook\n",
    "2.  Python Basics\n",
    " - 2.1 Data types and Built-in Functions\n",
    " - 2.2 Python packages\n",
    " - 2.3 Understanding the file structure"
   ]
  },
  {
   "cell_type": "markdown",
   "metadata": {},
   "source": [
    "#### We assume you have basic familiarity with Python and the Jupyter Notebook environment\n",
    "#### A quick refresh"
   ]
  },
  {
   "cell_type": "markdown",
   "metadata": {},
   "source": [
    "# 1. Jupyter Notebook\n",
    "\n",
    "The Jupyter Notebook App is a server-client application that allows editing and running interactive notebook documents containing Python code via a web browser, see:\n",
    "\n",
    "* http://jupyter-notebook-beginner-guide.readthedocs.io/en/latest/what_is_jupyter.html\n",
    "* https://www.datacamp.com/community/tutorials/tutorial-jupyter-notebook\n"
   ]
  },
  {
   "cell_type": "code",
   "execution_count": null,
   "metadata": {},
   "outputs": [],
   "source": [
    "# To run a cell and go to next cell press Shift + Enter (when in the cell)\n",
    "# To run a cell and stay in that cell press Ctrl + Enter (when in the cell)\n",
    "# Once a cell is run the outputs are written below\n",
    "# Example below prints a string statement  \"Hello, World\"\n",
    "print(\"Hello, World\")\n",
    "a=1\n",
    "b=1\n",
    "a+b"
   ]
  },
  {
   "cell_type": "markdown",
   "metadata": {},
   "source": [
    "### Things to note:\n",
    "\n",
    "  - Press ***Shift + Enter*** to run a cell and move to the next\n",
    "  - Press ***Ctrl + Enter*** to run a cell and stay in it  \n",
    "  - Save your code and output as part of your **.ipynb** notebook\n",
    "  - requires a computational **kernel** to be running in the background - restart to reset.\n",
    "  - **Markdown** versus **Code** cell type\n",
    "  - You can see which notebooks are running by clicking on the **Running** tab\n",
    "      - Shutdown some notebooks if running too slow / out of RAM\n",
    "\n",
    "### Handy features\n",
    "\n",
    "  - Tab completion\n",
    "  - **Edit** versus **Command** mode: when in a cell..\n",
    "      - press ***Esc*** to enter **Command** mode, then type ***H*** for list of help commands (note change to blue outline)\n",
    "      - press ***Enter*** to enter **Edit** mode\n",
    "  - Folding outputs for readability\n",
    "      - click on the output cell to the left to fold\n",
    "\n",
    "      \n",
    "  \n",
    "## Jupyter notebook questions???  \n",
    "\n",
    "\n",
    "\n",
    "\n",
    "  "
   ]
  },
  {
   "cell_type": "markdown",
   "metadata": {},
   "source": [
    "# 2. Python Basics"
   ]
  },
  {
   "cell_type": "markdown",
   "metadata": {},
   "source": [
    "## 2.1 Data types and Built-in Functions"
   ]
  },
  {
   "cell_type": "code",
   "execution_count": null,
   "metadata": {},
   "outputs": [],
   "source": [
    "# Data types include Numeric (int,float, complex)\n",
    "# https://en.wikibooks.org/wiki/Python_Programming/Data_Types\n",
    "# you can determine the type by using the type() function\n",
    "# functions are indicated by parenthesis ()\n",
    "type(2)"
   ]
  },
  {
   "cell_type": "code",
   "execution_count": null,
   "metadata": {},
   "outputs": [],
   "source": [
    "# Data types: boolean\n",
    "type(True)  # or False"
   ]
  },
  {
   "cell_type": "code",
   "execution_count": null,
   "metadata": {},
   "outputs": [],
   "source": [
    "type('This is a string')"
   ]
  },
  {
   "cell_type": "code",
   "execution_count": null,
   "metadata": {},
   "outputs": [],
   "source": [
    "## Iterables\n",
    "# List []\n",
    "mylist = [0.1,2,3,4,5]\n",
    "type(mylist)"
   ]
  },
  {
   "cell_type": "code",
   "execution_count": null,
   "metadata": {},
   "outputs": [],
   "source": [
    "# indexes start at zero\n",
    "mylist[5]"
   ]
  },
  {
   "cell_type": "code",
   "execution_count": null,
   "metadata": {},
   "outputs": [],
   "source": [
    "# dictionaries {}\n",
    "mydict = {\"NSW\": \"Sydney\", \"VIC\": \"Melbourne\", 'TAS': 'Hobart'}\n",
    "mydict[\"TAS\"]"
   ]
  },
  {
   "cell_type": "code",
   "execution_count": null,
   "metadata": {},
   "outputs": [],
   "source": [
    "mydict.keys()"
   ]
  },
  {
   "cell_type": "code",
   "execution_count": null,
   "metadata": {},
   "outputs": [],
   "source": [
    "# try tab completion\n",
    "mydict."
   ]
  },
  {
   "cell_type": "code",
   "execution_count": null,
   "metadata": {},
   "outputs": [],
   "source": [
    "# Operators: +,-,*,/,%,//,** # see https://www.programiz.com/python-programming/operators\n",
    "# eg. sum\n",
    "2+2"
   ]
  },
  {
   "cell_type": "code",
   "execution_count": null,
   "metadata": {},
   "outputs": [],
   "source": [
    "# Assign a value  to a variable using '=' and evaluate\n",
    "x=10;\n",
    "y=15;\n",
    "z=x+y;\n",
    "z"
   ]
  },
  {
   "cell_type": "code",
   "execution_count": null,
   "metadata": {},
   "outputs": [],
   "source": [
    "# some operators work for strings as well\n",
    "'The quick brown fox' + ' jumped over the lazy dog'"
   ]
  },
  {
   "cell_type": "code",
   "execution_count": null,
   "metadata": {},
   "outputs": [],
   "source": [
    "# Comparison operators\n",
    "# equal '==' to , not equal to '!=', '>' greater than, '<=' less than or equal to \n",
    "'red'=='bred'"
   ]
  },
  {
   "cell_type": "code",
   "execution_count": null,
   "metadata": {},
   "outputs": [],
   "source": [
    "# check if not equal to\n",
    "'red'!='bred' # "
   ]
  },
  {
   "cell_type": "code",
   "execution_count": null,
   "metadata": {},
   "outputs": [],
   "source": [
    "# or, not, and..\n",
    "mycheck= (2<4 and 'red'=='bred')"
   ]
  },
  {
   "cell_type": "code",
   "execution_count": null,
   "metadata": {},
   "outputs": [],
   "source": [
    "# if, elif, else\n",
    "if(mycheck==True):\n",
    "    print('mycheck was True')\n",
    "elif(mycheck==False) : # elif short for esle if\n",
    "    print('mycheck was False')\n",
    "else:\n",
    "    print('mycheck was something else')"
   ]
  },
  {
   "cell_type": "code",
   "execution_count": null,
   "metadata": {},
   "outputs": [],
   "source": [
    "# for loops iterating over list items\n",
    "for i in mylist:\n",
    "    print(i)"
   ]
  },
  {
   "cell_type": "code",
   "execution_count": null,
   "metadata": {},
   "outputs": [],
   "source": [
    "# Python has various intrinsic functions \n",
    "# https://docs.python.org/3.2/library/functions.html\n",
    "# range function for sequences\n",
    "for i in range(0,5,1):  # same as range(5)\n",
    "    print(i,mylist[i])"
   ]
  },
  {
   "cell_type": "code",
   "execution_count": null,
   "metadata": {},
   "outputs": [],
   "source": [
    "min(mylist)"
   ]
  },
  {
   "cell_type": "code",
   "execution_count": null,
   "metadata": {},
   "outputs": [],
   "source": [
    "sum(mylist)"
   ]
  },
  {
   "cell_type": "code",
   "execution_count": null,
   "metadata": {},
   "outputs": [],
   "source": [
    "# viewing help\n",
    "sum?"
   ]
  },
  {
   "cell_type": "code",
   "execution_count": null,
   "metadata": {},
   "outputs": [],
   "source": [
    "# alternatively press shift-tab 3 times... to display help after typing function\n",
    "sum(mylist)"
   ]
  },
  {
   "cell_type": "code",
   "execution_count": null,
   "metadata": {},
   "outputs": [],
   "source": [
    "# define your own functions using def\n",
    "def mySumFunc(x,y):\n",
    "    z=x+y\n",
    "    return z\n"
   ]
  },
  {
   "cell_type": "code",
   "execution_count": null,
   "metadata": {},
   "outputs": [],
   "source": [
    "# run function for two integers\n",
    "mySumFunc(1,2)"
   ]
  },
  {
   "cell_type": "code",
   "execution_count": null,
   "metadata": {},
   "outputs": [],
   "source": [
    "# now try it for two strings\n",
    "mySumFunc('Hello','World')"
   ]
  },
  {
   "cell_type": "code",
   "execution_count": null,
   "metadata": {},
   "outputs": [],
   "source": [
    "# Error messages:\n",
    "# you will get an error message if your code has an issue /cant complete\n",
    "# start at the bottom of the error message and work your way up to work out why..\n",
    "# Cant use + operand for integer and string type inputs put together\n",
    "mySumFunc(1,'World')"
   ]
  },
  {
   "cell_type": "code",
   "execution_count": null,
   "metadata": {},
   "outputs": [],
   "source": [
    "%%writefile mytest.py\n",
    "# you can define your own functions using def\n",
    "def myTestFunc(x,y):\n",
    "    z=x+y\n",
    "    return z"
   ]
  },
  {
   "cell_type": "code",
   "execution_count": null,
   "metadata": {},
   "outputs": [],
   "source": [
    "# %load mytest.py\n",
    "# you can define your own functions using def\n",
    "def myTestFunc(x,y):\n",
    "    z=x+y\n",
    "    return z"
   ]
  },
  {
   "cell_type": "markdown",
   "metadata": {},
   "source": [
    "### You can use the editor in Jupyter...\n",
    "\n",
    "Navigate to [mytest.py] and click on it:\n",
    "\n",
    "             /Training/Basics/mytest.py\n",
    "\n",
    "[mytest.py]: /edit/Training/Basics/mytest.py\n",
    "\n"
   ]
  },
  {
   "cell_type": "code",
   "execution_count": null,
   "metadata": {},
   "outputs": [],
   "source": [
    "# function below does not work as it has not been run/defined yet\n",
    "myTestFunc(1,7)"
   ]
  },
  {
   "cell_type": "code",
   "execution_count": null,
   "metadata": {},
   "outputs": [],
   "source": [
    "# run the function from within the python .py file\n",
    "%run mytest.py"
   ]
  },
  {
   "cell_type": "code",
   "execution_count": null,
   "metadata": {},
   "outputs": [],
   "source": [
    "# now the function works\n",
    "myTestFunc(1,7)"
   ]
  },
  {
   "cell_type": "code",
   "execution_count": null,
   "metadata": {},
   "outputs": [],
   "source": [
    "# classes - see https://docs.python.org/3/tutorial/classes.html\n",
    "class MyClass:\n",
    "    \"\"\"A simple example class\"\"\"\n",
    "    i = 12345\n",
    "\n",
    "    def f(self):\n",
    "        return 'hello world'"
   ]
  },
  {
   "cell_type": "code",
   "execution_count": null,
   "metadata": {},
   "outputs": [],
   "source": [
    "# class instantiation \n",
    "x = MyClass()\n",
    "x"
   ]
  },
  {
   "cell_type": "code",
   "execution_count": null,
   "metadata": {},
   "outputs": [],
   "source": [
    "x.f()"
   ]
  },
  {
   "cell_type": "code",
   "execution_count": null,
   "metadata": {},
   "outputs": [],
   "source": [
    "x.i"
   ]
  },
  {
   "cell_type": "markdown",
   "metadata": {},
   "source": [
    "### Python basics questions???"
   ]
  },
  {
   "cell_type": "markdown",
   "metadata": {},
   "source": [
    "## 2.2 Python packages"
   ]
  },
  {
   "cell_type": "markdown",
   "metadata": {},
   "source": [
    "Various user contributed Python packages are used with the AWRA CMS, in particular:\n",
    " * matplotlib - a Python 2D plotting library - see  https://matplotlib.org/ \n",
    " * numpy      - standard array types and linear algebra - see http://www.numpy.org/\n",
    " * pandas     - high-performance, easy-to-use data structures and data analysis tools http://pandas.pydata.org/\n",
    " * netCDF4 package and netcdf library \n",
    " * HDF5 - http://www.h5py.org/\n",
    " * mpi4py - http://mpi4py.readthedocs.io/\n",
    " * GDAL -https://pypi.python.org/pypi/GDAL\n",
    " \n",
    "amongst others. These packages have already been installed."
   ]
  },
  {
   "cell_type": "code",
   "execution_count": null,
   "metadata": {},
   "outputs": [],
   "source": [
    "## Import the packages (or components) with shortened alias names for use\n",
    "import numpy as np\n",
    "from matplotlib import pyplot as plt"
   ]
  },
  {
   "cell_type": "code",
   "execution_count": null,
   "metadata": {},
   "outputs": [],
   "source": [
    "# numpy arrays \n",
    "# evaluating line below provides nothing back [] as it is comparing  a list versus a single value\n",
    "np.where(mylist==5.0)\n"
   ]
  },
  {
   "cell_type": "code",
   "execution_count": null,
   "metadata": {},
   "outputs": [],
   "source": [
    "# Coerce the list to a numpy array and then use to compare\n",
    "np.array(mylist)"
   ]
  },
  {
   "cell_type": "code",
   "execution_count": null,
   "metadata": {},
   "outputs": [],
   "source": [
    "np.where(np.array(mylist)==5.0)\n"
   ]
  },
  {
   "cell_type": "code",
   "execution_count": null,
   "metadata": {},
   "outputs": [],
   "source": [
    "# simple numpy example producing evenly spaced numbers over a specified interval\n",
    "x = np.linspace(0, 10,50)\n",
    "x"
   ]
  },
  {
   "cell_type": "code",
   "execution_count": null,
   "metadata": {},
   "outputs": [],
   "source": [
    "# demonstrate the plotting ability of matplotlib pyplot\n",
    "plt.plot(x, np.sin(x**2))"
   ]
  },
  {
   "cell_type": "markdown",
   "metadata": {},
   "source": [
    "### Magic (%) commands: enabling inline plotting"
   ]
  },
  {
   "cell_type": "markdown",
   "metadata": {},
   "source": [
    "To enable viewing of plots inline interactively you ***MUST*** \n",
    "use the following magic command (% indicates magic)\n",
    "http://ipython.readthedocs.io/en/stable/interactive/magics.html\n",
    "\n",
    "This maybe already setup for you so you dont need to, depending on your install."
   ]
  },
  {
   "cell_type": "code",
   "execution_count": null,
   "metadata": {},
   "outputs": [],
   "source": [
    "%matplotlib inline "
   ]
  },
  {
   "cell_type": "code",
   "execution_count": null,
   "metadata": {},
   "outputs": [],
   "source": [
    "# simple plot\n",
    "plt.plot(x, np.sin(x**2))"
   ]
  },
  {
   "cell_type": "code",
   "execution_count": null,
   "metadata": {},
   "outputs": [],
   "source": [
    "# Create a formatted plot with another line overlain, plus a few dots\n",
    "# then save to png file\n",
    "# see https://matplotlib.org/users/pyplot_tutorial.html\n",
    "plt.figure(figsize=(14,3))  # alter the size of the output figure in inches\n",
    "plt.plot(x, np.sin(x**2),color='red',label='red sine line') # red sine line\n",
    "plt.plot([0,10],[0.5,.5],'--',color='blue',label='blue line') # add blue dashed line\n",
    "plt.plot(x, np.sin(x**2), 'go',label='green dots') # green dots rather than a line:  'go' short for 'g' green 'o' dots  \n",
    "plt.title(\"My title\")  # set title\n",
    "plt.xlabel('My x-label') # set x-label\n",
    "plt.ylabel('My y-label') # set y-label\n",
    "plt.ylim([0,1]) #   set y-limits\n",
    "plt.legend(loc=3) # legend bottom left\n",
    "# save '.png' figure to file with 'tight' layout\n",
    "plt.savefig('my_demo_png.png',bbox_inches='tight')"
   ]
  },
  {
   "cell_type": "markdown",
   "metadata": {},
   "source": [
    "##### view your png file - Set cell as a Markdown and type ...\n",
    "![title](my_demo_png.png)"
   ]
  },
  {
   "cell_type": "code",
   "execution_count": null,
   "metadata": {},
   "outputs": [],
   "source": [
    "# Combine x and y of plotted data and write csv of data to file\n",
    "y=np.sin(x**2)\n",
    "z=np.column_stack((x,y))\n",
    "z\n",
    "np.savetxt(\"my_foo.csv\", z, delimiter=\",\")\n",
    "\n",
    "# other methods with Pandas DataFrames .to_csv()"
   ]
  },
  {
   "cell_type": "markdown",
   "metadata": {},
   "source": [
    "### Python package questions???"
   ]
  },
  {
   "cell_type": "code",
   "execution_count": null,
   "metadata": {},
   "outputs": [],
   "source": [
    "## Location of files."
   ]
  },
  {
   "cell_type": "code",
   "execution_count": null,
   "metadata": {},
   "outputs": [],
   "source": [
    "# Access the command line (i.e. linux bash) using the ! command and run a command\n",
    "# Bash Shell Reference   - see https://courses.cs.washington.edu/courses/cse390a/15au/bash.html\n",
    "# e.g. pwd (print working directory) \n",
    "!pwd"
   ]
  },
  {
   "cell_type": "code",
   "execution_count": null,
   "metadata": {},
   "outputs": [],
   "source": [
    "# List the contents of the directory\n",
    "!ls ../../"
   ]
  },
  {
   "cell_type": "markdown",
   "metadata": {},
   "source": [
    "### Now onto understanding [1.1 The AWRA-L model] ...\n",
    "\n",
    "[1.1 The AWRA-L model]: 1.1_The_AWRA-L_model.ipynb"
   ]
  },
  {
   "cell_type": "code",
   "execution_count": null,
   "metadata": {},
   "outputs": [],
   "source": []
  },
  {
   "cell_type": "code",
   "execution_count": null,
   "metadata": {},
   "outputs": [],
   "source": []
  },
  {
   "cell_type": "code",
   "execution_count": null,
   "metadata": {},
   "outputs": [],
   "source": []
  },
  {
   "cell_type": "code",
   "execution_count": null,
   "metadata": {},
   "outputs": [],
   "source": []
  }
 ],
 "metadata": {
  "kernelspec": {
   "display_name": "Python 3",
   "language": "python",
   "name": "python3"
  },
  "language_info": {
   "codemirror_mode": {
    "name": "ipython",
    "version": 3
   },
   "file_extension": ".py",
   "mimetype": "text/x-python",
   "name": "python",
   "nbconvert_exporter": "python",
   "pygments_lexer": "ipython3",
   "version": "3.6.6"
  }
 },
 "nbformat": 4,
 "nbformat_minor": 1
}
