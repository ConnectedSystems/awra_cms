{
 "cells": [
  {
   "cell_type": "code",
   "execution_count": null,
   "metadata": {},
   "outputs": [],
   "source": [
    "%matplotlib inline\n",
    "import matplotlib.pyplot as plt\n",
    "\n",
    "from awrams.utils import extents\n",
    "from awrams.utils import datetools as dt\n",
    "from awrams.utils.nodegraph import nodes\n",
    "from awrams.simulation import ondemand"
   ]
  },
  {
   "cell_type": "markdown",
   "metadata": {},
   "source": [
    "# The AWRA-CMS Configuration System\n",
    "\n",
    "The purpose of this notebook is to demonstrate the AWRA-CMS configuration system. You will need to understand this configuration to setup, customise and run simulations on your system. The notebook has the following sections:\n",
    "1. Model configuration\n",
    "2. System configuration\n",
    "3. Small scale changes to model and system profile\n",
    "4. Large scale changes to model and system profile\n",
    "\n",
    "The AWRA-CMS has the flexibility to be run with multiple versions of AWRA-L models on both Windows and Linux systems. It uses a \"model profile\" to define the model to run, and a \"system profile\" to specify system specific settings to use when running it. The intent of this design is to allow you to easily share results by only requiring your notebook, model profile and perhaps system profile to be shared for others to reproduce your results.\n",
    "\n",
    "The interface for interacting with these profiles is the `config_manager` module: "
   ]
  },
  {
   "cell_type": "code",
   "execution_count": null,
   "metadata": {},
   "outputs": [],
   "source": [
    "from awrams.utils import config_manager"
   ]
  },
  {
   "cell_type": "markdown",
   "metadata": {},
   "source": [
    "Model and system profiles are Python modules that the `config_manager` looks for in `${AWRAMS_BASE_PATH}/config/models` and `${AWRAMS_BASE_PATH}/config/system` respectively. `AWRAMS_BASE_PATH` is an environment variable that should be set by the activation script used to activate the `awra-cms` environment. The `config_manager` can be used to see what `AWRAMS_BASE_PATH` is currently set to:"
   ]
  },
  {
   "cell_type": "code",
   "execution_count": null,
   "metadata": {},
   "outputs": [],
   "source": [
    "base_path = config_manager.get_awrams_base_path()\n",
    "str(base_path)"
   ]
  },
  {
   "cell_type": "markdown",
   "metadata": {},
   "source": [
    "It can also be used to set `AWRAMS_BASE_PATH` from your notebook:"
   ]
  },
  {
   "cell_type": "code",
   "execution_count": null,
   "metadata": {},
   "outputs": [],
   "source": [
    "config_manager.set_awrams_base_path(str(base_path))"
   ]
  },
  {
   "cell_type": "markdown",
   "metadata": {},
   "source": [
    "## Model configuration\n",
    "\n",
    "Model profiles are used to control:\n",
    "- Which `awrams.models` class is used.\n",
    "- What parameters the model is run with (e.g fixed and calibrated).\n",
    "- What inputs the model needs.\n",
    "- What values to use for those inputs (e.g constant value, computed values, spatio-temporal data from files, etc).\n",
    "- What to use for initial states.\n",
    "- What variables the model will output.\n",
    "\n",
    "They can be retrieved by passing a model type and version to the `config_manager`'s `get_model_profile` method, which will load `${AWRAMS_BASE_PATH}/config/models/[TYPE]/[VERSION].py`:"
   ]
  },
  {
   "cell_type": "code",
   "execution_count": null,
   "metadata": {},
   "outputs": [],
   "source": [
    "# The model type and version arguments are optional and we've used the default values here.\n",
    "# Generally the AWRA-CMS is run with only 'awral' type models but has been designed to accomodate other model types.\n",
    "model_type = 'awral'\n",
    "\n",
    "# This is the most recent AWRA-L model version, but a v5 profile also comes packaged with the AWRA-CMS.\n",
    "model_version = 'v6_default'  \n",
    "\n",
    "model_profile = config_manager.get_model_profile(model_type, model_version)"
   ]
  },
  {
   "cell_type": "code",
   "execution_count": null,
   "metadata": {},
   "outputs": [],
   "source": [
    "# NOTE: System specific file paths appearing below are actually pulled from the system profile by 'get_settings'.\n",
    "model_settings = model_profile.get_settings()\n",
    "model_settings"
   ]
  },
  {
   "cell_type": "markdown",
   "metadata": {},
   "source": [
    "As `model_settings` is a nested Python dictionary we can access the individual elements, e.g.:"
   ]
  },
  {
   "cell_type": "code",
   "execution_count": null,
   "metadata": {},
   "outputs": [],
   "source": [
    "model_settings['CLIMATE_DATASET']['FORCING']['PATH']"
   ]
  },
  {
   "cell_type": "markdown",
   "metadata": {},
   "source": [
    "To run the model we will need the input mapping and we can get the model input map using the model settings:"
   ]
  },
  {
   "cell_type": "code",
   "execution_count": null,
   "metadata": {},
   "outputs": [],
   "source": [
    "input_map = model_profile.get_input_mapping(model_settings)\n",
    "input_map"
   ]
  },
  {
   "cell_type": "markdown",
   "metadata": {},
   "source": [
    "As the input map is a Python dictionary we can access individual elements using their corresponding keys:"
   ]
  },
  {
   "cell_type": "code",
   "execution_count": null,
   "metadata": {},
   "outputs": [],
   "source": [
    "input_map['precip_f']"
   ]
  },
  {
   "cell_type": "markdown",
   "metadata": {},
   "source": [
    "If we can change an element of the `model_settings` we will need to feed this back into the model before setting up the input map to ensure that our changes are made before running the model:"
   ]
  },
  {
   "cell_type": "code",
   "execution_count": null,
   "metadata": {},
   "outputs": [],
   "source": [
    "model_settings['CLIMATE_DATASET']['FORCING']['PATH'] = '/new/path/to/forcing'\n",
    "input_map = model_profile.get_input_mapping(model_settings)"
   ]
  },
  {
   "cell_type": "markdown",
   "metadata": {},
   "source": [
    "We can then confirm that the path to forcing has changed in the input mapping:"
   ]
  },
  {
   "cell_type": "code",
   "execution_count": null,
   "metadata": {},
   "outputs": [],
   "source": [
    "input_map['precip_f']"
   ]
  },
  {
   "cell_type": "markdown",
   "metadata": {},
   "source": [
    "### Exercises:\n",
    "1. Retrieve the `MODEL_VERSION` from the `model_settings` dictionary by specifying its key in square brackets *Note that as `model settings` is a nested dictionary you will need two sets of square brackets.\n",
    "2. Change the path to the spatial file in `model_settings` i.e. `['SPATIAL_FILE']` and update the `input_map`. Confirm that he path has changed as you expect."
   ]
  },
  {
   "cell_type": "code",
   "execution_count": null,
   "metadata": {},
   "outputs": [],
   "source": []
  },
  {
   "cell_type": "markdown",
   "metadata": {},
   "source": [
    "## System configuration\n",
    "\n",
    "System profiles are intended to contain all settings that are specific to the system we are running on. For general AWRA-CMS users, the most important thing to note is that **system profiles are where you should specify the location of files on the local filesystem that are needed by the AWRA-CMS**.\n",
    "\n",
    "For more advanced users and system administrators, system profiles also provide control over:\n",
    "- MPI configuration (e.g choice of whether to use `mpirun`, `aprun`, etc for launching parallel computations).\n",
    "- IO settings (e.g chunking of input and output data).\n",
    "- Logger settings.\n",
    "\n",
    "The system profile used by the AWRA-CMS is controlled by the `AWRAMS_SYSTEM_PROFILE` environment variable. When running, the AWRA-CMS will load `${AWRAMS_BASE_PATH}/config/system/${AWRAMS_SYSTEM_PROFILE}.py` to look up system settings.\n",
    "\n",
    "The `config_manager` allows you to set the active system profile in your notebooks using the `set_active_system_profile` method, and to inspect the current system profile using the `get_system_profile` method:"
   ]
  },
  {
   "cell_type": "code",
   "execution_count": null,
   "metadata": {},
   "outputs": [],
   "source": [
    "profile_name = 'default'\n",
    "\n",
    "# Under-the-hood, this just sets the AWRAMS_SYSTEM_PROFILE environment variable.\n",
    "config_manager.set_active_system_profile(profile_name)\n",
    "\n",
    "# The profile name argument is optional and will default to whatever the AWRAMS_SYSTEM_PROFILE environment variable is\n",
    "# or to 'default' if that's not set.\n",
    "system_profile = config_manager.get_system_profile(profile_name)"
   ]
  },
  {
   "cell_type": "markdown",
   "metadata": {},
   "source": [
    "You can make changes to system settings in your notebooks by first retrieving the system settings from the system profile:"
   ]
  },
  {
   "cell_type": "code",
   "execution_count": null,
   "metadata": {
    "scrolled": true
   },
   "outputs": [],
   "source": [
    "system_settings = system_profile.get_settings()\n",
    "system_settings"
   ]
  },
  {
   "cell_type": "markdown",
   "metadata": {},
   "source": [
    "As `system_settings` is a nested Python dictionary we can access the individual elements, e.g.:"
   ]
  },
  {
   "cell_type": "code",
   "execution_count": null,
   "metadata": {},
   "outputs": [],
   "source": [
    "system_settings['DATA_PATHS']['CATCHMENT_SHAPEFILE']"
   ]
  },
  {
   "cell_type": "markdown",
   "metadata": {},
   "source": [
    "If we change elements of the `system_settings` though, **we have to feed this back to the model profile before running our simulation, calibration, etc**."
   ]
  },
  {
   "cell_type": "code",
   "execution_count": null,
   "metadata": {},
   "outputs": [],
   "source": [
    "system_settings['DATA_PATHS']['CATCHMENT_SHAPEFILE'] = '/new/path/to/shapefile/Final_list_all_attributes.shp'\n",
    "system_settings\n",
    "model_settings = model_profile.get_settings(system_settings)\n",
    "model_settings"
   ]
  },
  {
   "cell_type": "markdown",
   "metadata": {},
   "source": [
    "### Exercise:\n",
    "Retrieve  the climate datasets training forcing path from the `system_settings` dictionary"
   ]
  },
  {
   "cell_type": "code",
   "execution_count": null,
   "metadata": {},
   "outputs": [],
   "source": []
  },
  {
   "cell_type": "markdown",
   "metadata": {},
   "source": [
    "## Small scale changes to model and system profile\n",
    "\n",
    "For pedalogical purposes we introduce `model_settings` before `system_settings` but in AWRA-CMS workflows you will need to load the system settings before the model settings.\n",
    "\n",
    "**Example workflow:**"
   ]
  },
  {
   "cell_type": "code",
   "execution_count": null,
   "metadata": {},
   "outputs": [],
   "source": [
    "from awrams.utils import config_manager\n",
    "\n",
    "# 1) Load system profile and settings\n",
    "system_profile = config_manager.get_system_profile('default')\n",
    "system_settings = system_profile.get_settings()\n",
    "\n",
    "# 2) Make changes to the system settings\n",
    "#system_settings['DATA_PATHS']['CATCHMENT_SHAPEFILE'] = '/new/path/to/shapefile/Final_list_all_attributes.shp'\n",
    "\n",
    "# 3) Pass system settings to the model profile to return model settings that incorporate the change in system settings \n",
    "model_profile = config_manager.get_model_profile('awral', 'v6_default')\n",
    "model_settings = model_profile.get_settings(system_settings)\n",
    "\n",
    "# 4) Make model settings changes\n",
    "#model_settings['CLIMATE_DATASET']['FORCING']['PATH'] = '/new/path/to/forcing'\n",
    "\n",
    "# 5) Extract the input map from the updated model settings\n",
    "input_map = model_profile.get_input_mapping(model_settings)\n",
    "\n",
    "# 6) Make any additional changes to the input_map, e,g. fix the scale for effective porosity:\n",
    "input_map['ne_scale'] = nodes.parameter(fixed=True, value=0.5, max_val=1, min_val=0.001, description='Scale for effective porosity - fixed to 0.5')\n",
    "\n",
    "# 7) Use the get_model method to instantiate the model with the model settings \n",
    "awral_model = model_profile.get_model(model_settings)\n",
    "\n",
    "# 8) Get an instance of the model runner engine - passing in the model (awral and input_map defined earlier)\n",
    "runner = ondemand.OnDemandSimulator(awral_model, input_map)\n",
    "\n",
    "# 9) Run the on demand simulation\n",
    "my_period = dt.dates('jan 2010 - dec 2010')\n",
    "def_ext = extents.get_default_extent()\n",
    "my_extent = def_ext.factory.get_by_cell_coords(-36.75, 144.30)\n",
    "results, inputs = runner.run(my_period, my_extent, True, False)"
   ]
  },
  {
   "cell_type": "code",
   "execution_count": null,
   "metadata": {},
   "outputs": [],
   "source": [
    "plt.figure(figsize=(16, 3))\n",
    "plt.plot(results['qtot'], label='qtot: Runoff')\n",
    "plt.plot(results['etot'], label='etot : Actual evapotranspiration')\n",
    "plt.plot(results['e0'], label='e0 : Potential evaporation')\n",
    "plt.plot(results['dd'], label='dd : Deep drainage')\n",
    "plt.xlabel('Day')\n",
    "plt.ylabel('Flux [mm]')\n",
    "plt.legend()"
   ]
  },
  {
   "cell_type": "markdown",
   "metadata": {},
   "source": [
    "## Large scale changes to model and system profile"
   ]
  },
  {
   "cell_type": "markdown",
   "metadata": {},
   "source": [
    "If you would like to change a small number of aspects of the system profile you can do this inside the notebook. However, if you would like to make larger scale changes to model and system profiles then we recommend that you create a new config file in `$AWRAMS_BASE_PATH/config/models` and/or `$AWRAMS_BASE_PATH/config/system` respectively.\n",
    "\n",
    "***Note: Importantly creating new model and system configuration files in this manner allows you to share them with other AWRA-CMS users who wish to recreate your model and system setup.***"
   ]
  },
  {
   "cell_type": "markdown",
   "metadata": {},
   "source": [
    "### Exercise:\n",
    "1. Create a new model config file in `$AWRAMS_BASE_PATH/config/models` and load this model profile in in the notebook. \n",
    "\n",
    "**Hint:** make a copy of `$AWRAMS_BASE_PATH/config/models/awral/v6_default.py` say `$AWRAMS_BASE_PATH/config/models/awral/v6_training.py`, make a change to a data path in `v6_training.py` then load this up using `config_manager.get_model_profile('awral', 'v6_training')`.\n",
    "\n",
    "2. Create a new system config file in `$AWRAMS_BASE_PATH/config/system` and load this model profile in the notebook. "
   ]
  },
  {
   "cell_type": "code",
   "execution_count": null,
   "metadata": {},
   "outputs": [],
   "source": []
  },
  {
   "cell_type": "markdown",
   "metadata": {},
   "source": [
    "## Now onto a Python version of the AWRA-L code for demonstration....\n",
    "\n",
    "#### [1.4 AWRA-L deconstructed - Python version of AWRA-L v6]\n",
    "[1.4 AWRA-L deconstructed - Python version of AWRA-L v6]: 1.4_AWRA-L_deconstructed_-_Python_version_of_AWRA-L_v6.ipynb"
   ]
  }
 ],
 "metadata": {
  "kernelspec": {
   "display_name": "Python 3",
   "language": "python",
   "name": "python3"
  },
  "language_info": {
   "codemirror_mode": {
    "name": "ipython",
    "version": 3
   },
   "file_extension": ".py",
   "mimetype": "text/x-python",
   "name": "python",
   "nbconvert_exporter": "python",
   "pygments_lexer": "ipython3",
   "version": "3.6.6"
  }
 },
 "nbformat": 4,
 "nbformat_minor": 2
}
