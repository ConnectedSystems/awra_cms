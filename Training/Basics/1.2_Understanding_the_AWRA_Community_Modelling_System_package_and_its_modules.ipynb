{
 "cells": [
  {
   "cell_type": "markdown",
   "metadata": {},
   "source": [
    "# Understanding the AWRA Community Modelling System package and its modules\n",
    "\n",
    "   1. AWRA-CMS package and modules\n",
    "   2. AWRA CMS concepts and classes  \n"
   ]
  },
  {
   "cell_type": "markdown",
   "metadata": {},
   "source": [
    "## 1. AWRA-CMS package and modules\n",
    "\n",
    "#### There are 7 module components to the AWRAMS python package\n",
    "* ***awrams.models***        : the AWRA-L model code\n",
    "* ***awrams.simulation***    : tools to run the model \n",
    "    * **ondemand**: keeps the inputs and outputs stored in memory - for fast interactive use\n",
    "    * **server**: direct to disk output, used for large scale runs (larger than available memory)  \n",
    "* ***awrams.visualisation*** : contains functions to facilitate viewing of outputs and inputs across periods and spatial extents\n",
    "* ***awrams.calibration***   : contains tools for calibration and evaluation of sensitivity to model parameters\n",
    "* ***awrams.benchmarking***  : contains tools to allow comparison of multiple model outputs to observations\n",
    "* ***awrams.utils***         : contains various support tools used throughout the rest of the system\n",
    "* ***awrams.cluster***       : contains support classes for clustered (MPI) runs"
   ]
  },
  {
   "cell_type": "markdown",
   "metadata": {},
   "source": [
    "#### There is a copy of the code provided in the awrams_cm folder to aid understanding\n",
    "     \n",
    "   - [Models folder]       :   awrams/models\n",
    "   - [Simulation folder]   :   awrams/simulation\n",
    "   - [Visualisation folder]:   awrams/visualisation\n",
    "   - [Calibration folder]  :   awrams/calibration\n",
    "   - [Benchmarking folder] :   awrams/benchmarking \n",
    "   - [Cluster folder] :   awrams/cluster  \n",
    "\n",
    "[Models folder]: /tree/packages/awrams/models\n",
    "[Simulation folder]: /tree/packages/awrams/simulation/\n",
    "[Visualisation folder]: /tree/packages/awrams/visualisation\n",
    "[Calibration folder]: /tree/packages/awrams/calibration\n",
    "[Benchmarking folder]: /tree/packages/awrams/benchmarking\n",
    "[Cluster folder]: /tree/packages/awrams/cluster/"
   ]
  },
  {
   "cell_type": "markdown",
   "metadata": {},
   "source": [
    "# 2. AWRA CMS concepts and classes \n",
    "\n",
    "\n",
    "\n",
    "## 2.1 Configuring AWRA simulations and calibrations\n",
    "\n",
    " - Setting up a simulation or calibration run starts by defining:\n",
    "\n",
    "   - A.  The **model profile** using the config manager\n",
    "   - B.  The inputs and outputs via **node mappings**\n",
    "      1. Inputs:\n",
    "         - the forcing inputs (rain, temperature, radiation) \n",
    "         - the spatial inputs (grids of various landscape properties)\n",
    "         - model parameters (calibrated or fixed)\n",
    "      2. Outputs:\n",
    "         - model outputs, either in memory or written to storage\n",
    "         \n",
    "   - C.  The spatial **extent** \n",
    "   - D.  The modelling time **period**\n",
    "\n"
   ]
  },
  {
   "cell_type": "markdown",
   "metadata": {},
   "source": [
    "## 2.1.A. Get a model profile using the config manager"
   ]
  },
  {
   "cell_type": "code",
   "execution_count": null,
   "metadata": {},
   "outputs": [],
   "source": [
    "### Load a model profile from the config_manager\n",
    "from awrams.utils import config_manager\n",
    "\n",
    "model_profile = config_manager.get_model_profile('awral','v6_default')"
   ]
  },
  {
   "cell_type": "code",
   "execution_count": null,
   "metadata": {},
   "outputs": [],
   "source": [
    "# Get the model settings; this is everything that is configurable in a model\n",
    "model_settings = model_profile.get_settings()\n",
    "\n",
    "model_settings"
   ]
  },
  {
   "cell_type": "markdown",
   "metadata": {},
   "source": [
    "## 2.1.B. Input/Output Mappings and Nodegraphs\n",
    "\n",
    " - ***Mappings*** are Python dictionaries used to describe the data-flow\n",
    "      - AWRAMS ***NodeGraph*** subsystem (awrams.utils.nodegraph) transforms this **configuration** info into runnable code.\n",
    " - Input mapping: the ‘data’ portion of a model; everything that happens before the core computational loop\n",
    "      - loading of files\n",
    "      - infilling\n",
    "      - unit conversion etc. \n",
    " - Example:\n",
    "     - AWRA-L model uses a single temperature input, but AWAP supplies two (minimum and maximum temperature).  \n",
    "     - The default AWRA-L input mapping loads the AWAP inputs then rectifies and computes a weighted average of these, before passing the single value on to the core model code. \n"
   ]
  },
  {
   "cell_type": "markdown",
   "metadata": {},
   "source": [
    "### Need to map values to these AWRA-L input parameters\n",
    "\n",
    "- Various [nodes.py] types are used to map input values to these parameters\n",
    "    - climate input from netcdf files:  nodes.forcing_from_ncfiles(CLIMATE_DATA,v[0],v[1])\n",
    "    - static spatial inputs from grids: nodes.spatial_from_file(SPATIAL_FILE,'parameters/%s' % grid)\n",
    "    - assigning a constant value eg. air pressure mapping['pair'] = nodes.const(97500.)\n",
    "    - transformations: eg.\n",
    "         - average temperature mapping['tat'] = nodes.mix('tmin','tmax',0.75)\n",
    "         - multiplying a spatial grid by an input parameter mapping['s0max'] = nodes.mul('s0max_scale','s0fracawc_grid',100.)\n",
    "\n",
    "\n",
    "[nodes.py]: /tree/packages/awrams/utils/nodegraph/nodes.py"
   ]
  },
  {
   "cell_type": "code",
   "execution_count": null,
   "metadata": {},
   "outputs": [],
   "source": [
    "# View the default configuration mapping\n",
    "input_mapping = model_profile.get_input_mapping()"
   ]
  },
  {
   "cell_type": "code",
   "execution_count": null,
   "metadata": {},
   "outputs": [],
   "source": [
    "input_mapping"
   ]
  },
  {
   "cell_type": "markdown",
   "metadata": {},
   "source": [
    "## 2.1.C. ***Extent*** specification\n",
    "\n",
    "Gridded spatial domains"
   ]
  },
  {
   "cell_type": "code",
   "execution_count": null,
   "metadata": {},
   "outputs": [],
   "source": [
    "# load extents\n",
    "from awrams.utils import extents"
   ]
  },
  {
   "cell_type": "code",
   "execution_count": null,
   "metadata": {},
   "outputs": [],
   "source": [
    "# default extent - all of Australia\n",
    "def_ext = extents.get_default_extent()  ## Australia, set as reference extent\n",
    "def_ext"
   ]
  },
  {
   "cell_type": "code",
   "execution_count": null,
   "metadata": {},
   "outputs": [],
   "source": [
    "#### Any rectangular extent\n",
    "tas_extent = def_ext.icoords[-39.5:-44, 143.5: 149]   # Tasmania\n",
    "tas_extent"
   ]
  },
  {
   "cell_type": "code",
   "execution_count": null,
   "metadata": {},
   "outputs": [],
   "source": [
    "#### a single point based on [lat, lon] pair\n",
    "cell_extent  = def_ext.icoords[-34,117]\n",
    "print(cell_extent)\n",
    "print(cell_extent.cell_count)"
   ]
  },
  {
   "cell_type": "markdown",
   "metadata": {},
   "source": [
    "## 2.1.D. ***Period*** specification\n",
    "\n",
    "Time periods - convenience functions that create a Pandas DatetimeIndex"
   ]
  },
  {
   "cell_type": "code",
   "execution_count": null,
   "metadata": {},
   "outputs": [],
   "source": [
    "from awrams.utils import datetools as dt"
   ]
  },
  {
   "cell_type": "code",
   "execution_count": null,
   "metadata": {},
   "outputs": [],
   "source": [
    "period = dt.dates('2000', '2010')"
   ]
  },
  {
   "cell_type": "code",
   "execution_count": null,
   "metadata": {},
   "outputs": [],
   "source": [
    "period"
   ]
  },
  {
   "cell_type": "code",
   "execution_count": null,
   "metadata": {},
   "outputs": [],
   "source": [
    "period = dt.dates('dec 2010 - 31 jan 2011')"
   ]
  },
  {
   "cell_type": "code",
   "execution_count": null,
   "metadata": {},
   "outputs": [],
   "source": [
    "period"
   ]
  }
 ],
 "metadata": {
  "kernelspec": {
   "display_name": "Python 3",
   "language": "python",
   "name": "python3"
  },
  "language_info": {
   "codemirror_mode": {
    "name": "ipython",
    "version": 3
   },
   "file_extension": ".py",
   "mimetype": "text/x-python",
   "name": "python",
   "nbconvert_exporter": "python",
   "pygments_lexer": "ipython3",
   "version": "3.6.7"
  }
 },
 "nbformat": 4,
 "nbformat_minor": 1
}
