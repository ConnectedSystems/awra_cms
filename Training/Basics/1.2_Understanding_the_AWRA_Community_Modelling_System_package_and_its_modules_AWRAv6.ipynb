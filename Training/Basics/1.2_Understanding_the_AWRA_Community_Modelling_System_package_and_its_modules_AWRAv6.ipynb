{
 "cells": [
  {
   "cell_type": "markdown",
   "metadata": {},
   "source": [
    "# Understanding the AWRA Community Modelling System package and its modules\n",
    "\n",
    "   1. What is the AWRA CMS?\n",
    "   2. AWRA-CMS package and modules\n",
    "   3. AWRA CMS concepts and classes  \n"
   ]
  },
  {
   "cell_type": "markdown",
   "metadata": {},
   "source": [
    "\n",
    "\n",
    "## 1.  What is the AWRA CMS?\n",
    "\n",
    "\n"
   ]
  },
  {
   "cell_type": "markdown",
   "metadata": {},
   "source": [
    "   - Available to ***the community*** https://github.com/awracms/awra_cms/\n",
    "   - Enables joint development and own application\n",
    "   - ***User Guide***\n",
    "       https://github.com/awracms/awra_cms/blob/master/docs/AWRA%20Landscape%20Community%20Modelling%20System%20User%20Guide%202019%20v3.2.docx\n",
    "       \n",
    "![title](awracms_schematic.PNG)\n",
    "\n",
    "\n",
    "### How do I install and use the AWRA CMS?\n",
    "To install the AWRA-CMS on your own system please see the ***INSTALL-GUIDE.md*** file on GitHub: https://github.com/awracms/awra_cms/blob/master/INSTALL-GUIDE.md. This install guide contains instructions for both Linux and Windows.\n",
    "    \n",
    "### Having issues with installing?\n",
    "If you have any questions relating to install contact us at: awracms@bom.gov.au "
   ]
  },
  {
   "cell_type": "markdown",
   "metadata": {},
   "source": [
    "## 2. AWRA-CMS package and modules\n",
    "\n",
    "#### There are 6 module components to the AWRAMS python package\n",
    "* ***awrams.models***        : the AWRA-L model code\n",
    "* ***awrams.simulation***    : tools to run the model \n",
    "    * **ondemand**: keeps the inputs and outputs stored in memory - for fast interactive use\n",
    "    * **server**: direct to disk output, used for large scale runs (larger than available memory)  \n",
    "* ***awrams.visualisation*** : contains functions to facilitate viewing of outputs and inputs across periods and spatial extents\n",
    "* ***awrams.calibration***   : contains tools for calibration and evaluation of sensitivity to model parameters\n",
    "* ***awrams.benchmarking***  : contains tools to allow comparison of multiple model outputs to observations\n",
    "* ***awrams.utils***         : contains various support tools used throughout the rest of the system"
   ]
  },
  {
   "cell_type": "code",
   "execution_count": null,
   "metadata": {},
   "outputs": [],
   "source": [
    "# import the modules\n",
    "import awrams.models  # contains the awra model code\n",
    "import awrams.simulation  # contains tools to run the model in memory or with written outputs\n",
    "import awrams.visualisation # contains functions to facilitate viewing of outputs and inputs across periods and spatial extents\n",
    "import awrams.calibration # contains tools for calibration and evaluation of sensitivity to model parameters\n",
    "import awrams.benchmarking # contains tools to allow comparison of multiple model outputs to observations\n",
    "import awrams.utils # contains tools to enable extraction of data from model outputs"
   ]
  },
  {
   "cell_type": "code",
   "execution_count": null,
   "metadata": {},
   "outputs": [],
   "source": [
    "# see location of each of the components\n",
    "awrams.models"
   ]
  },
  {
   "cell_type": "markdown",
   "metadata": {},
   "source": [
    "#### There is a copy of the code provided in the awrams_cm folder to aid understanding\n",
    "     \n",
    "   - [Models folder]       :   ../../packages/awrams/models\n",
    "   - [Simulation folder]   :   ../../packages/awrams/simulation\n",
    "   - [Visualisation folder]:   ../../packages/awrams/visualisation\n",
    "   - [Calibration folder]  :   ../../packages/awrams/calibration\n",
    "   - [Benchmarking folder] :   ../../packages/awrams/benchmarking \n",
    "\n",
    "[Models folder]: ../../packages/awrams/models/\n",
    "[Simulation folder]: ../../packages/awrams/simulation/\n",
    "[Visualisation folder]: ../../packages/awrams/visualisation/\n",
    "[Calibration folder]: ../../packages/awrams/calibration/\n",
    "[Benchmarking folder]: ../../packages/awrams/benchmarking/"
   ]
  },
  {
   "cell_type": "markdown",
   "metadata": {},
   "source": [
    "#### Use jupyter navigation to view/edit at copy of code:\n",
    "\n",
    "  - For example the input tranforms file in the models folder [../../packages/awrams/models/awral/transforms.py]\n",
    " \n",
    "[../../packages/awrams/models/awral/transforms.py]: ../../packages/awrams/models/awral/transforms.py"
   ]
  },
  {
   "cell_type": "markdown",
   "metadata": {},
   "source": [
    "# 3. AWRA CMS concepts and classes \n",
    "\n",
    "\n",
    "\n",
    "## 3.1 Configuring AWRA simulations and calibrations\n",
    "\n",
    " - Setting up a simulation or calibration run starts by defining:\n",
    "\n",
    "   - A.  The **model** (in this case AWRAL) :\n",
    "   - B.  The inputs and outputs via **the nodegraph**\n",
    "      1. Inputs:\n",
    "         - the forcing inputs (rain, temperature, radiation) \n",
    "         - the spatial inputs (grids of various landscape properties)\n",
    "         - model parameters (calibrated or fixed)\n",
    "      2. Outputs:\n",
    "         - the model outputs to be written out (e.g. flow, evaporation, soil moisture)\n",
    "         - the grid resolution (default is 0.05 degree)\n",
    "         \n",
    "   - C.  The spatial **extent** \n",
    "   - D.  The modelling time **period**\n",
    "\n"
   ]
  },
  {
   "cell_type": "markdown",
   "metadata": {},
   "source": [
    "## 3.1.A. Load the awral model class from the models module\n",
    "\n",
    "\n",
    "\n",
    "#### *Model* class (awrams.models.model.Model): see Model class within [../../packages/awrams/models/awral/model.py]\n",
    "\n",
    "- This Generic model class provides an interface for configuring and querying models.  \n",
    "- All models must derive from this class.   \n",
    "- Models conforming to this interface specification are used by various clients in AWRAMS:  \n",
    "     - the **OnDemandSimulator** \n",
    "     - the **SimulationServer** and \n",
    "     - the AWRAMS **calibration** system.\n",
    "- Models need to supply:\n",
    "   - information about themselves (eg names of inputs, outputs and states), \n",
    "   - default input mapping (get_default_mapping())\n",
    "\n",
    "[../../packages/awrams/models/awral/model.py]: ../../packages/awrams/models/awral/model.py"
   ]
  },
  {
   "cell_type": "code",
   "execution_count": null,
   "metadata": {},
   "outputs": [],
   "source": [
    "### A. Load the awral model class from the models module\n",
    "from awrams.models import awral"
   ]
  },
  {
   "cell_type": "code",
   "execution_count": null,
   "metadata": {},
   "outputs": [],
   "source": [
    "# see the components of the awral class by tab completion (model, runner, settings, support, solar, template, transforms)\n",
    "awral.model"
   ]
  },
  {
   "cell_type": "code",
   "execution_count": null,
   "metadata": {},
   "outputs": [],
   "source": [
    "# Load model profile for awral model\n",
    "from awrams.utils import config_manager\n",
    "model_profile = config_manager.get_model_profile('awral', 'v6_default')\n",
    "# Get default model settings from model_profile\n",
    "model_settings = model_profile.get_settings()"
   ]
  },
  {
   "cell_type": "code",
   "execution_count": null,
   "metadata": {},
   "outputs": [],
   "source": [
    "# Instantiate the AWRA-L model\n",
    "awralmod = model_profile.get_model(model_settings)"
   ]
  },
  {
   "cell_type": "markdown",
   "metadata": {},
   "source": [
    "\n",
    "### -----   Advanced Section:    Components of awrams.models.model.Model class -----------------------------------------------\n",
    "#### Important components of awrams model class.  \n",
    "   \n",
    "#### [transforms.py] , [solar.py] \n",
    "[solar.py]: ../../packages/awrams/models/awral/solar.py\n",
    "[transforms.py]: ../../packages/awrams/models/awral/transforms.py\n",
    "\n",
    "- AWRA-L supplies a number of custom node types for use in its input mapping graph;  \n",
    "   - read awral.model.Model.get_default_input_mapping() for particulars.\n",
    "   \n",
    "#### [template.py]\n",
    "[template.py]: ../../packages/awrams/models/awral/template.py\n",
    "- This file specifies how the awral_t.c is transformed into awral.c before compilation.   \n",
    "- Modifying these templates is an advanced topic not covered here.\n",
    "\n",
    "#### [runner.py]\n",
    "[runner.py]: ../../packages/awrams/models/awral/runner.py\n",
    "- This contains the ModelRunner implementation, and associated support code for C bindings, and should not need to be modified.\n",
    "     \n",
    "#### *ModelRunner* class (awrams.models.model.ModelRunner)\n",
    " - Hydrological processes should be represented in the ModelRunner.  \n",
    " - This class provides the interface for executing model runs\n",
    "    - taking the outputs from an ExecutionGraph, and \n",
    "    - running them through the model’s hydrological processes.\n",
    " - Every Model needs to supply a runner via the model.get_runner() call. \n",
    "\n",
    "#### C code  and Dynamic model compilation\n",
    "\n",
    " - The input mapping/configuration of AWRA-L is pure Python\n",
    " - The core of AWRA-L is implemented in C for performance reasons using a template file\n",
    " \n",
    " \n",
    " - **Templating**: lightweight templating library is used to autogenerate some portions of code\n",
    " \n",
    "     - The model template file (**[awral_t.c]**) is compiled automatically when required\n",
    "     \n",
    "               see ../../packages/awrams/models/awral/core/awral_t.c\n",
    " \n",
    "     - Users wishing to edit the code should edit this file within the awra parackage\n",
    "     - Recompilation occurs in particular when the mapping of input and output data changes\n",
    "     \n",
    "  - **Advantages**: \n",
    "     \n",
    "     - Outputs can easily be added/removed, as well as input types changed (e.g. changing a scalar value to a spatial or timeseries forcing input), without users having to manually edit the C code\n",
    "     - Does not recompile if not required\n",
    "\n",
    "\n",
    " \n",
    "\n",
    "[awral_t.c]: ../../packages/awrams/models/awral/core/awral_t.c\n",
    "  \n",
    "### We'll come back to altering the code in the Advanced section later today.\n",
    "\n",
    "###  -----   End Advanced: Components of awrams.models.model.Model class ------------------------------------------------------"
   ]
  },
  {
   "cell_type": "markdown",
   "metadata": {},
   "source": [
    "## 3.1.B. Input/Output Mappings and Nodegraphs\n",
    "\n",
    " - ***Mappings*** are python dictionaries used to describe the data-flow\n",
    "      - AWRAMS ***NodeGraph*** subsystem (awrams.utils.nodegraph) transforms this **configuration** info into runnable code.\n",
    " - Default Input mapping: the ‘data’ portion of a model\n",
    "      - loading of files\n",
    "      - infilling\n",
    "      - unit conversion etc. \n",
    " - Example:\n",
    "     - AWRA-L model uses a single temperature input, but AWAP supplies two (minimum and maximum temperature).  \n",
    "     - The default AWRA-L input mapping loads the AWAP inputs then rectifies and computes a weighted average of these, before passing the single value on to the core model code. \n",
    "\n",
    "### B.1 Input configuration\n",
    "\n",
    "#### Default input static spatial datasets and model parameters:  \n",
    "  See data folder [../../packages/awrams/models/awral/data/]\n",
    "\n",
    "\n",
    "   - ***static spatial grids***:  various static soil, vegetation and topography related spatial datasets - see spatial_parameters.h5 (https://en.wikipedia.org/wiki/Hierarchical_Data_Format)\n",
    "   - ***default model parameters***: see DefaultParameters.json (https://en.wikipedia.org/wiki/JSON)\n",
    "   - ***model inputs***: complete list of input parameters (climate, static, spatial) - see model_inputs.json\n",
    "   \n",
    "for further details see [1.1_The_AWRA-L_model.ipynb]\n",
    "\n",
    "[../../packages/awrams/models/awral/data/]: ../../packages/awrams/models/awral/data   \n",
    "[1.1_The_AWRA-L_model.ipynb]: ../../Training/Basics/1.1_The_AWRA-L_model.ipynb"
   ]
  },
  {
   "cell_type": "markdown",
   "metadata": {},
   "source": [
    "### Model settings - settings that are specific to the version of AWRA-L that is being used"
   ]
  },
  {
   "cell_type": "code",
   "execution_count": null,
   "metadata": {
    "scrolled": false
   },
   "outputs": [],
   "source": [
    "# Model settings\n",
    "model_profile = config_manager.get_model_profile('awral', 'v6_default')\n",
    "# Get default model settings from model_profile\n",
    "model_settings = model_profile.get_settings()\n",
    "model_settings"
   ]
  },
  {
   "cell_type": "markdown",
   "metadata": {},
   "source": [
    "### System settings - settings that are specific to the system being used"
   ]
  },
  {
   "cell_type": "code",
   "execution_count": null,
   "metadata": {},
   "outputs": [],
   "source": [
    "# The system profile contains non-model-specific information related to the system we are running on, like file paths\n",
    "sys_profile = config_manager.get_system_profile()\n",
    "sys_settings = sys_profile.get_settings()\n",
    "sys_settings"
   ]
  },
  {
   "cell_type": "markdown",
   "metadata": {},
   "source": [
    "### Model inputs"
   ]
  },
  {
   "cell_type": "code",
   "execution_count": null,
   "metadata": {},
   "outputs": [],
   "source": [
    "# list the complete set of model inputs\n",
    "model_inputs = awralmod.model_settings['CONFIG_OPTIONS']['MODEL_INPUTS']\n",
    "model_inputs"
   ]
  },
  {
   "cell_type": "markdown",
   "metadata": {},
   "source": [
    "### Need to map values to these AWRA-L input parameters\n",
    "\n",
    "- See get_input_mapping() in model_profile\n",
    "- Various [nodes.py] types are used to map input values to these parameters\n",
    "    - climate input from netcdf files:  nodes.forcing_from_ncfiles(CLIMATE_DATA,v[0],v[1])\n",
    "    - static spatial inputs from grids: nodes.spatial_from_file(SPATIAL_FILE,'parameters/%s' % grid)\n",
    "    - assigning a constant value eg. air pressure mapping['pair'] = nodes.const(97500.)\n",
    "    - transformations: eg.\n",
    "         - average temperature mapping['tat'] = nodes.mix('tmin','tmax',0.75)\n",
    "         - multiplying a spatial grid by an input parameter mapping['s0max'] = nodes.mul('s0max_scale','s0fracawc_grid',100.)\n",
    "\n",
    "\n",
    "[nodes.py]: ../../../edit/utils/awrams/utils/nodegraph/nodes.py\n",
    "[model.py]: ../../../edit/models/awrams/models/awral/model.py"
   ]
  },
  {
   "cell_type": "code",
   "execution_count": null,
   "metadata": {
    "scrolled": true
   },
   "outputs": [],
   "source": [
    "# View the input configuration mapping\n",
    "input_mapping = model_profile.get_input_mapping()\n",
    "input_mapping"
   ]
  },
  {
   "cell_type": "code",
   "execution_count": null,
   "metadata": {},
   "outputs": [],
   "source": [
    "# We can explore the elements of the input mapping individually\n",
    "# e.g.\n",
    "input_mapping['precip_f']"
   ]
  },
  {
   "cell_type": "code",
   "execution_count": null,
   "metadata": {},
   "outputs": [],
   "source": [
    "# e.g.\n",
    "input_mapping['s0max']"
   ]
  },
  {
   "cell_type": "code",
   "execution_count": null,
   "metadata": {},
   "outputs": [],
   "source": [
    "# Convenience function to allow you to inspect what goes into creating a parameter\n",
    "from awrams.utils.nodegraph import nodes, graph\n",
    "graph.get_input_tree(['k_rout'], input_mapping)"
   ]
  },
  {
   "cell_type": "code",
   "execution_count": null,
   "metadata": {},
   "outputs": [],
   "source": [
    "# climate forcing mapping and path\n",
    "awralmod.model_settings['CLIMATE_DATASET']['FORCING']"
   ]
  },
  {
   "cell_type": "code",
   "execution_count": null,
   "metadata": {},
   "outputs": [],
   "source": [
    "# climate data path\n",
    "sys_settings['CLIMATE_DATASETS']['TRAINING']['FORCING']['PATH']"
   ]
  },
  {
   "cell_type": "code",
   "execution_count": null,
   "metadata": {},
   "outputs": [],
   "source": [
    "# view default data path TRAINING_DATA_PATH\n",
    "TRAINING_DATA_PATH = sys_settings['DATA_PATHS']['TRAINING_DATA']\n",
    "TRAINING_DATA_PATH"
   ]
  },
  {
   "cell_type": "markdown",
   "metadata": {},
   "source": [
    "#### Input climate data is read by default according to the following pattern \n",
    "\n",
    "nc_var=path  path +  pattern\n",
    "\n",
    "rain_day=   ./rain_day/rain*\n",
    "\n",
    "#### Need to alter this to point at your input data: We demontrate this below.."
   ]
  },
  {
   "cell_type": "markdown",
   "metadata": {},
   "source": [
    "### Datasets in AWRA CMS\n",
    "\n",
    "On installation the AWRA-CMS data is obtained from (https://github.com/awracms/awracms_data) which contains data under the following folders:\n",
    "  - benchmarking: \n",
    "  - climatology\n",
    "  - model_data\n",
    "  - observations\n",
    "  - spatial\n",
    "  - test_data\n",
    "  - training\n",
    "\n",
    "You can specify where this data is downloaded to during installation, or proceed with the default path of '../../awrams/data'.\n",
    "\n",
    "### Input daily climate (forcing) data: \n",
    "Daily climate data required for running the AWRA-L model includes:\n",
    "\n",
    " - ***rainfall***\n",
    " - ***temperature*** (an average of maximum and minimum values)\n",
    " - ***solar radiation***\n",
    " - ***wind***\n",
    "\n",
    "The Bureau of Meteorology uses 0.05 degree gridded daily data based on 9am-9am observations and satellite data across Australia; see http://www.bom.gov.au/jsp/awap/. This data covers 1911 until yesterday, with the exception of solar radiation based on satellite data; where climatologies are used prior to 1990. You can use your own data provided you can format it into netcdf input file format.\n",
    "\n",
    "Limited data (2009-2011) is provided with the AWRA-CMS. If you wish to download a longer period (e.g. 1980-2018) of daily climate forcing data please contact us as awracms@bom.gov.au for assistance.\n",
    "\n",
    "### Input starting states\n",
    "The AWRA-L model have the following model states that change from one time-step to the next:\n",
    "\n",
    "  - **mleaf** : vegetation mass (mm) - for deep rooted (dr) and shallow rooted (sr) HRUs\n",
    "  - **s0**    : top layer 0-10cm soil moisture (mm)  - for deep rooted (dr) and shallow rooted (sr) HRUs\n",
    "  - **ss**    : upper layer 10cm-100cm soil moisture (mm) - for deep rooted (dr) and shallow rooted (sr) HRUs\n",
    "  - **sd**    : deep layer 100cm-600cm soil moisture (mm) - for deep rooted (dr) and shallow rooted (sr) HRUs\n",
    "  - **sg**    : saturated groundwater storage (mm)\n",
    "  - **sr**    : surface water storage (mm)\n",
    "  \n",
    "These states are saved as part of model simulation, for potential use in initialising model runs. These inital states are required to be specified when starting a simulation or calibration, if they are not set default values will be used."
   ]
  },
  {
   "cell_type": "code",
   "execution_count": null,
   "metadata": {},
   "outputs": [],
   "source": [
    "# list five variables folders: wind, rain_day   (rainfall), solar_exposure_day   (solar radiation), temp_max_day   (maximum temperature), temp_min_day (temperature minimum)\n",
    "data_path = TRAINING_DATA_PATH + '/climate/bom_awap/'\n",
    "!ls $data_path"
   ]
  },
  {
   "cell_type": "markdown",
   "metadata": {},
   "source": [
    "### Alter location of input climate data to ../../test_data/simulation"
   ]
  },
  {
   "cell_type": "code",
   "execution_count": null,
   "metadata": {},
   "outputs": [],
   "source": [
    "# Create a function change_path_to_forcing() to change from the default paths to  \n",
    "def change_path_to_forcing(imap, path):\n",
    "    from awrams.utils.nodegraph import nodes\n",
    "    from os.path import join\n",
    "    from os import getcwd\n",
    "\n",
    "    data_path = TRAINING_DATA_PATH + path\n",
    "    FORCING = {\n",
    "        'tmin': ('temp_min*.nc','temp_min_day',data_path + 'temp_min_day/'),\n",
    "        'tmax': ('temp_max*.nc','temp_max_day',data_path + 'temp_max_day/'),\n",
    "        'precip': ('rain_day*.nc','rain_day',data_path + 'rain_day/'),\n",
    "        'solar': ('solar*.nc','solar_exposure_day',data_path + 'solar_exposure_day/') ,\n",
    "        'wind': ('wind*.nc','wind',data_path + 'wind/') #,\n",
    "    }     \n",
    "    \n",
    "    # location of registered user data in the Training folder\n",
    "    #data_path = '../test_data/climate/BOM_climate/'\n",
    "    #FORCING = {\n",
    "    #    'tmin': ('temp_min*.nc','temp_min_day',data_path + 'temp_min_day/'),\n",
    "    #    'tmax': ('temp_max*.nc','temp_max_day',data_path + 'temp_max_day/'),\n",
    "    #    'precip': ('rain_day*.nc','rain_day',data_path + 'rain_day/'),\n",
    "    #    'solar': ('solar*.nc','solar_exposure_day',data_path + 'solar_exposure_day/') #,\n",
    "    #}     \n",
    "    \n",
    "    for k,v in FORCING.items():\n",
    "        imap[k+'_f'] = nodes.forcing_from_ncfiles(v[2],v[0],v[1])\n",
    "\n",
    "# alter the input map by calling function above\n",
    "change_path_to_forcing(input_mapping, path = '../test_data/simulation/climate/')"
   ]
  },
  {
   "cell_type": "code",
   "execution_count": null,
   "metadata": {},
   "outputs": [],
   "source": [
    "# Path to Tmin data after change to default_config...\n",
    "print('tmin_f',input_mapping['tmin_f'])"
   ]
  },
  {
   "cell_type": "markdown",
   "metadata": {},
   "source": [
    "### B.2 Output configuration\n"
   ]
  },
  {
   "cell_type": "code",
   "execution_count": null,
   "metadata": {},
   "outputs": [],
   "source": [
    "# default outputs\n",
    "awralmod.get_output_mapping()"
   ]
  },
  {
   "cell_type": "code",
   "execution_count": null,
   "metadata": {},
   "outputs": [],
   "source": [
    "# list types of outputs\n",
    "\n",
    "# OUTPUTS_HRU= outputs on a HRU basis\n",
    "# OUTPUTS_AVG= outputs on a cell basis averaged from HRU values \n",
    "awralmod.OUTPUTS.keys()"
   ]
  },
  {
   "cell_type": "code",
   "execution_count": null,
   "metadata": {},
   "outputs": [],
   "source": [
    "# OUTPUTS_CELL= outputs on a cell/grid/catchment basis\n",
    "awralmod.OUTPUTS['OUTPUTS_CELL'] # ['qtot', 'sr', 'sg'] = runoff, surface water storage, groundwater storage"
   ]
  },
  {
   "cell_type": "code",
   "execution_count": null,
   "metadata": {},
   "outputs": [],
   "source": [
    "awralmod.OUTPUTS['OUTPUTS_HRU'] # ['s0', 'ss', 'sd', 'mleaf'] = top, shallow and seep soil moisture & leaf mass "
   ]
  },
  {
   "cell_type": "code",
   "execution_count": null,
   "metadata": {},
   "outputs": [],
   "source": [
    "awralmod.OUTPUTS['OUTPUTS_AVG'] # ['e0', 'etot', 'dd', 's0', 'ss', 'sd']= potential and actual ET, deep drainage,top, shallow and seep soil moisture"
   ]
  },
  {
   "cell_type": "code",
   "execution_count": null,
   "metadata": {},
   "outputs": [],
   "source": [
    "# add some extra outputs via the output_mapping\n",
    "awralmod.OUTPUTS['OUTPUTS_CELL'].append('eg')\n",
    "awralmod.OUTPUTS['OUTPUTS_CELL'].append('y')\n",
    "awralmod.OUTPUTS['OUTPUTS_CELL'].append('qg')\n",
    "awralmod.OUTPUTS['OUTPUTS_CELL'].append('qr')\n",
    "awralmod.OUTPUTS['OUTPUTS_CELL'].append('qif')\n",
    "awralmod.OUTPUTS['OUTPUTS_HRU'].append('ei')\n",
    "awralmod.OUTPUTS['OUTPUTS_HRU'].append('et')\n",
    "awralmod.OUTPUTS['OUTPUTS_HRU'].append('es')\n",
    "awralmod.OUTPUTS['OUTPUTS_HRU'].append('fsat')\n",
    "awralmod.OUTPUTS['OUTPUTS_HRU'].append('fegt')\n",
    "awralmod.OUTPUTS['OUTPUTS_HRU'].append('us')\n",
    "awralmod.OUTPUTS['OUTPUTS_HRU'].append('ud')"
   ]
  },
  {
   "cell_type": "code",
   "execution_count": null,
   "metadata": {},
   "outputs": [],
   "source": [
    "awralmod.get_output_mapping()"
   ]
  },
  {
   "cell_type": "markdown",
   "metadata": {},
   "source": [
    "## 3.1.C. ***Extent*** specification\n",
    "### The area over which the simulation/calibration/extraction occurs"
   ]
  },
  {
   "cell_type": "code",
   "execution_count": null,
   "metadata": {},
   "outputs": [],
   "source": [
    "# load extents\n",
    "from awrams.utils import extents"
   ]
  },
  {
   "cell_type": "code",
   "execution_count": null,
   "metadata": {},
   "outputs": [],
   "source": [
    "# default extent - all of Australia\n",
    "DefExt = extents.get_default_extent()  ## Australia, set as reference extent\n",
    "DefExt"
   ]
  },
  {
   "cell_type": "code",
   "execution_count": null,
   "metadata": {},
   "outputs": [],
   "source": [
    "# What is used to define this default extent?\n",
    "sys_settings['DEFAULT_MASK_FILE']"
   ]
  },
  {
   "cell_type": "code",
   "execution_count": null,
   "metadata": {},
   "outputs": [],
   "source": [
    "#### Any rectangular extent\n",
    "my_extent = DefExt.icoords[-39.5:-44, 143.5: 149]   # Tasmania\n",
    "my_extent"
   ]
  },
  {
   "cell_type": "code",
   "execution_count": null,
   "metadata": {},
   "outputs": [],
   "source": [
    "#### a single point based on [lat, lon] pair\n",
    "my_extent  = DefExt.icoords[-34,117]\n",
    "print(my_extent)\n",
    "print(my_extent.cell_count)"
   ]
  },
  {
   "cell_type": "code",
   "execution_count": null,
   "metadata": {},
   "outputs": [],
   "source": [
    "##### extents from a shapefile (CATCHMENT_SHAPEFILE contains all calibraito and validation catchments)\n",
    "from awrams.utils.gis import ShapefileDB\n",
    "CATCHMENT_SHAPEFILE = sys_settings['DATA_PATHS']['CATCHMENT_SHAPEFILE']\n",
    "calvalshapefile = ShapefileDB(CATCHMENT_SHAPEFILE)\n",
    "catchments = calvalshapefile.get_records_df()\n",
    "# view only the first 5 rows of the shapefile table by using .head()\n",
    "catchments.head()"
   ]
  },
  {
   "cell_type": "code",
   "execution_count": null,
   "metadata": {},
   "outputs": [],
   "source": [
    "## Create a dictionary with multiple extents\n",
    "# you can use individual extents from  \n",
    "cal_dict = {}\n",
    "cal_catchments = ['204007','421103']\n",
    "for catchment in cal_catchments:\n",
    "    cal_dict[catchment] = calvalshapefile.get_extent_by_field('StationID', catchment.zfill(6), parent_extent=DefExt)\n",
    "cal_dict"
   ]
  },
  {
   "cell_type": "markdown",
   "metadata": {},
   "source": [
    "## 3.1.D. ***Period*** specification\n",
    "### Thie time period over which the simulation occurs"
   ]
  },
  {
   "cell_type": "code",
   "execution_count": null,
   "metadata": {},
   "outputs": [],
   "source": [
    "from awrams.utils import datetools as dt"
   ]
  },
  {
   "cell_type": "code",
   "execution_count": null,
   "metadata": {},
   "outputs": [],
   "source": [
    "myperiod = dt.dates('2000', '2010')"
   ]
  },
  {
   "cell_type": "code",
   "execution_count": null,
   "metadata": {},
   "outputs": [],
   "source": [
    "myperiod"
   ]
  },
  {
   "cell_type": "code",
   "execution_count": null,
   "metadata": {},
   "outputs": [],
   "source": [
    "period = dt.dates('dec 2010 - 31 jan 2011')"
   ]
  },
  {
   "cell_type": "code",
   "execution_count": null,
   "metadata": {},
   "outputs": [],
   "source": [
    "period"
   ]
  },
  {
   "cell_type": "code",
   "execution_count": null,
   "metadata": {},
   "outputs": [],
   "source": [
    "dt.dates?"
   ]
  },
  {
   "cell_type": "markdown",
   "metadata": {},
   "source": [
    "### Demonstrational simulation\n",
    "#### we will go through this in detail later"
   ]
  },
  {
   "cell_type": "code",
   "execution_count": null,
   "metadata": {},
   "outputs": [],
   "source": [
    "## use the ondemand simulation engine\n",
    "from awrams.simulation import ondemand\n",
    "\n",
    "# Change back the path to training data forcing\n",
    "change_path_to_forcing(input_mapping, path = '/climate/bom_awap/')\n",
    "\n",
    "# get and instance of the model runner engine - passing in the model (awral and input_map defined earlier)\n",
    "runner = ondemand.OnDemandSimulator(awralmod,input_mapping) #,omapping=omap.mapping)\n",
    "\n",
    "# Call the run fun function (within the OnDemandSimulator) over the defined period and extent\n",
    "r,i = runner.run(period,my_extent,True,False)\n",
    "\n",
    "import pandas as pd\n",
    "\n",
    "# Transfer inputs\n",
    "# transfer climate inputs contained in i\n",
    "forcing = ('tmin_f','tmax_f','solar_f','precip_f', 'u2t', 'wind_f')\n",
    "clm = {k:i[k].reshape(-1) for k in forcing}\n",
    "df_clm = pd.DataFrame(clm,index=period)\n",
    "\n",
    "# Plot inputs/outputs as timeseries\n",
    "%matplotlib inline\n",
    "import matplotlib.pyplot as plt\n",
    "plt.figure(figsize = (16,3))\n",
    "plt.plot(df_clm)\n",
    "plt.title('Climate inputs')\n",
    "plt.legend(df_clm.columns)\n",
    "\n",
    "plt.figure(figsize = (16,3))\n",
    "plt.plot(r['etot'],label='etot : Actual evapotranspiration')\n",
    "plt.plot(r['qtot'],label='qtot: Runoff')\n",
    "plt.plot(r['e0'],label='e0 : Potential evaporation')\n",
    "plt.plot(r['dd'],label='dd : Deep drainage')\n",
    "plt.title('AWRA output water fluxes')\n",
    "plt.xlabel('Day')\n",
    "plt.ylabel('Flux [mm]')\n",
    "plt.legend()\n",
    "plt.figure(figsize = (16,3))\n",
    "\n",
    "plt.plot(r['s0'],label='s0 : Top layer [0-10cm]soil moisture')\n",
    "plt.plot(r['ss'],label='ss : Shallow layer [10-100cm] soil moisture')\n",
    "plt.plot(r['sd'],label='sd : Deep layer [1 - 6m] soil moisture')\n",
    "plt.plot(r['sg'],label='sg : Groundwater layer [< 6m] saturated storage')\n",
    "plt.plot(r['sr'],label='sr : Surface water storage')\n",
    "plt.xlabel('Day')\n",
    "plt.ylabel('Storage [mm]')\n",
    "plt.title('AWRA output water balance stores')\n",
    "plt.legend()\n",
    "\n",
    "print('AWRA output variable names r.keys():')\n",
    "r.keys()"
   ]
  },
  {
   "cell_type": "markdown",
   "metadata": {},
   "source": [
    "## Now onto The AWRA-CMS Configuration System....\n",
    "\n",
    "#### [1.3 The AWRA-CMS Configuration System]\n",
    "[1.3 The AWRA-CMS Configuration System]: 1.3_The_AWRA-CMS_Configuration_System.ipynb"
   ]
  }
 ],
 "metadata": {
  "kernelspec": {
   "display_name": "Python 3",
   "language": "python",
   "name": "python3"
  },
  "language_info": {
   "codemirror_mode": {
    "name": "ipython",
    "version": 3
   },
   "file_extension": ".py",
   "mimetype": "text/x-python",
   "name": "python",
   "nbconvert_exporter": "python",
   "pygments_lexer": "ipython3",
   "version": "3.6.7"
  }
 },
 "nbformat": 4,
 "nbformat_minor": 1
}
