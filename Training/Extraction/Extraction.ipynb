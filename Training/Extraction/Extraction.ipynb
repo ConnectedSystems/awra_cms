{
 "cells": [
  {
   "cell_type": "markdown",
   "metadata": {},
   "source": [
    "# Extraction"
   ]
  },
  {
   "cell_type": "markdown",
   "metadata": {},
   "source": [
    "This notebook provides some commands to quickly extract catchment averaged data or subsetted gridded data from the model inputs or outputs"
   ]
  },
  {
   "cell_type": "markdown",
   "metadata": {},
   "source": [
    "The following aspects are covered:\n",
    "    \n",
    "    1. Import required libraries\n",
    "    2. Extraction of aggregated catchment data to pandas dataframes\n",
    "    3. Extract gridded datasets\n",
    "    4. Exercises\n",
    "        4.1 Extract your own catchment\n",
    "        4.2 Save the array to netCDF"
   ]
  },
  {
   "cell_type": "markdown",
   "metadata": {},
   "source": [
    "### 1. Import required libraries"
   ]
  },
  {
   "cell_type": "code",
   "execution_count": null,
   "metadata": {},
   "outputs": [],
   "source": [
    "%matplotlib inline\n",
    "import os\n",
    "\n",
    "from matplotlib import pyplot as plt\n",
    "\n",
    "from awrams.utils import config_manager, extents\n",
    "from awrams.utils import datetools as dt\n",
    "from awrams.utils.gis import ShapefileDB\n",
    "from awrams.utils.io.data_mapping import SplitFileManager\n",
    "from awrams.utils.processing.extract import extract_from_filemanager"
   ]
  },
  {
   "cell_type": "code",
   "execution_count": null,
   "metadata": {},
   "outputs": [],
   "source": [
    "sys_settings = config_manager.get_system_profile().get_settings()\n",
    "base_data_path = sys_settings['DATA_PATHS']['BASE_DATA']\n",
    "catchment_shapefile = os.path.join(base_data_path, 'spatial/shapefiles/Final_list_all_attributes.shp')\n",
    "\n",
    "catchments = ShapefileDB(catchment_shapefile)"
   ]
  },
  {
   "cell_type": "markdown",
   "metadata": {},
   "source": [
    "### 2.  Extract and spatially aggregate catchments"
   ]
  },
  {
   "cell_type": "code",
   "execution_count": null,
   "metadata": {},
   "outputs": [],
   "source": [
    "training_folder = sys_settings['CLIMATE_DATASETS']['TRAINING']['FORCING']['PATH']\n",
    "training_folder"
   ]
  },
  {
   "cell_type": "code",
   "execution_count": null,
   "metadata": {},
   "outputs": [],
   "source": [
    "# Capture files of the same variable\n",
    "_, var_name = sys_settings['CLIMATE_DATASETS']['TRAINING']['FORCING']['MAPPING']['precip']\n",
    "\n",
    "data_path = os.path.join(training_folder, var_name)\n",
    "pattern = data_path + '/%s*' % var_name\n",
    "\n",
    "sfm = SplitFileManager.open_existing(data_path, pattern, var_name) # The sfm tool needs the full path to work"
   ]
  },
  {
   "cell_type": "code",
   "execution_count": null,
   "metadata": {},
   "outputs": [],
   "source": [
    "# Specify period, parent extent  and collate all extents\n",
    "period = dt.dates('jul 2010 - jun 2011')\n",
    "\n",
    "georef = sfm.get_extent()\n",
    "\n",
    "extent_map = {'204007':catchments.get_extent_by_field('StationID','204007',georef),\n",
    "              '421103':catchments.get_extent_by_field('StationID','421103',georef),\n",
    "              '003303':catchments.get_extent_by_field('StationID','003303',georef)}"
   ]
  },
  {
   "cell_type": "code",
   "execution_count": null,
   "metadata": {},
   "outputs": [],
   "source": [
    "# Extract the data\n",
    "df = extract_from_filemanager(sfm, extent_map, period)\n",
    "df"
   ]
  },
  {
   "cell_type": "code",
   "execution_count": null,
   "metadata": {},
   "outputs": [],
   "source": [
    "ax = plt.figure(figsize=(18, 6)).gca()\n",
    "df.plot(ax=ax)"
   ]
  },
  {
   "cell_type": "markdown",
   "metadata": {},
   "source": [
    "### 3. Extract catchment gridded data"
   ]
  },
  {
   "cell_type": "markdown",
   "metadata": {},
   "source": [
    "Requires osgeo.ogr to process shapefiles"
   ]
  },
  {
   "cell_type": "code",
   "execution_count": null,
   "metadata": {},
   "outputs": [],
   "source": [
    "## Specify date\n",
    "\n",
    "period = dt.dates('jul 2010')"
   ]
  },
  {
   "cell_type": "code",
   "execution_count": null,
   "metadata": {},
   "outputs": [],
   "source": [
    "# Specify catchment\n",
    "\n",
    "catchment = extent_map['421103']\n",
    "catchment.cell_count"
   ]
  },
  {
   "cell_type": "code",
   "execution_count": null,
   "metadata": {},
   "outputs": [],
   "source": [
    "data = sfm.get_data(period, catchment)\n",
    "\n",
    "sfm.close_all()\n",
    "\n",
    "data.shape, catchment.cell_count # You will note that the data extracted is for the rectangle containing the catchment"
   ]
  },
  {
   "cell_type": "code",
   "execution_count": null,
   "metadata": {},
   "outputs": [],
   "source": [
    "plt.figure(figsize=(6, 8))\n",
    "im = plt.imshow(data.mean(axis=0), interpolation='None', cmap=plt.get_cmap('Blues'))\n",
    "plt.colorbar(im)"
   ]
  },
  {
   "cell_type": "code",
   "execution_count": null,
   "metadata": {},
   "outputs": [],
   "source": [
    "type(data)"
   ]
  },
  {
   "cell_type": "code",
   "execution_count": null,
   "metadata": {},
   "outputs": [],
   "source": [
    "## On the list to do: Insert shapefile over the grid for visualisation purposes\n",
    "## At the moment can be done using a bit of Python"
   ]
  },
  {
   "cell_type": "markdown",
   "metadata": {},
   "source": [
    "### 4. Exercise"
   ]
  },
  {
   "cell_type": "markdown",
   "metadata": {},
   "source": [
    "#### 4.1 Extract any extent from your own shapefile\n",
    "Put together the extent definition from the fundamentals and undertake extraction process as above"
   ]
  },
  {
   "cell_type": "markdown",
   "metadata": {},
   "source": [
    "#### 4.2  Save data into netcdf file\n",
    "Follow: http://pyhogs.github.io/intro_netcdf4.html"
   ]
  },
  {
   "cell_type": "code",
   "execution_count": null,
   "metadata": {},
   "outputs": [],
   "source": []
  }
 ],
 "metadata": {
  "kernelspec": {
   "display_name": "Python 3",
   "language": "python",
   "name": "python3"
  },
  "language_info": {
   "codemirror_mode": {
    "name": "ipython",
    "version": 3
   },
   "file_extension": ".py",
   "mimetype": "text/x-python",
   "name": "python",
   "nbconvert_exporter": "python",
   "pygments_lexer": "ipython3",
   "version": "3.6.7"
  }
 },
 "nbformat": 4,
 "nbformat_minor": 1
}
