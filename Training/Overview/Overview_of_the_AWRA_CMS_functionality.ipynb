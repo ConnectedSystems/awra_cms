{
 "cells": [
  {
   "cell_type": "code",
   "execution_count": null,
   "metadata": {
    "collapsed": false
   },
   "outputs": [],
   "source": [
    "%matplotlib inline"
   ]
  },
  {
   "cell_type": "markdown",
   "metadata": {},
   "source": [
    "# Overview Tasmania example of the AWRA-CMS functionality\n",
    "\n",
    "The purpose of this notebook is to give you an overview of the AWRA-CMS functionality for a given example. "
   ]
  },
  {
   "cell_type": "markdown",
   "metadata": {},
   "source": [
    "We have previously given a description of the AWRA-L model in python in the notebook: [1.3_AWRA-L_deconstructed_-_Python_version_of_AWRA-L]\n",
    "[1.3_AWRA-L_deconstructed_-_Python_version_of_AWRA-L]: /tree/Training/Basics/1.3_AWRA-L_deconstructed_-_Python_version_of_AWRA-L.ipynb. \n",
    "\n",
    "A quick refresher of the components of the AWRA MS:\n",
    "- **Simulation** *Module:* **awrams.simulation** <br> A specified run of the AWRA model over a time period and spatial extent\n",
    "- **Calibration** *Module:* **awrams.calibration** <br> Using an optimisation algorithm and an objective function to obtain the optimum set of AWRA-L model parameters for a given time period, extent, etc.\n",
    "- **Visualisation** *Module:* **awrams.visualisation**<br> A figure showing AWRA-L inputs and outputs as maps and time-series\n",
    "- **Benchmarking** *Module:* **awrams.benchmarking**<br> Validating model outputs compared to observed data or other model simulations\n",
    "- **Extraction** <br> Extraction of point or catchment average data from the AWRA-L grids\n",
    "- **Utilities** *Module:* **awrams.utils** <br> Functionality that is required in more than one of the AWRA MS components \n",
    "\n",
    "\n",
    "Let's also define some key terms:\n",
    "- **Nodegraph** \n",
    "    - Node - a single input component \n",
    "    - Graph - the order that these input components are defined\n",
    "    - In the AWRA MS we have an 'input nodegraph' and an 'output nodegraph'\n",
    "- **Forcing data** <br> \n",
    "    Gridded inputs to our model (i.e. precipitation, solar exposure, max temperature, min temperature\n",
    "- **Climatology** <br>\n",
    "    Mean climate state for each day/month of the year used by the AWRA MS to infill gaps in the forcing data\n",
    "- **Initial states** <br>\n",
    "    The AWRA-L model has a number of states that change from one time-step to the next (i.e. mleaf, s0, ss, sd, sg, sr). Without specifying these the default settings assume all soil and ground stores are half-full.\n",
    "- **Spatial extent** <br> This is the area that we will undertake a calibration or simulation or visualisation   "
   ]
  },
  {
   "cell_type": "markdown",
   "metadata": {},
   "source": [
    "For more definition of the AWRA-CMS see the user guide: [AWRA-CMS User guide ]\n",
    "[AWRA-CMS User guide ]: /tree/Training/AWRA_Landscape_Community_Modelling_System_User_Guide_2017.pdf"
   ]
  },
  {
   "cell_type": "markdown",
   "metadata": {},
   "source": [
    "**Tasmania example:**<br>\n",
    "Rather than using a simulation from the whole continent, we would like to undertake a model calibration using a set of five Tasmanian catchments only (IDs: 306119, 308145, 312061, 318150, 318852). Once we have calibrated the model we will simulate over Tasmania and visualise these results.\n",
    "\n",
    "The notebook follows a typical workflow of calibration, simulation, benchmarking and visualisation with the following steps: \n",
    "1. Import required libraries\n",
    "2. Configure model\n",
    "3. Calibrate the AWRA-L model to the Tasmanian catchments\n",
    "4. Simulation over Tasmania\n",
    "5. Benchmark to standard AWRA-L calibration\n",
    "6. Visualisation of results\n",
    "\n",
    "*After this example overview session we will go through all of these steps in much greater detail during the upcoming sessions.*"
   ]
  },
  {
   "cell_type": "markdown",
   "metadata": {},
   "source": [
    "***"
   ]
  },
  {
   "cell_type": "markdown",
   "metadata": {},
   "source": [
    "## 1. Import required libraries"
   ]
  },
  {
   "cell_type": "code",
   "execution_count": null,
   "metadata": {
    "collapsed": false
   },
   "outputs": [],
   "source": [
    "# Get os path\n",
    "from os.path import join\n",
    "\n",
    "# import various python modules\n",
    "import pandas as pd\n",
    "import h5py\n",
    "from matplotlib import pyplot as plt\n",
    "\n",
    "# Import AWRA MS utilities\n",
    "from awrams.utils import config_manager, extents, gis\n",
    "from awrams.utils import datetools as dt\n",
    "from awrams.utils.gis import ShapefileDB\n",
    "from awrams.utils.nodegraph import nodes, graph\n",
    "\n",
    "# Import AWRA MS calibration\n",
    "from awrams.calibration import cluster, support\n",
    "from awrams.calibration.launch_calibration import run_from_pickle\n",
    "from awrams.calibration.objectives import test_objectives as tobj\n",
    "from awrams.calibration.optimizers import sce"
   ]
  },
  {
   "cell_type": "code",
   "execution_count": null,
   "metadata": {
    "collapsed": false
   },
   "outputs": [],
   "source": [
    "# Get the base data path from the system profile\n",
    "sys_profile = config_manager.get_system_profile()\n",
    "sys_settings = sys_profile.get_settings()\n",
    "\n",
    "base_data_path = sys_settings['DATA_PATHS']['BASE_DATA']"
   ]
  },
  {
   "cell_type": "markdown",
   "metadata": {},
   "source": [
    "### Questions?"
   ]
  },
  {
   "cell_type": "markdown",
   "metadata": {},
   "source": [
    "## 2. Configure model"
   ]
  },
  {
   "cell_type": "code",
   "execution_count": null,
   "metadata": {
    "collapsed": false,
    "scrolled": true
   },
   "outputs": [],
   "source": [
    "# Instantiate the AWRA-L model with default model settings\n",
    "model_profile = config_manager.get_model_profile('awral', 'v6_default')\n",
    "awral = model_profile.get_model()"
   ]
  },
  {
   "cell_type": "code",
   "execution_count": null,
   "metadata": {
    "collapsed": false
   },
   "outputs": [],
   "source": [
    "#Specify running and calibration period\n",
    "run_period = dt.dates('2009 - 2011')\n",
    "eval_period = dt.dates('2010 - 2011')"
   ]
  },
  {
   "cell_type": "markdown",
   "metadata": {},
   "source": [
    "### 2.1 Specify calibration catchments"
   ]
  },
  {
   "cell_type": "code",
   "execution_count": null,
   "metadata": {
    "collapsed": false
   },
   "outputs": [],
   "source": [
    "# Set list of catchment ids\n",
    "id_list = ['306119', '308145', '312061', '318150', '318852']"
   ]
  },
  {
   "cell_type": "code",
   "execution_count": null,
   "metadata": {
    "collapsed": false,
    "scrolled": true
   },
   "outputs": [],
   "source": [
    "# Get the default extent of the calibration (This is the whole of Australia capturing all catchments)\n",
    "catchments_shapefile = join(base_data_path, 'spatial/shapefiles/Final_list_all_attributes.shp')\n",
    "calvalshapefile = ShapefileDB(catchments_shapefile)\n",
    "def_extent = extents.get_default_extent() \n",
    "\n",
    "## Create a dict with multiple Tasmanian catchment extents\n",
    "cal_dict = {}\n",
    "for catchment_id in id_list:\n",
    "    cal_dict[catchment_id] = calvalshapefile.get_extent_by_field(\n",
    "            'StationID', catchment_id.zfill(6), parent_extent=def_extent)\n",
    "\n",
    "cal_dict"
   ]
  },
  {
   "cell_type": "code",
   "execution_count": null,
   "metadata": {
    "collapsed": false
   },
   "outputs": [],
   "source": [
    "# Visualise the Tasmanian catchment locations (Note that some of these are quite small to see)\n",
    "import awrams.visualisation.results as res\n",
    "import awrams.visualisation.vis as vis\n",
    "\n",
    "vis.show_extent(cal_dict['312061'],def_extent)\n",
    "vis.show_extent(cal_dict['318150'],def_extent)\n",
    "vis.show_extent(cal_dict['306119'],def_extent)\n",
    "vis.show_extent(cal_dict['318852'],def_extent)\n",
    "vis.show_extent(cal_dict['308145'],def_extent)"
   ]
  },
  {
   "cell_type": "code",
   "execution_count": null,
   "metadata": {
    "collapsed": true
   },
   "outputs": [],
   "source": [
    "# Specify the location of the observed data\n",
    "observations = dict(qtot=base_data_path + '/observations/runoff/awrams_v5_cal_qobs.csv')"
   ]
  },
  {
   "cell_type": "markdown",
   "metadata": {},
   "source": [
    "### 2.2 Specify input mapping (input nodegraph)"
   ]
  },
  {
   "cell_type": "code",
   "execution_count": null,
   "metadata": {
    "collapsed": false
   },
   "outputs": [],
   "source": [
    "input_map = model_profile.get_input_mapping()"
   ]
  },
  {
   "cell_type": "code",
   "execution_count": null,
   "metadata": {
    "collapsed": true
   },
   "outputs": [],
   "source": [
    "def insert_solar_climatology(imap):\n",
    "    from awrams.utils.nodegraph import nodes\n",
    "\n",
    "    climatologies = {\n",
    "        'solar': (\n",
    "            base_data_path + '/training/simulation/climatology/Rad_1990_2009.nc', 'solar_exposure_day'\n",
    "        )\n",
    "    }\n",
    "\n",
    "    imap = imap.copy()\n",
    "\n",
    "    imap['solar_f_orig'] = imap['solar_f'] #'Move' the forcing node to a new name\n",
    "    imap['solar_climatology_f'] = nodes.monthly_climatology(*climatologies['solar']) # Loads monthly climatology from default file\n",
    "\n",
    "    # Replace 'solar_f' with infilled data\n",
    "    # This ensures that any other nodes in the graph who use solar_f as input will automatically receive the infilled data\n",
    "    # nodes.gap_filler takes the first argument as 'gappy' data, and in infills with data from the second argument\n",
    "    imap['solar_f'] = nodes.gap_filler('solar_f_orig', 'solar_climatology_f')\n",
    "    \n",
    "    return imap"
   ]
  },
  {
   "cell_type": "code",
   "execution_count": null,
   "metadata": {
    "collapsed": false
   },
   "outputs": [],
   "source": [
    "input_map = insert_solar_climatology(input_map)"
   ]
  },
  {
   "cell_type": "code",
   "execution_count": null,
   "metadata": {
    "collapsed": false
   },
   "outputs": [],
   "source": [
    "input_map"
   ]
  },
  {
   "cell_type": "markdown",
   "metadata": {},
   "source": [
    "### Questions?"
   ]
  },
  {
   "cell_type": "markdown",
   "metadata": {},
   "source": [
    "## 3. Calibrate the AWRA-L model to the Tasmanian catchments"
   ]
  },
  {
   "cell_type": "code",
   "execution_count": null,
   "metadata": {
    "collapsed": false
   },
   "outputs": [],
   "source": [
    "#Select optimisation algorithm\n",
    "evolver_spec = support.EvolverSpec(sce.CCEvolver,\n",
    "                                   evolver_run_args=dict(n_offspring=1, n_evolutions=5, elitism=2.0))\n",
    "\n",
    "# Please note that these specifications are designed to reduce runtime for demo purposes\n",
    "optimizer_spec = support.OptimizerSpec(sce.ShuffledOptimizer,\n",
    "                                       evolver_spec=evolver_spec,\n",
    "                                       n_complexes=3, # (Initial) number of complexes\n",
    "                                       max_nsni=300, # Maximum number of shuffles without improvement\n",
    "                                       min_imp = 0.1, # Minimum proportion of improvement to occure over max_nsni\n",
    "                                       min_complexes=1, # Mininum number of complexes\n",
    "                                       max_eval=1000) # Maximum model evaluations before terminating\n",
    "\n",
    "#optimizer_spec = OptimizerSpec(SobolOptimizer,threshold = 0.005,max_eval =10000)"
   ]
  },
  {
   "cell_type": "code",
   "execution_count": null,
   "metadata": {
    "collapsed": true
   },
   "outputs": [],
   "source": [
    "#Import objective function\n",
    "local_objfspec = support.ObjectiveFunctionSpec(tobj.TestLocalSingle)  # this function to load up the ObjFunc comes from awrams.calibration.support\n",
    "global_objfspec = tobj.TestGlobalSingle"
   ]
  },
  {
   "cell_type": "code",
   "execution_count": null,
   "metadata": {
    "collapsed": false
   },
   "outputs": [],
   "source": [
    "objective_spec = support.ObjectiveSpec(global_objfspec, local_objfspec, observations, eval_period)"
   ]
  },
  {
   "cell_type": "code",
   "execution_count": null,
   "metadata": {
    "collapsed": true
   },
   "outputs": [],
   "source": [
    "# Build spec dict\n",
    "# Get the input mapping and model\n",
    "node_mapping = input_map\n",
    "model = awral#callable_to_funcspec(awral)"
   ]
  },
  {
   "cell_type": "code",
   "execution_count": null,
   "metadata": {
    "collapsed": false
   },
   "outputs": [],
   "source": [
    "# Create the calibration specification dictionary\n",
    "\n",
    "'''\n",
    "User specifiable calibration description\n",
    "'''\n",
    "cal_spec = {}\n",
    "cal_spec['optimizer_spec'] = optimizer_spec\n",
    "cal_spec['objective_spec'] = objective_spec\n",
    "cal_spec['extent_map'] = cal_dict\n",
    "cal_spec['run_period'] = run_period\n",
    "cal_spec['eval_period'] = eval_period\n",
    "cal_spec['model'] = model\n",
    "cal_spec['node_mapping'] = node_mapping\n",
    "#cal_spec['logfile'] = '/short/er4/dss548/calibration_res.h5'\n",
    "cal_spec['logfile'] = './tas_cal.h5'"
   ]
  },
  {
   "cell_type": "code",
   "execution_count": null,
   "metadata": {
    "collapsed": false,
    "scrolled": true
   },
   "outputs": [],
   "source": [
    "# Save a file containing all the calibration specifications\n",
    "nnodes = 1\n",
    "ncores = 4\n",
    "cluster.build_pickle_from_spec(cal_spec, ncores, nnodes, 'tas_cal.pkl')"
   ]
  },
  {
   "cell_type": "code",
   "execution_count": null,
   "metadata": {
    "collapsed": false,
    "scrolled": true
   },
   "outputs": [],
   "source": [
    "print(\"Depending on the specifications of your machine the calibration will run for some time\")\n",
    "cal = run_from_pickle('./tas_cal.pkl') # run the calibration"
   ]
  },
  {
   "cell_type": "code",
   "execution_count": null,
   "metadata": {
    "collapsed": false
   },
   "outputs": [],
   "source": [
    "# Obtain the best (minimum score) parameter set\n",
    "cr = support.CalibrationResults('./tas_cal.h5')"
   ]
  },
  {
   "cell_type": "code",
   "execution_count": null,
   "metadata": {
    "collapsed": false
   },
   "outputs": [],
   "source": [
    "best_params = cr.get_best_paramset()\n",
    "new_params = pd.DataFrame(best_params, columns=['value'])\n",
    "new_params['MemberName'] = new_params.index"
   ]
  },
  {
   "cell_type": "code",
   "execution_count": null,
   "metadata": {
    "collapsed": false
   },
   "outputs": [],
   "source": [
    "# Run the model with new parameter set. Change the parameter set in the input map\n",
    "def change_model_parameters(imap, param_df):\n",
    "    \"\"\"\n",
    "    the intent of this function is to replace the values in imap (your current configuration) \n",
    "    by values in a new parameter dataframe (param_df)\n",
    "    \"\"\"\n",
    "    \n",
    "    import pandas as pd\n",
    "    \n",
    "    variable_names = param_df['MemberName']\n",
    "    variable_value = param_df['value']\n",
    "      \n",
    "    for k,v in zip(variable_names, variable_value):\n",
    "        imap[k.lower()].args['value'] = v\n",
    "        \n",
    "change_model_parameters(input_map, new_params)"
   ]
  },
  {
   "cell_type": "markdown",
   "metadata": {},
   "source": [
    "### Questions?"
   ]
  },
  {
   "cell_type": "markdown",
   "metadata": {},
   "source": [
    "## 4. Simulate over Tasmania"
   ]
  },
  {
   "cell_type": "code",
   "execution_count": null,
   "metadata": {
    "collapsed": false
   },
   "outputs": [],
   "source": [
    "#Load up a  server simulator to run the model to write outputs out\n",
    "from awrams.simulation import server"
   ]
  },
  {
   "cell_type": "code",
   "execution_count": null,
   "metadata": {
    "collapsed": true
   },
   "outputs": [],
   "source": [
    "# Confirm output settings\n",
    "omap = awral.get_output_mapping()\n",
    "\n",
    "def build_output_mapping(output_map, outpath):\n",
    "    from awrams.utils.nodegraph import nodes\n",
    "   \n",
    "    FILE_OUTPUT_VARS = ['s0', 'ss', 'sd', 'qtot', 'etot']\n",
    "    \n",
    "    for f in FILE_OUTPUT_VARS:\n",
    "            output_map[f + '_ncsave'] = nodes.write_to_annual_ncfile(outpath, f)\n",
    "\n",
    "    return output_map"
   ]
  },
  {
   "cell_type": "code",
   "execution_count": null,
   "metadata": {
    "collapsed": true
   },
   "outputs": [],
   "source": [
    "# Set simulation output path\n",
    "outpath = './_results_tas_cal/'\n",
    "omap = build_output_mapping(omap, outpath)"
   ]
  },
  {
   "cell_type": "code",
   "execution_count": null,
   "metadata": {
    "collapsed": false
   },
   "outputs": [],
   "source": [
    "from awrams.utils import datetools as dt\n",
    "period = dt.dates('2010 - 2011')"
   ]
  },
  {
   "cell_type": "code",
   "execution_count": null,
   "metadata": {
    "collapsed": false
   },
   "outputs": [],
   "source": [
    "## The functionality to model multiple extents at a time is coming. In the meantime, either:\n",
    "## model 1 catchment at a time or model the entire bounding box..ie. Tasmania coords[-39.5:-44,143.5:149]\n",
    "sim = server.SimulationServer(awral)\n",
    "sim.run(input_map, omap, period, def_extent.icoords[-39.5:-44, 143.5:149])\n",
    "# You may get a netCDF error, if so you may need to delete the previous simulation \"./_results_tas_cal/\" and then try again"
   ]
  },
  {
   "cell_type": "code",
   "execution_count": null,
   "metadata": {
    "collapsed": false
   },
   "outputs": [],
   "source": [
    "# Extract outputs into csv's for each catchment\n",
    "import os\n",
    "import pandas as pd\n",
    "from awrams.utils import extents\n",
    "from awrams.utils.gis import ShapefileDB\n",
    "from awrams.utils.io.data_mapping import SplitFileManager\n",
    "from awrams.utils.processing.extract import extract_from_filemanager\n",
    "\n",
    "catchments_shapefile = join(base_data_path, 'spatial/shapefiles/Final_list_all_attributes.shp')\n",
    "catchments = ShapefileDB(catchments_shapefile)\n",
    "\n",
    "var_name = 'qtot'\n",
    "model_data_path = os.getcwd() + '/_results_tas_cal/'\n",
    "period = dt.dates('2010 - 2011')\n",
    "\n",
    "pattern = model_data_path + '/%s*' % var_name\n",
    "sfm = SplitFileManager.open_existing(model_data_path, pattern, var_name)\n",
    "georef = sfm.get_extent()\n",
    "    \n",
    "df = extract_from_filemanager(sfm, cal_dict, period)\n",
    "df"
   ]
  },
  {
   "cell_type": "code",
   "execution_count": null,
   "metadata": {
    "collapsed": false
   },
   "outputs": [],
   "source": [
    "df.plot()"
   ]
  },
  {
   "cell_type": "code",
   "execution_count": null,
   "metadata": {
    "collapsed": false
   },
   "outputs": [],
   "source": [
    "df.to_csv('./tas_cal_qtot.csv')"
   ]
  },
  {
   "cell_type": "markdown",
   "metadata": {},
   "source": [
    "### Questions?"
   ]
  },
  {
   "cell_type": "markdown",
   "metadata": {},
   "source": [
    "## 5. Benchmark to observed data and a standard AWRA-L calibration"
   ]
  },
  {
   "cell_type": "code",
   "execution_count": null,
   "metadata": {
    "collapsed": false
   },
   "outputs": [],
   "source": [
    "# Import Benchmarking module\n",
    "from awrams.benchmarking.benchmark import Benchmark\n",
    "obs_csv = base_data_path + '/observations/runoff/awrams_v5_cal_qobs.csv'"
   ]
  },
  {
   "cell_type": "code",
   "execution_count": null,
   "metadata": {
    "collapsed": false
   },
   "outputs": [],
   "source": [
    "# Define Benchmarking object\n",
    "q = Benchmark(\"QObs\", \"runoff\")\n",
    "\n",
    "# Specify benchmarking period\n",
    "q.period = dt.dates(\"2010 -2011\")"
   ]
  },
  {
   "cell_type": "code",
   "execution_count": null,
   "metadata": {
    "collapsed": false
   },
   "outputs": [],
   "source": [
    "# Add observations and catchment subset [the id list needs to be present in the column names of the observation file]\n",
    "q.load(obs_csv, id_list=id_list)"
   ]
  },
  {
   "cell_type": "code",
   "execution_count": null,
   "metadata": {
    "collapsed": false
   },
   "outputs": [],
   "source": [
    "## Add model outputs\n",
    "## Default AWRAL calibration\n",
    "csv_data = base_data_path + '/training/benchmarking/runoff/AWRAMSI_v5QES_AWRAL_qtot_avg.csv'\n",
    "q.add_model(\"AWRAMSI_v5_0_AWRAL\", data_csv=csv_data)\n",
    "\n",
    "## Regional Tasmanian calibration\n",
    "csv_data = './tas_cal_qtot.csv'\n",
    "q.add_model(\"Tas_Cal\", data_csv=csv_data)"
   ]
  },
  {
   "cell_type": "code",
   "execution_count": null,
   "metadata": {
    "collapsed": false
   },
   "outputs": [],
   "source": [
    "# View benchmarking statistics from both the standard AWRA calibration (AWRAMSI_v5_0_AWRAL) \n",
    "# and our Tasmanian calibration (Tas_Cal)\n",
    "q.benchmark.stat_percentiles('nse', freq='d')"
   ]
  },
  {
   "cell_type": "code",
   "execution_count": null,
   "metadata": {
    "collapsed": false
   },
   "outputs": [],
   "source": [
    "q.benchmark.stat(statistic='nse')"
   ]
  },
  {
   "cell_type": "code",
   "execution_count": null,
   "metadata": {
    "collapsed": false
   },
   "outputs": [],
   "source": [
    "q.benchmark.stat() "
   ]
  },
  {
   "cell_type": "code",
   "execution_count": null,
   "metadata": {
    "collapsed": false
   },
   "outputs": [],
   "source": [
    "# plot a timeseries of observed (black) and predicted streamflow from both the standard \n",
    "# AWRA calibration (AWRAMSI_v5_0_AWRAL) and our Tasmanian calibration (Tas_Cal)\n",
    "p = q.benchmark.plot_timeseries('306119', ylim=[0,50], freq = 'd')"
   ]
  },
  {
   "cell_type": "markdown",
   "metadata": {},
   "source": [
    "### Questions?"
   ]
  },
  {
   "cell_type": "markdown",
   "metadata": {},
   "source": [
    "## 6. Visualise over the spatial extent (Tasmania)"
   ]
  },
  {
   "cell_type": "code",
   "execution_count": null,
   "metadata": {
    "collapsed": true
   },
   "outputs": [],
   "source": [
    "# Import AWRA MS modules\n",
    "import awrams.visualisation.vis as vis\n",
    "import awrams.visualisation.results as res\n",
    "import awrams.utils.extents as extents"
   ]
  },
  {
   "cell_type": "code",
   "execution_count": null,
   "metadata": {
    "collapsed": true
   },
   "outputs": [],
   "source": [
    "# Load the results from the simulation\n",
    "results = res.load_results('./_results_tas_cal')"
   ]
  },
  {
   "cell_type": "code",
   "execution_count": null,
   "metadata": {
    "collapsed": false
   },
   "outputs": [],
   "source": [
    "# Here we visualise all of the outputs, on a single day, over the entire spatial extent of the simulation\n",
    "results[:,'march 2010',:].spatial()"
   ]
  },
  {
   "cell_type": "markdown",
   "metadata": {},
   "source": [
    "### Questions?"
   ]
  },
  {
   "cell_type": "markdown",
   "metadata": {},
   "source": [
    "## That finishes a quick example of some of the AWRA Community Modelling system functionality. Throughout the rest of the course we will focus on individual elements in greater detail to highlight the flexibility of the modeling system for various applications."
   ]
  },
  {
   "cell_type": "markdown",
   "metadata": {},
   "source": [
    "## Any other questions?"
   ]
  }
 ],
 "metadata": {
  "kernelspec": {
   "display_name": "Python 3",
   "language": "python",
   "name": "python3"
  },
  "language_info": {
   "codemirror_mode": {
    "name": "ipython",
    "version": 3
   },
   "file_extension": ".py",
   "mimetype": "text/x-python",
   "name": "python",
   "nbconvert_exporter": "python",
   "pygments_lexer": "ipython3",
   "version": "3.4.5"
  }
 },
 "nbformat": 4,
 "nbformat_minor": 2
}
